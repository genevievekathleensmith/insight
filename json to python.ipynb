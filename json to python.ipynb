{
 "metadata": {
  "name": "",
  "signature": "sha256:efcaf7db0f841a0153d415bbc3a6442d84f195bb92d4d9644a2aa4875dfff1aa"
 },
 "nbformat": 3,
 "nbformat_minor": 0,
 "worksheets": [
  {
   "cells": [
    {
     "cell_type": "code",
     "collapsed": false,
     "input": [
      "import json"
     ],
     "language": "python",
     "metadata": {},
     "outputs": [],
     "prompt_number": 1
    },
    {
     "cell_type": "code",
     "collapsed": false,
     "input": [
      "import pandas as pd"
     ],
     "language": "python",
     "metadata": {},
     "outputs": [],
     "prompt_number": 2
    },
    {
     "cell_type": "code",
     "collapsed": false,
     "input": [
      "import scipy as sp"
     ],
     "language": "python",
     "metadata": {},
     "outputs": [],
     "prompt_number": 3
    },
    {
     "cell_type": "code",
     "collapsed": false,
     "input": [
      "import matplotlib.pyplot as plt"
     ],
     "language": "python",
     "metadata": {},
     "outputs": [],
     "prompt_number": 4
    },
    {
     "cell_type": "markdown",
     "metadata": {},
     "source": []
    },
    {
     "cell_type": "code",
     "collapsed": false,
     "input": [
      "json_data = open('comments_typo_fixed.json')\n",
      "data = json.load(json_data)"
     ],
     "language": "python",
     "metadata": {},
     "outputs": [],
     "prompt_number": 5
    },
    {
     "cell_type": "code",
     "collapsed": false,
     "input": [
      "data[0]"
     ],
     "language": "python",
     "metadata": {},
     "outputs": [
      {
       "metadata": {},
       "output_type": "pyout",
       "prompt_number": 69,
       "text": [
        "{u'applicant': u'A Hamill',\n",
        " u'city': u'Jonesborough',\n",
        " u'comment': u'7521074355.txt \\nReclassify The Internet As A Common Carrier.  \\nPage 1',\n",
        " u'date': u'2014-02-21T05:00:00Z',\n",
        " u'state': u'TN',\n",
        " u'zip': u'37659'}"
       ]
      }
     ],
     "prompt_number": 69
    },
    {
     "cell_type": "code",
     "collapsed": false,
     "input": [
      "len(data)"
     ],
     "language": "python",
     "metadata": {},
     "outputs": [
      {
       "metadata": {},
       "output_type": "pyout",
       "prompt_number": 70,
       "text": [
        "100000"
       ]
      }
     ],
     "prompt_number": 70
    },
    {
     "cell_type": "code",
     "collapsed": false,
     "input": [
      "data[0].keys()"
     ],
     "language": "python",
     "metadata": {},
     "outputs": [
      {
       "metadata": {},
       "output_type": "pyout",
       "prompt_number": 71,
       "text": [
        "[u'comment', u'city', u'zip', u'applicant', u'state', u'date']"
       ]
      }
     ],
     "prompt_number": 71
    },
    {
     "cell_type": "code",
     "collapsed": false,
     "input": [
      "data[0]['comment']"
     ],
     "language": "python",
     "metadata": {},
     "outputs": [
      {
       "metadata": {},
       "output_type": "pyout",
       "prompt_number": 72,
       "text": [
        "u'7521074355.txt \\nReclassify The Internet As A Common Carrier.  \\nPage 1'"
       ]
      }
     ],
     "prompt_number": 72
    },
    {
     "cell_type": "code",
     "collapsed": false,
     "input": [
      "#[d['comment'] for d in data]"
     ],
     "language": "python",
     "metadata": {},
     "outputs": [],
     "prompt_number": 73
    },
    {
     "cell_type": "code",
     "collapsed": false,
     "input": [
      "zips = [d['zip'] for d in data]"
     ],
     "language": "python",
     "metadata": {},
     "outputs": [],
     "prompt_number": 74
    },
    {
     "cell_type": "code",
     "collapsed": false,
     "input": [
      "len(zips)"
     ],
     "language": "python",
     "metadata": {},
     "outputs": [
      {
       "metadata": {},
       "output_type": "pyout",
       "prompt_number": 75,
       "text": [
        "100000"
       ]
      }
     ],
     "prompt_number": 75
    },
    {
     "cell_type": "code",
     "collapsed": false,
     "input": [
      "states = [d['state'] for d in data]"
     ],
     "language": "python",
     "metadata": {},
     "outputs": [],
     "prompt_number": 76
    },
    {
     "cell_type": "code",
     "collapsed": false,
     "input": [
      "states[0:10]"
     ],
     "language": "python",
     "metadata": {},
     "outputs": [
      {
       "metadata": {},
       "output_type": "pyout",
       "prompt_number": 77,
       "text": [
        "[u'TN', u'CA', u'SC', u'CA', u'NY', u'VA', u'NY', u'MI', u'OR', u'CA']"
       ]
      }
     ],
     "prompt_number": 77
    },
    {
     "cell_type": "code",
     "collapsed": false,
     "input": [
      "info_keys = ['applicant','city','zip','state','date']"
     ],
     "language": "python",
     "metadata": {},
     "outputs": [],
     "prompt_number": 6
    },
    {
     "cell_type": "code",
     "collapsed": false,
     "input": [
      "info = pd.DataFrame(data, columns = info_keys)"
     ],
     "language": "python",
     "metadata": {},
     "outputs": [],
     "prompt_number": 7
    },
    {
     "cell_type": "code",
     "collapsed": false,
     "input": [
      "type(info)"
     ],
     "language": "python",
     "metadata": {},
     "outputs": [
      {
       "metadata": {},
       "output_type": "pyout",
       "prompt_number": 8,
       "text": [
        "pandas.core.frame.DataFrame"
       ]
      }
     ],
     "prompt_number": 8
    },
    {
     "cell_type": "code",
     "collapsed": false,
     "input": [
      "info[:5]"
     ],
     "language": "python",
     "metadata": {},
     "outputs": [
      {
       "html": [
        "<div style=\"max-height:1000px;max-width:1500px;overflow:auto;\">\n",
        "<table border=\"1\" class=\"dataframe\">\n",
        "  <thead>\n",
        "    <tr style=\"text-align: right;\">\n",
        "      <th></th>\n",
        "      <th>applicant</th>\n",
        "      <th>city</th>\n",
        "      <th>zip</th>\n",
        "      <th>state</th>\n",
        "      <th>date</th>\n",
        "    </tr>\n",
        "  </thead>\n",
        "  <tbody>\n",
        "    <tr>\n",
        "      <th>0</th>\n",
        "      <td>                      A Hamill</td>\n",
        "      <td>  Jonesborough</td>\n",
        "      <td> 37659</td>\n",
        "      <td> TN</td>\n",
        "      <td> 2014-02-21T05:00:00Z</td>\n",
        "    </tr>\n",
        "    <tr>\n",
        "      <th>1</th>\n",
        "      <td>                Aaron Grossman</td>\n",
        "      <td> Mountain View</td>\n",
        "      <td> 94041</td>\n",
        "      <td> CA</td>\n",
        "      <td> 2014-02-21T05:00:00Z</td>\n",
        "    </tr>\n",
        "    <tr>\n",
        "      <th>2</th>\n",
        "      <td>                 Aaron Honore'</td>\n",
        "      <td>      Columbia</td>\n",
        "      <td> 29210</td>\n",
        "      <td> SC</td>\n",
        "      <td> 2014-02-21T05:00:00Z</td>\n",
        "    </tr>\n",
        "    <tr>\n",
        "      <th>3</th>\n",
        "      <td> Abraham Omorenimwen Oboruemuh</td>\n",
        "      <td>     Riverside</td>\n",
        "      <td> 92515</td>\n",
        "      <td> CA</td>\n",
        "      <td> 2014-02-21T05:00:00Z</td>\n",
        "    </tr>\n",
        "    <tr>\n",
        "      <th>4</th>\n",
        "      <td>                     Alan Boba</td>\n",
        "      <td>      Red Hook</td>\n",
        "      <td> 12571</td>\n",
        "      <td> NY</td>\n",
        "      <td> 2014-02-21T05:00:00Z</td>\n",
        "    </tr>\n",
        "  </tbody>\n",
        "</table>\n",
        "</div>"
       ],
       "metadata": {},
       "output_type": "pyout",
       "prompt_number": 9,
       "text": [
        "                       applicant           city    zip state  \\\n",
        "0                       A Hamill   Jonesborough  37659    TN   \n",
        "1                 Aaron Grossman  Mountain View  94041    CA   \n",
        "2                  Aaron Honore'       Columbia  29210    SC   \n",
        "3  Abraham Omorenimwen Oboruemuh      Riverside  92515    CA   \n",
        "4                      Alan Boba       Red Hook  12571    NY   \n",
        "\n",
        "                   date  \n",
        "0  2014-02-21T05:00:00Z  \n",
        "1  2014-02-21T05:00:00Z  \n",
        "2  2014-02-21T05:00:00Z  \n",
        "3  2014-02-21T05:00:00Z  \n",
        "4  2014-02-21T05:00:00Z  "
       ]
      }
     ],
     "prompt_number": 9
    },
    {
     "cell_type": "code",
     "collapsed": false,
     "input": [
      "info.describe()"
     ],
     "language": "python",
     "metadata": {},
     "outputs": [
      {
       "html": [
        "<div style=\"max-height:1000px;max-width:1500px;overflow:auto;\">\n",
        "<table border=\"1\" class=\"dataframe\">\n",
        "  <thead>\n",
        "    <tr style=\"text-align: right;\">\n",
        "      <th></th>\n",
        "      <th>applicant</th>\n",
        "      <th>city</th>\n",
        "      <th>zip</th>\n",
        "      <th>state</th>\n",
        "      <th>date</th>\n",
        "    </tr>\n",
        "  </thead>\n",
        "  <tbody>\n",
        "    <tr>\n",
        "      <th>count</th>\n",
        "      <td>  100000</td>\n",
        "      <td>   99847</td>\n",
        "      <td> 99817</td>\n",
        "      <td> 98705</td>\n",
        "      <td>                98719</td>\n",
        "    </tr>\n",
        "    <tr>\n",
        "      <th>unique</th>\n",
        "      <td>   88285</td>\n",
        "      <td>   14579</td>\n",
        "      <td> 17153</td>\n",
        "      <td>   211</td>\n",
        "      <td>                  225</td>\n",
        "    </tr>\n",
        "    <tr>\n",
        "      <th>top</th>\n",
        "      <td> Michael</td>\n",
        "      <td> Seattle</td>\n",
        "      <td> 94110</td>\n",
        "      <td>    CA</td>\n",
        "      <td> 2014-06-03T04:00:00Z</td>\n",
        "    </tr>\n",
        "    <tr>\n",
        "      <th>freq</th>\n",
        "      <td>      92</td>\n",
        "      <td>    1426</td>\n",
        "      <td>   187</td>\n",
        "      <td> 16051</td>\n",
        "      <td>                14750</td>\n",
        "    </tr>\n",
        "  </tbody>\n",
        "</table>\n",
        "</div>"
       ],
       "metadata": {},
       "output_type": "pyout",
       "prompt_number": 82,
       "text": [
        "       applicant     city    zip  state                  date\n",
        "count     100000    99847  99817  98705                 98719\n",
        "unique     88285    14579  17153    211                   225\n",
        "top      Michael  Seattle  94110     CA  2014-06-03T04:00:00Z\n",
        "freq          92     1426    187  16051                 14750"
       ]
      }
     ],
     "prompt_number": 82
    },
    {
     "cell_type": "code",
     "collapsed": false,
     "input": [
      "type(info)"
     ],
     "language": "python",
     "metadata": {},
     "outputs": [
      {
       "metadata": {},
       "output_type": "pyout",
       "prompt_number": 83,
       "text": [
        "pandas.core.frame.DataFrame"
       ]
      }
     ],
     "prompt_number": 83
    },
    {
     "cell_type": "code",
     "collapsed": false,
     "input": [
      "info.count()"
     ],
     "language": "python",
     "metadata": {},
     "outputs": [
      {
       "metadata": {},
       "output_type": "pyout",
       "prompt_number": 84,
       "text": [
        "applicant    100000\n",
        "city          99847\n",
        "zip           99817\n",
        "state         98705\n",
        "date          98719\n",
        "dtype: int64"
       ]
      }
     ],
     "prompt_number": 84
    },
    {
     "cell_type": "code",
     "collapsed": false,
     "input": [
      "info['state'].describe()"
     ],
     "language": "python",
     "metadata": {},
     "outputs": [
      {
       "metadata": {},
       "output_type": "pyout",
       "prompt_number": 85,
       "text": [
        "count     98705\n",
        "unique      211\n",
        "top          CA\n",
        "freq      16051\n",
        "dtype: object"
       ]
      }
     ],
     "prompt_number": 85
    },
    {
     "cell_type": "code",
     "collapsed": false,
     "input": [
      "#info.state.unique()"
     ],
     "language": "python",
     "metadata": {},
     "outputs": [],
     "prompt_number": 86
    },
    {
     "cell_type": "code",
     "collapsed": false,
     "input": [
      "state_counts = info.state.value_counts()"
     ],
     "language": "python",
     "metadata": {},
     "outputs": [],
     "prompt_number": 10
    },
    {
     "cell_type": "code",
     "collapsed": false,
     "input": [
      "type(state_counts[0])"
     ],
     "language": "python",
     "metadata": {},
     "outputs": [
      {
       "metadata": {},
       "output_type": "pyout",
       "prompt_number": 88,
       "text": [
        "numpy.int64"
       ]
      }
     ],
     "prompt_number": 88
    },
    {
     "cell_type": "code",
     "collapsed": false,
     "input": [
      "#state_counts\n",
      "#.sort()\n",
      "#state_counts"
     ],
     "language": "python",
     "metadata": {},
     "outputs": [],
     "prompt_number": 89
    },
    {
     "cell_type": "code",
     "collapsed": false,
     "input": [
      "#state_counts = state_counts[:49]\n",
      "#state_counts.plot(kind = 'bar')\n",
      "#len(state_counts)"
     ],
     "language": "python",
     "metadata": {},
     "outputs": [],
     "prompt_number": 90
    },
    {
     "cell_type": "code",
     "collapsed": false,
     "input": [
      "type(state_counts)\n",
      "counts_df = pd.DataFrame(state_counts)\n",
      "counts_df['state']=counts_df.index\n",
      "counts_df.columns = ['comments','state']\n",
      "#counts_df\n",
      "type(counts_df.comments[1])"
     ],
     "language": "python",
     "metadata": {},
     "outputs": [
      {
       "metadata": {},
       "output_type": "pyout",
       "prompt_number": 11,
       "text": [
        "numpy.int64"
       ]
      }
     ],
     "prompt_number": 11
    },
    {
     "cell_type": "code",
     "collapsed": false,
     "input": [
      "population = pd.read_csv('state_totals.csv',header=None)\n",
      "population.columns = ['state','population']\n",
      "len(population)\n",
      "#population"
     ],
     "language": "python",
     "metadata": {},
     "outputs": [
      {
       "metadata": {},
       "output_type": "pyout",
       "prompt_number": 12,
       "text": [
        "51"
       ]
      }
     ],
     "prompt_number": 12
    },
    {
     "cell_type": "code",
     "collapsed": false,
     "input": [
      "per_capita_comments = pd.merge(counts_df,population)\n",
      "#per_capita_comments"
     ],
     "language": "python",
     "metadata": {},
     "outputs": [],
     "prompt_number": 13
    },
    {
     "cell_type": "code",
     "collapsed": false,
     "input": [
      "per_capita_comments['percapita'] = per_capita_comments.comments/per_capita_comments.population"
     ],
     "language": "python",
     "metadata": {},
     "outputs": [],
     "prompt_number": 14
    },
    {
     "cell_type": "code",
     "collapsed": false,
     "input": [
      "import pymysql as mdb\n",
      "\n",
      "con = mdb.connect('localhost', 'root', '', 'states_percapita_db') #host, user, password, #database\n",
      "\n"
     ],
     "language": "python",
     "metadata": {},
     "outputs": [],
     "prompt_number": 17
    },
    {
     "cell_type": "code",
     "collapsed": false,
     "input": [
      "per_capita_comments.to_sql('percapita',con)\n"
     ],
     "language": "python",
     "metadata": {},
     "outputs": [
      {
       "ename": "DatabaseError",
       "evalue": "Execution failed on sql: SELECT name FROM sqlite_master WHERE type='table' AND name='percapita';",
       "output_type": "pyerr",
       "traceback": [
        "\u001b[0;31m---------------------------------------------------------------------------\u001b[0m\n\u001b[0;31mDatabaseError\u001b[0m                             Traceback (most recent call last)",
        "\u001b[0;32m<ipython-input-20-5237e6304661>\u001b[0m in \u001b[0;36m<module>\u001b[0;34m()\u001b[0m\n\u001b[0;32m----> 1\u001b[0;31m \u001b[0mper_capita_comments\u001b[0m\u001b[0;34m.\u001b[0m\u001b[0mto_sql\u001b[0m\u001b[0;34m(\u001b[0m\u001b[0;34m'percapita'\u001b[0m\u001b[0;34m,\u001b[0m\u001b[0mcon\u001b[0m\u001b[0;34m)\u001b[0m\u001b[0;34m\u001b[0m\u001b[0m\n\u001b[0m",
        "\u001b[0;32m/Users/genevievekathleensmith/Documents/insight/env/lib/python2.7/site-packages/pandas/core/generic.pyc\u001b[0m in \u001b[0;36mto_sql\u001b[0;34m(self, name, con, flavor, if_exists, index, index_label)\u001b[0m\n\u001b[1;32m    948\u001b[0m         sql.to_sql(\n\u001b[1;32m    949\u001b[0m             \u001b[0mself\u001b[0m\u001b[0;34m,\u001b[0m \u001b[0mname\u001b[0m\u001b[0;34m,\u001b[0m \u001b[0mcon\u001b[0m\u001b[0;34m,\u001b[0m \u001b[0mflavor\u001b[0m\u001b[0;34m=\u001b[0m\u001b[0mflavor\u001b[0m\u001b[0;34m,\u001b[0m \u001b[0mif_exists\u001b[0m\u001b[0;34m=\u001b[0m\u001b[0mif_exists\u001b[0m\u001b[0;34m,\u001b[0m \u001b[0mindex\u001b[0m\u001b[0;34m=\u001b[0m\u001b[0mindex\u001b[0m\u001b[0;34m,\u001b[0m\u001b[0;34m\u001b[0m\u001b[0m\n\u001b[0;32m--> 950\u001b[0;31m             index_label=index_label)\n\u001b[0m\u001b[1;32m    951\u001b[0m \u001b[0;34m\u001b[0m\u001b[0m\n\u001b[1;32m    952\u001b[0m     \u001b[0;32mdef\u001b[0m \u001b[0mto_pickle\u001b[0m\u001b[0;34m(\u001b[0m\u001b[0mself\u001b[0m\u001b[0;34m,\u001b[0m \u001b[0mpath\u001b[0m\u001b[0;34m)\u001b[0m\u001b[0;34m:\u001b[0m\u001b[0;34m\u001b[0m\u001b[0m\n",
        "\u001b[0;32m/Users/genevievekathleensmith/Documents/insight/env/lib/python2.7/site-packages/pandas/io/sql.pyc\u001b[0m in \u001b[0;36mto_sql\u001b[0;34m(frame, name, con, flavor, if_exists, index, index_label)\u001b[0m\n\u001b[1;32m    473\u001b[0m \u001b[0;34m\u001b[0m\u001b[0m\n\u001b[1;32m    474\u001b[0m     pandas_sql.to_sql(frame, name, if_exists=if_exists, index=index,\n\u001b[0;32m--> 475\u001b[0;31m                       index_label=index_label)\n\u001b[0m\u001b[1;32m    476\u001b[0m \u001b[0;34m\u001b[0m\u001b[0m\n\u001b[1;32m    477\u001b[0m \u001b[0;34m\u001b[0m\u001b[0m\n",
        "\u001b[0;32m/Users/genevievekathleensmith/Documents/insight/env/lib/python2.7/site-packages/pandas/io/sql.pyc\u001b[0m in \u001b[0;36mto_sql\u001b[0;34m(self, frame, name, if_exists, index, index_label)\u001b[0m\n\u001b[1;32m   1082\u001b[0m         table = PandasSQLTableLegacy(\n\u001b[1;32m   1083\u001b[0m             \u001b[0mname\u001b[0m\u001b[0;34m,\u001b[0m \u001b[0mself\u001b[0m\u001b[0;34m,\u001b[0m \u001b[0mframe\u001b[0m\u001b[0;34m=\u001b[0m\u001b[0mframe\u001b[0m\u001b[0;34m,\u001b[0m \u001b[0mindex\u001b[0m\u001b[0;34m=\u001b[0m\u001b[0mindex\u001b[0m\u001b[0;34m,\u001b[0m \u001b[0mif_exists\u001b[0m\u001b[0;34m=\u001b[0m\u001b[0mif_exists\u001b[0m\u001b[0;34m,\u001b[0m\u001b[0;34m\u001b[0m\u001b[0m\n\u001b[0;32m-> 1084\u001b[0;31m             index_label=index_label)\n\u001b[0m\u001b[1;32m   1085\u001b[0m         \u001b[0mtable\u001b[0m\u001b[0;34m.\u001b[0m\u001b[0minsert\u001b[0m\u001b[0;34m(\u001b[0m\u001b[0;34m)\u001b[0m\u001b[0;34m\u001b[0m\u001b[0m\n\u001b[1;32m   1086\u001b[0m \u001b[0;34m\u001b[0m\u001b[0m\n",
        "\u001b[0;32m/Users/genevievekathleensmith/Documents/insight/env/lib/python2.7/site-packages/pandas/io/sql.pyc\u001b[0m in \u001b[0;36m__init__\u001b[0;34m(self, name, pandas_sql_engine, frame, index, if_exists, prefix, index_label)\u001b[0m\n\u001b[1;32m    541\u001b[0m         \u001b[0;32mif\u001b[0m \u001b[0mframe\u001b[0m \u001b[0;32mis\u001b[0m \u001b[0;32mnot\u001b[0m \u001b[0mNone\u001b[0m\u001b[0;34m:\u001b[0m\u001b[0;34m\u001b[0m\u001b[0m\n\u001b[1;32m    542\u001b[0m             \u001b[0;31m# We want to write a frame\u001b[0m\u001b[0;34m\u001b[0m\u001b[0;34m\u001b[0m\u001b[0m\n\u001b[0;32m--> 543\u001b[0;31m             \u001b[0;32mif\u001b[0m \u001b[0mself\u001b[0m\u001b[0;34m.\u001b[0m\u001b[0mpd_sql\u001b[0m\u001b[0;34m.\u001b[0m\u001b[0mhas_table\u001b[0m\u001b[0;34m(\u001b[0m\u001b[0mself\u001b[0m\u001b[0;34m.\u001b[0m\u001b[0mname\u001b[0m\u001b[0;34m)\u001b[0m\u001b[0;34m:\u001b[0m\u001b[0;34m\u001b[0m\u001b[0m\n\u001b[0m\u001b[1;32m    544\u001b[0m                 \u001b[0;32mif\u001b[0m \u001b[0mif_exists\u001b[0m \u001b[0;34m==\u001b[0m \u001b[0;34m'fail'\u001b[0m\u001b[0;34m:\u001b[0m\u001b[0;34m\u001b[0m\u001b[0m\n\u001b[1;32m    545\u001b[0m                     \u001b[0;32mraise\u001b[0m \u001b[0mValueError\u001b[0m\u001b[0;34m(\u001b[0m\u001b[0;34m\"Table '%s' already exists.\"\u001b[0m \u001b[0;34m%\u001b[0m \u001b[0mname\u001b[0m\u001b[0;34m)\u001b[0m\u001b[0;34m\u001b[0m\u001b[0m\n",
        "\u001b[0;32m/Users/genevievekathleensmith/Documents/insight/env/lib/python2.7/site-packages/pandas/io/sql.pyc\u001b[0m in \u001b[0;36mhas_table\u001b[0;34m(self, name)\u001b[0m\n\u001b[1;32m   1092\u001b[0m         \u001b[0mquery\u001b[0m \u001b[0;34m=\u001b[0m \u001b[0mflavor_map\u001b[0m\u001b[0;34m.\u001b[0m\u001b[0mget\u001b[0m\u001b[0;34m(\u001b[0m\u001b[0mself\u001b[0m\u001b[0;34m.\u001b[0m\u001b[0mflavor\u001b[0m\u001b[0;34m)\u001b[0m\u001b[0;34m\u001b[0m\u001b[0m\n\u001b[1;32m   1093\u001b[0m \u001b[0;34m\u001b[0m\u001b[0m\n\u001b[0;32m-> 1094\u001b[0;31m         \u001b[0;32mreturn\u001b[0m \u001b[0mlen\u001b[0m\u001b[0;34m(\u001b[0m\u001b[0mself\u001b[0m\u001b[0;34m.\u001b[0m\u001b[0mexecute\u001b[0m\u001b[0;34m(\u001b[0m\u001b[0mquery\u001b[0m\u001b[0;34m)\u001b[0m\u001b[0;34m.\u001b[0m\u001b[0mfetchall\u001b[0m\u001b[0;34m(\u001b[0m\u001b[0;34m)\u001b[0m\u001b[0;34m)\u001b[0m \u001b[0;34m>\u001b[0m \u001b[0;36m0\u001b[0m\u001b[0;34m\u001b[0m\u001b[0m\n\u001b[0m\u001b[1;32m   1095\u001b[0m \u001b[0;34m\u001b[0m\u001b[0m\n\u001b[1;32m   1096\u001b[0m     \u001b[0;32mdef\u001b[0m \u001b[0mget_table\u001b[0m\u001b[0;34m(\u001b[0m\u001b[0mself\u001b[0m\u001b[0;34m,\u001b[0m \u001b[0mtable_name\u001b[0m\u001b[0;34m)\u001b[0m\u001b[0;34m:\u001b[0m\u001b[0;34m\u001b[0m\u001b[0m\n",
        "\u001b[0;32m/Users/genevievekathleensmith/Documents/insight/env/lib/python2.7/site-packages/pandas/io/sql.pyc\u001b[0m in \u001b[0;36mexecute\u001b[0;34m(self, *args, **kwargs)\u001b[0m\n\u001b[1;32m   1039\u001b[0m \u001b[0;34m\u001b[0m\u001b[0m\n\u001b[1;32m   1040\u001b[0m             \u001b[0mex\u001b[0m \u001b[0;34m=\u001b[0m \u001b[0mDatabaseError\u001b[0m\u001b[0;34m(\u001b[0m\u001b[0;34m\"Execution failed on sql: %s\"\u001b[0m \u001b[0;34m%\u001b[0m \u001b[0margs\u001b[0m\u001b[0;34m[\u001b[0m\u001b[0;36m0\u001b[0m\u001b[0;34m]\u001b[0m\u001b[0;34m)\u001b[0m\u001b[0;34m\u001b[0m\u001b[0m\n\u001b[0;32m-> 1041\u001b[0;31m             \u001b[0mraise_with_traceback\u001b[0m\u001b[0;34m(\u001b[0m\u001b[0mex\u001b[0m\u001b[0;34m)\u001b[0m\u001b[0;34m\u001b[0m\u001b[0m\n\u001b[0m\u001b[1;32m   1042\u001b[0m \u001b[0;34m\u001b[0m\u001b[0m\n\u001b[1;32m   1043\u001b[0m     def read_sql(self, sql, index_col=None, coerce_float=True, params=None,\n",
        "\u001b[0;32m/Users/genevievekathleensmith/Documents/insight/env/lib/python2.7/site-packages/pandas/io/sql.pyc\u001b[0m in \u001b[0;36mexecute\u001b[0;34m(self, *args, **kwargs)\u001b[0m\n\u001b[1;32m   1028\u001b[0m                 \u001b[0mcur\u001b[0m\u001b[0;34m.\u001b[0m\u001b[0mexecute\u001b[0m\u001b[0;34m(\u001b[0m\u001b[0;34m*\u001b[0m\u001b[0margs\u001b[0m\u001b[0;34m,\u001b[0m \u001b[0;34m**\u001b[0m\u001b[0mkwargs\u001b[0m\u001b[0;34m)\u001b[0m\u001b[0;34m\u001b[0m\u001b[0m\n\u001b[1;32m   1029\u001b[0m             \u001b[0;32melse\u001b[0m\u001b[0;34m:\u001b[0m\u001b[0;34m\u001b[0m\u001b[0m\n\u001b[0;32m-> 1030\u001b[0;31m                 \u001b[0mcur\u001b[0m\u001b[0;34m.\u001b[0m\u001b[0mexecute\u001b[0m\u001b[0;34m(\u001b[0m\u001b[0;34m*\u001b[0m\u001b[0margs\u001b[0m\u001b[0;34m)\u001b[0m\u001b[0;34m\u001b[0m\u001b[0m\n\u001b[0m\u001b[1;32m   1031\u001b[0m             \u001b[0;32mreturn\u001b[0m \u001b[0mcur\u001b[0m\u001b[0;34m\u001b[0m\u001b[0m\n\u001b[1;32m   1032\u001b[0m         \u001b[0;32mexcept\u001b[0m \u001b[0mException\u001b[0m \u001b[0;32mas\u001b[0m \u001b[0me\u001b[0m\u001b[0;34m:\u001b[0m\u001b[0;34m\u001b[0m\u001b[0m\n",
        "\u001b[0;32m/Users/genevievekathleensmith/Documents/insight/env/lib/python2.7/site-packages/pymysql/cursors.pyc\u001b[0m in \u001b[0;36mexecute\u001b[0;34m(self, query, args)\u001b[0m\n\u001b[1;32m    130\u001b[0m             \u001b[0mquery\u001b[0m \u001b[0;34m=\u001b[0m \u001b[0mquery\u001b[0m \u001b[0;34m%\u001b[0m \u001b[0mself\u001b[0m\u001b[0;34m.\u001b[0m\u001b[0m_escape_args\u001b[0m\u001b[0;34m(\u001b[0m\u001b[0margs\u001b[0m\u001b[0;34m,\u001b[0m \u001b[0mconn\u001b[0m\u001b[0;34m)\u001b[0m\u001b[0;34m\u001b[0m\u001b[0m\n\u001b[1;32m    131\u001b[0m \u001b[0;34m\u001b[0m\u001b[0m\n\u001b[0;32m--> 132\u001b[0;31m         \u001b[0mresult\u001b[0m \u001b[0;34m=\u001b[0m \u001b[0mself\u001b[0m\u001b[0;34m.\u001b[0m\u001b[0m_query\u001b[0m\u001b[0;34m(\u001b[0m\u001b[0mquery\u001b[0m\u001b[0;34m)\u001b[0m\u001b[0;34m\u001b[0m\u001b[0m\n\u001b[0m\u001b[1;32m    133\u001b[0m         \u001b[0mself\u001b[0m\u001b[0;34m.\u001b[0m\u001b[0m_executed\u001b[0m \u001b[0;34m=\u001b[0m \u001b[0mquery\u001b[0m\u001b[0;34m\u001b[0m\u001b[0m\n\u001b[1;32m    134\u001b[0m         \u001b[0;32mreturn\u001b[0m \u001b[0mresult\u001b[0m\u001b[0;34m\u001b[0m\u001b[0m\n",
        "\u001b[0;32m/Users/genevievekathleensmith/Documents/insight/env/lib/python2.7/site-packages/pymysql/cursors.pyc\u001b[0m in \u001b[0;36m_query\u001b[0;34m(self, q)\u001b[0m\n\u001b[1;32m    269\u001b[0m         \u001b[0mconn\u001b[0m \u001b[0;34m=\u001b[0m \u001b[0mself\u001b[0m\u001b[0;34m.\u001b[0m\u001b[0m_get_db\u001b[0m\u001b[0;34m(\u001b[0m\u001b[0;34m)\u001b[0m\u001b[0;34m\u001b[0m\u001b[0m\n\u001b[1;32m    270\u001b[0m         \u001b[0mself\u001b[0m\u001b[0;34m.\u001b[0m\u001b[0m_last_executed\u001b[0m \u001b[0;34m=\u001b[0m \u001b[0mq\u001b[0m\u001b[0;34m\u001b[0m\u001b[0m\n\u001b[0;32m--> 271\u001b[0;31m         \u001b[0mconn\u001b[0m\u001b[0;34m.\u001b[0m\u001b[0mquery\u001b[0m\u001b[0;34m(\u001b[0m\u001b[0mq\u001b[0m\u001b[0;34m)\u001b[0m\u001b[0;34m\u001b[0m\u001b[0m\n\u001b[0m\u001b[1;32m    272\u001b[0m         \u001b[0mself\u001b[0m\u001b[0;34m.\u001b[0m\u001b[0m_do_get_result\u001b[0m\u001b[0;34m(\u001b[0m\u001b[0;34m)\u001b[0m\u001b[0;34m\u001b[0m\u001b[0m\n\u001b[1;32m    273\u001b[0m         \u001b[0;32mreturn\u001b[0m \u001b[0mself\u001b[0m\u001b[0;34m.\u001b[0m\u001b[0mrowcount\u001b[0m\u001b[0;34m\u001b[0m\u001b[0m\n",
        "\u001b[0;32m/Users/genevievekathleensmith/Documents/insight/env/lib/python2.7/site-packages/pymysql/connections.pyc\u001b[0m in \u001b[0;36mquery\u001b[0;34m(self, sql, unbuffered)\u001b[0m\n\u001b[1;32m    724\u001b[0m             \u001b[0msql\u001b[0m \u001b[0;34m=\u001b[0m \u001b[0msql\u001b[0m\u001b[0;34m.\u001b[0m\u001b[0mencode\u001b[0m\u001b[0;34m(\u001b[0m\u001b[0mself\u001b[0m\u001b[0;34m.\u001b[0m\u001b[0mencoding\u001b[0m\u001b[0;34m)\u001b[0m\u001b[0;34m\u001b[0m\u001b[0m\n\u001b[1;32m    725\u001b[0m         \u001b[0mself\u001b[0m\u001b[0;34m.\u001b[0m\u001b[0m_execute_command\u001b[0m\u001b[0;34m(\u001b[0m\u001b[0mCOM_QUERY\u001b[0m\u001b[0;34m,\u001b[0m \u001b[0msql\u001b[0m\u001b[0;34m)\u001b[0m\u001b[0;34m\u001b[0m\u001b[0m\n\u001b[0;32m--> 726\u001b[0;31m         \u001b[0mself\u001b[0m\u001b[0;34m.\u001b[0m\u001b[0m_affected_rows\u001b[0m \u001b[0;34m=\u001b[0m \u001b[0mself\u001b[0m\u001b[0;34m.\u001b[0m\u001b[0m_read_query_result\u001b[0m\u001b[0;34m(\u001b[0m\u001b[0munbuffered\u001b[0m\u001b[0;34m=\u001b[0m\u001b[0munbuffered\u001b[0m\u001b[0;34m)\u001b[0m\u001b[0;34m\u001b[0m\u001b[0m\n\u001b[0m\u001b[1;32m    727\u001b[0m         \u001b[0;32mreturn\u001b[0m \u001b[0mself\u001b[0m\u001b[0;34m.\u001b[0m\u001b[0m_affected_rows\u001b[0m\u001b[0;34m\u001b[0m\u001b[0m\n\u001b[1;32m    728\u001b[0m \u001b[0;34m\u001b[0m\u001b[0m\n",
        "\u001b[0;32m/Users/genevievekathleensmith/Documents/insight/env/lib/python2.7/site-packages/pymysql/connections.pyc\u001b[0m in \u001b[0;36m_read_query_result\u001b[0;34m(self, unbuffered)\u001b[0m\n\u001b[1;32m    859\u001b[0m         \u001b[0;32melse\u001b[0m\u001b[0;34m:\u001b[0m\u001b[0;34m\u001b[0m\u001b[0m\n\u001b[1;32m    860\u001b[0m             \u001b[0mresult\u001b[0m \u001b[0;34m=\u001b[0m \u001b[0mMySQLResult\u001b[0m\u001b[0;34m(\u001b[0m\u001b[0mself\u001b[0m\u001b[0;34m)\u001b[0m\u001b[0;34m\u001b[0m\u001b[0m\n\u001b[0;32m--> 861\u001b[0;31m             \u001b[0mresult\u001b[0m\u001b[0;34m.\u001b[0m\u001b[0mread\u001b[0m\u001b[0;34m(\u001b[0m\u001b[0;34m)\u001b[0m\u001b[0;34m\u001b[0m\u001b[0m\n\u001b[0m\u001b[1;32m    862\u001b[0m         \u001b[0mself\u001b[0m\u001b[0;34m.\u001b[0m\u001b[0m_result\u001b[0m \u001b[0;34m=\u001b[0m \u001b[0mresult\u001b[0m\u001b[0;34m\u001b[0m\u001b[0m\n\u001b[1;32m    863\u001b[0m         \u001b[0;32mif\u001b[0m \u001b[0mresult\u001b[0m\u001b[0;34m.\u001b[0m\u001b[0mserver_status\u001b[0m \u001b[0;32mis\u001b[0m \u001b[0;32mnot\u001b[0m \u001b[0mNone\u001b[0m\u001b[0;34m:\u001b[0m\u001b[0;34m\u001b[0m\u001b[0m\n",
        "\u001b[0;32m/Users/genevievekathleensmith/Documents/insight/env/lib/python2.7/site-packages/pymysql/connections.pyc\u001b[0m in \u001b[0;36mread\u001b[0;34m(self)\u001b[0m\n\u001b[1;32m   1062\u001b[0m     \u001b[0;32mdef\u001b[0m \u001b[0mread\u001b[0m\u001b[0;34m(\u001b[0m\u001b[0mself\u001b[0m\u001b[0;34m)\u001b[0m\u001b[0;34m:\u001b[0m\u001b[0;34m\u001b[0m\u001b[0m\n\u001b[1;32m   1063\u001b[0m         \u001b[0;32mtry\u001b[0m\u001b[0;34m:\u001b[0m\u001b[0;34m\u001b[0m\u001b[0m\n\u001b[0;32m-> 1064\u001b[0;31m             \u001b[0mfirst_packet\u001b[0m \u001b[0;34m=\u001b[0m \u001b[0mself\u001b[0m\u001b[0;34m.\u001b[0m\u001b[0mconnection\u001b[0m\u001b[0;34m.\u001b[0m\u001b[0m_read_packet\u001b[0m\u001b[0;34m(\u001b[0m\u001b[0;34m)\u001b[0m\u001b[0;34m\u001b[0m\u001b[0m\n\u001b[0m\u001b[1;32m   1065\u001b[0m \u001b[0;34m\u001b[0m\u001b[0m\n\u001b[1;32m   1066\u001b[0m             \u001b[0;31m# TODO: use classes for different packet types?\u001b[0m\u001b[0;34m\u001b[0m\u001b[0;34m\u001b[0m\u001b[0m\n",
        "\u001b[0;32m/Users/genevievekathleensmith/Documents/insight/env/lib/python2.7/site-packages/pymysql/connections.pyc\u001b[0m in \u001b[0;36m_read_packet\u001b[0;34m(self, packet_type)\u001b[0m\n\u001b[1;32m    824\u001b[0m         \"\"\"\n\u001b[1;32m    825\u001b[0m         \u001b[0mpacket\u001b[0m \u001b[0;34m=\u001b[0m \u001b[0mpacket_type\u001b[0m\u001b[0;34m(\u001b[0m\u001b[0mself\u001b[0m\u001b[0;34m)\u001b[0m\u001b[0;34m\u001b[0m\u001b[0m\n\u001b[0;32m--> 826\u001b[0;31m         \u001b[0mpacket\u001b[0m\u001b[0;34m.\u001b[0m\u001b[0mcheck_error\u001b[0m\u001b[0;34m(\u001b[0m\u001b[0;34m)\u001b[0m\u001b[0;34m\u001b[0m\u001b[0m\n\u001b[0m\u001b[1;32m    827\u001b[0m         \u001b[0;32mreturn\u001b[0m \u001b[0mpacket\u001b[0m\u001b[0;34m\u001b[0m\u001b[0m\n\u001b[1;32m    828\u001b[0m \u001b[0;34m\u001b[0m\u001b[0m\n",
        "\u001b[0;32m/Users/genevievekathleensmith/Documents/insight/env/lib/python2.7/site-packages/pymysql/connections.pyc\u001b[0m in \u001b[0;36mcheck_error\u001b[0;34m(self)\u001b[0m\n\u001b[1;32m    368\u001b[0m             \u001b[0merrno\u001b[0m \u001b[0;34m=\u001b[0m \u001b[0munpack_uint16\u001b[0m\u001b[0;34m(\u001b[0m\u001b[0mself\u001b[0m\u001b[0;34m.\u001b[0m\u001b[0mread\u001b[0m\u001b[0;34m(\u001b[0m\u001b[0;36m2\u001b[0m\u001b[0;34m)\u001b[0m\u001b[0;34m)\u001b[0m\u001b[0;34m\u001b[0m\u001b[0m\n\u001b[1;32m    369\u001b[0m             \u001b[0;32mif\u001b[0m \u001b[0mDEBUG\u001b[0m\u001b[0;34m:\u001b[0m \u001b[0;32mprint\u001b[0m\u001b[0;34m(\u001b[0m\u001b[0;34m\"errno =\"\u001b[0m\u001b[0;34m,\u001b[0m \u001b[0merrno\u001b[0m\u001b[0;34m)\u001b[0m\u001b[0;34m\u001b[0m\u001b[0m\n\u001b[0;32m--> 370\u001b[0;31m             \u001b[0mraise_mysql_exception\u001b[0m\u001b[0;34m(\u001b[0m\u001b[0mself\u001b[0m\u001b[0;34m.\u001b[0m\u001b[0m_data\u001b[0m\u001b[0;34m)\u001b[0m\u001b[0;34m\u001b[0m\u001b[0m\n\u001b[0m\u001b[1;32m    371\u001b[0m \u001b[0;34m\u001b[0m\u001b[0m\n\u001b[1;32m    372\u001b[0m     \u001b[0;32mdef\u001b[0m \u001b[0mdump\u001b[0m\u001b[0;34m(\u001b[0m\u001b[0mself\u001b[0m\u001b[0;34m)\u001b[0m\u001b[0;34m:\u001b[0m\u001b[0;34m\u001b[0m\u001b[0m\n",
        "\u001b[0;32m/Users/genevievekathleensmith/Documents/insight/env/lib/python2.7/site-packages/pymysql/err.pyc\u001b[0m in \u001b[0;36mraise_mysql_exception\u001b[0;34m(data)\u001b[0m\n\u001b[1;32m    114\u001b[0m \u001b[0;32mdef\u001b[0m \u001b[0mraise_mysql_exception\u001b[0m\u001b[0;34m(\u001b[0m\u001b[0mdata\u001b[0m\u001b[0;34m)\u001b[0m\u001b[0;34m:\u001b[0m\u001b[0;34m\u001b[0m\u001b[0m\n\u001b[1;32m    115\u001b[0m     \u001b[0merrinfo\u001b[0m \u001b[0;34m=\u001b[0m \u001b[0m_get_error_info\u001b[0m\u001b[0;34m(\u001b[0m\u001b[0mdata\u001b[0m\u001b[0;34m)\u001b[0m\u001b[0;34m\u001b[0m\u001b[0m\n\u001b[0;32m--> 116\u001b[0;31m     \u001b[0m_check_mysql_exception\u001b[0m\u001b[0;34m(\u001b[0m\u001b[0merrinfo\u001b[0m\u001b[0;34m)\u001b[0m\u001b[0;34m\u001b[0m\u001b[0m\n\u001b[0m",
        "\u001b[0;32m/Users/genevievekathleensmith/Documents/insight/env/lib/python2.7/site-packages/pymysql/err.pyc\u001b[0m in \u001b[0;36m_check_mysql_exception\u001b[0;34m(errinfo)\u001b[0m\n\u001b[1;32m    107\u001b[0m     \u001b[0merrorclass\u001b[0m \u001b[0;34m=\u001b[0m \u001b[0merror_map\u001b[0m\u001b[0;34m.\u001b[0m\u001b[0mget\u001b[0m\u001b[0;34m(\u001b[0m\u001b[0merrno\u001b[0m\u001b[0;34m,\u001b[0m \u001b[0mNone\u001b[0m\u001b[0;34m)\u001b[0m\u001b[0;34m\u001b[0m\u001b[0m\n\u001b[1;32m    108\u001b[0m     \u001b[0;32mif\u001b[0m \u001b[0merrorclass\u001b[0m\u001b[0;34m:\u001b[0m\u001b[0;34m\u001b[0m\u001b[0m\n\u001b[0;32m--> 109\u001b[0;31m         \u001b[0;32mraise\u001b[0m \u001b[0merrorclass\u001b[0m\u001b[0;34m(\u001b[0m\u001b[0merrno\u001b[0m\u001b[0;34m,\u001b[0m\u001b[0merrorvalue\u001b[0m\u001b[0;34m)\u001b[0m\u001b[0;34m\u001b[0m\u001b[0m\n\u001b[0m\u001b[1;32m    110\u001b[0m \u001b[0;34m\u001b[0m\u001b[0m\n\u001b[1;32m    111\u001b[0m     \u001b[0;31m# couldn't find the right error number\u001b[0m\u001b[0;34m\u001b[0m\u001b[0;34m\u001b[0m\u001b[0m\n",
        "\u001b[0;31mDatabaseError\u001b[0m: Execution failed on sql: SELECT name FROM sqlite_master WHERE type='table' AND name='percapita';"
       ]
      }
     ],
     "prompt_number": 20
    },
    {
     "cell_type": "code",
     "collapsed": false,
     "input": [
      "per_capita_comments"
     ],
     "language": "python",
     "metadata": {},
     "outputs": [
      {
       "html": [
        "<div style=\"max-height:1000px;max-width:1500px;overflow:auto;\">\n",
        "<table border=\"1\" class=\"dataframe\">\n",
        "  <thead>\n",
        "    <tr style=\"text-align: right;\">\n",
        "      <th></th>\n",
        "      <th>comments</th>\n",
        "      <th>state</th>\n",
        "      <th>population</th>\n",
        "      <th>percapita</th>\n",
        "    </tr>\n",
        "  </thead>\n",
        "  <tbody>\n",
        "    <tr>\n",
        "      <th>0 </th>\n",
        "      <td> 16051</td>\n",
        "      <td> CA</td>\n",
        "      <td> 37254</td>\n",
        "      <td> 0.430853</td>\n",
        "    </tr>\n",
        "    <tr>\n",
        "      <th>1 </th>\n",
        "      <td>  7049</td>\n",
        "      <td> NY</td>\n",
        "      <td> 19378</td>\n",
        "      <td> 0.363763</td>\n",
        "    </tr>\n",
        "    <tr>\n",
        "      <th>2 </th>\n",
        "      <td>  5529</td>\n",
        "      <td> TX</td>\n",
        "      <td> 25146</td>\n",
        "      <td> 0.219876</td>\n",
        "    </tr>\n",
        "    <tr>\n",
        "      <th>3 </th>\n",
        "      <td>  5039</td>\n",
        "      <td> WA</td>\n",
        "      <td>  6725</td>\n",
        "      <td> 0.749294</td>\n",
        "    </tr>\n",
        "    <tr>\n",
        "      <th>4 </th>\n",
        "      <td>  4852</td>\n",
        "      <td> FL</td>\n",
        "      <td> 18801</td>\n",
        "      <td> 0.258071</td>\n",
        "    </tr>\n",
        "    <tr>\n",
        "      <th>5 </th>\n",
        "      <td>  4066</td>\n",
        "      <td> IL</td>\n",
        "      <td> 12831</td>\n",
        "      <td> 0.316889</td>\n",
        "    </tr>\n",
        "    <tr>\n",
        "      <th>6 </th>\n",
        "      <td>  3849</td>\n",
        "      <td> PA</td>\n",
        "      <td> 12702</td>\n",
        "      <td> 0.303023</td>\n",
        "    </tr>\n",
        "    <tr>\n",
        "      <th>7 </th>\n",
        "      <td>  3324</td>\n",
        "      <td> MA</td>\n",
        "      <td>  6548</td>\n",
        "      <td> 0.507636</td>\n",
        "    </tr>\n",
        "    <tr>\n",
        "      <th>8 </th>\n",
        "      <td>  2930</td>\n",
        "      <td> VA</td>\n",
        "      <td>  8001</td>\n",
        "      <td> 0.366204</td>\n",
        "    </tr>\n",
        "    <tr>\n",
        "      <th>9 </th>\n",
        "      <td>  2877</td>\n",
        "      <td> OH</td>\n",
        "      <td> 11537</td>\n",
        "      <td> 0.249372</td>\n",
        "    </tr>\n",
        "    <tr>\n",
        "      <th>10</th>\n",
        "      <td>  2778</td>\n",
        "      <td> OR</td>\n",
        "      <td>  3831</td>\n",
        "      <td> 0.725137</td>\n",
        "    </tr>\n",
        "    <tr>\n",
        "      <th>11</th>\n",
        "      <td>  2698</td>\n",
        "      <td> MI</td>\n",
        "      <td>  9884</td>\n",
        "      <td> 0.272966</td>\n",
        "    </tr>\n",
        "    <tr>\n",
        "      <th>12</th>\n",
        "      <td>  2561</td>\n",
        "      <td> NJ</td>\n",
        "      <td>  8792</td>\n",
        "      <td> 0.291288</td>\n",
        "    </tr>\n",
        "    <tr>\n",
        "      <th>13</th>\n",
        "      <td>  2475</td>\n",
        "      <td> CO</td>\n",
        "      <td>  5029</td>\n",
        "      <td> 0.492146</td>\n",
        "    </tr>\n",
        "    <tr>\n",
        "      <th>14</th>\n",
        "      <td>  2434</td>\n",
        "      <td> NC</td>\n",
        "      <td>  9535</td>\n",
        "      <td> 0.255270</td>\n",
        "    </tr>\n",
        "    <tr>\n",
        "      <th>15</th>\n",
        "      <td>  2224</td>\n",
        "      <td> MD</td>\n",
        "      <td>  5774</td>\n",
        "      <td> 0.385175</td>\n",
        "    </tr>\n",
        "    <tr>\n",
        "      <th>16</th>\n",
        "      <td>  2197</td>\n",
        "      <td> GA</td>\n",
        "      <td>  9688</td>\n",
        "      <td> 0.226775</td>\n",
        "    </tr>\n",
        "    <tr>\n",
        "      <th>17</th>\n",
        "      <td>  2099</td>\n",
        "      <td> MN</td>\n",
        "      <td>  5304</td>\n",
        "      <td> 0.395739</td>\n",
        "    </tr>\n",
        "    <tr>\n",
        "      <th>18</th>\n",
        "      <td>  1986</td>\n",
        "      <td> AZ</td>\n",
        "      <td>  6392</td>\n",
        "      <td> 0.310701</td>\n",
        "    </tr>\n",
        "    <tr>\n",
        "      <th>19</th>\n",
        "      <td>  1695</td>\n",
        "      <td> WI</td>\n",
        "      <td>  5687</td>\n",
        "      <td> 0.298048</td>\n",
        "    </tr>\n",
        "    <tr>\n",
        "      <th>20</th>\n",
        "      <td>  1530</td>\n",
        "      <td> IN</td>\n",
        "      <td>  6484</td>\n",
        "      <td> 0.235965</td>\n",
        "    </tr>\n",
        "    <tr>\n",
        "      <th>21</th>\n",
        "      <td>  1496</td>\n",
        "      <td> TN</td>\n",
        "      <td>  6346</td>\n",
        "      <td> 0.235739</td>\n",
        "    </tr>\n",
        "    <tr>\n",
        "      <th>22</th>\n",
        "      <td>  1459</td>\n",
        "      <td> MO</td>\n",
        "      <td>  5989</td>\n",
        "      <td> 0.243613</td>\n",
        "    </tr>\n",
        "    <tr>\n",
        "      <th>23</th>\n",
        "      <td>  1105</td>\n",
        "      <td> CT</td>\n",
        "      <td>  3574</td>\n",
        "      <td> 0.309177</td>\n",
        "    </tr>\n",
        "    <tr>\n",
        "      <th>24</th>\n",
        "      <td>  1082</td>\n",
        "      <td> UT</td>\n",
        "      <td>  2764</td>\n",
        "      <td> 0.391462</td>\n",
        "    </tr>\n",
        "    <tr>\n",
        "      <th>25</th>\n",
        "      <td>   888</td>\n",
        "      <td> KY</td>\n",
        "      <td>  4339</td>\n",
        "      <td> 0.204655</td>\n",
        "    </tr>\n",
        "    <tr>\n",
        "      <th>26</th>\n",
        "      <td>   811</td>\n",
        "      <td> IA</td>\n",
        "      <td>  3046</td>\n",
        "      <td> 0.266251</td>\n",
        "    </tr>\n",
        "    <tr>\n",
        "      <th>27</th>\n",
        "      <td>   784</td>\n",
        "      <td> SC</td>\n",
        "      <td>  4625</td>\n",
        "      <td> 0.169514</td>\n",
        "    </tr>\n",
        "    <tr>\n",
        "      <th>28</th>\n",
        "      <td>   774</td>\n",
        "      <td> NV</td>\n",
        "      <td>  2701</td>\n",
        "      <td> 0.286561</td>\n",
        "    </tr>\n",
        "    <tr>\n",
        "      <th>29</th>\n",
        "      <td>   761</td>\n",
        "      <td> NM</td>\n",
        "      <td>  2059</td>\n",
        "      <td> 0.369597</td>\n",
        "    </tr>\n",
        "    <tr>\n",
        "      <th>30</th>\n",
        "      <td>   729</td>\n",
        "      <td> KS</td>\n",
        "      <td>  2853</td>\n",
        "      <td> 0.255521</td>\n",
        "    </tr>\n",
        "    <tr>\n",
        "      <th>31</th>\n",
        "      <td>   713</td>\n",
        "      <td> AL</td>\n",
        "      <td>  4780</td>\n",
        "      <td> 0.149163</td>\n",
        "    </tr>\n",
        "    <tr>\n",
        "      <th>32</th>\n",
        "      <td>   606</td>\n",
        "      <td> OK</td>\n",
        "      <td>  3751</td>\n",
        "      <td> 0.161557</td>\n",
        "    </tr>\n",
        "    <tr>\n",
        "      <th>33</th>\n",
        "      <td>   591</td>\n",
        "      <td> NH</td>\n",
        "      <td>  1316</td>\n",
        "      <td> 0.449088</td>\n",
        "    </tr>\n",
        "    <tr>\n",
        "      <th>34</th>\n",
        "      <td>   582</td>\n",
        "      <td> LA</td>\n",
        "      <td>  4533</td>\n",
        "      <td> 0.128392</td>\n",
        "    </tr>\n",
        "    <tr>\n",
        "      <th>35</th>\n",
        "      <td>   568</td>\n",
        "      <td> DC</td>\n",
        "      <td>   602</td>\n",
        "      <td> 0.943522</td>\n",
        "    </tr>\n",
        "    <tr>\n",
        "      <th>36</th>\n",
        "      <td>   559</td>\n",
        "      <td> ME</td>\n",
        "      <td>  1328</td>\n",
        "      <td> 0.420934</td>\n",
        "    </tr>\n",
        "    <tr>\n",
        "      <th>37</th>\n",
        "      <td>   468</td>\n",
        "      <td> AK</td>\n",
        "      <td>   710</td>\n",
        "      <td> 0.659155</td>\n",
        "    </tr>\n",
        "    <tr>\n",
        "      <th>38</th>\n",
        "      <td>   455</td>\n",
        "      <td> AR</td>\n",
        "      <td>  2916</td>\n",
        "      <td> 0.156036</td>\n",
        "    </tr>\n",
        "    <tr>\n",
        "      <th>39</th>\n",
        "      <td>   448</td>\n",
        "      <td> NE</td>\n",
        "      <td>  1826</td>\n",
        "      <td> 0.245345</td>\n",
        "    </tr>\n",
        "    <tr>\n",
        "      <th>40</th>\n",
        "      <td>   440</td>\n",
        "      <td> ID</td>\n",
        "      <td>  1568</td>\n",
        "      <td> 0.280612</td>\n",
        "    </tr>\n",
        "    <tr>\n",
        "      <th>41</th>\n",
        "      <td>   423</td>\n",
        "      <td> HI</td>\n",
        "      <td>  1360</td>\n",
        "      <td> 0.311029</td>\n",
        "    </tr>\n",
        "    <tr>\n",
        "      <th>42</th>\n",
        "      <td>   400</td>\n",
        "      <td> VT</td>\n",
        "      <td>   626</td>\n",
        "      <td> 0.638978</td>\n",
        "    </tr>\n",
        "    <tr>\n",
        "      <th>43</th>\n",
        "      <td>   325</td>\n",
        "      <td> MT</td>\n",
        "      <td>   989</td>\n",
        "      <td> 0.328615</td>\n",
        "    </tr>\n",
        "    <tr>\n",
        "      <th>44</th>\n",
        "      <td>   324</td>\n",
        "      <td> WV</td>\n",
        "      <td>  1853</td>\n",
        "      <td> 0.174852</td>\n",
        "    </tr>\n",
        "    <tr>\n",
        "      <th>45</th>\n",
        "      <td>   313</td>\n",
        "      <td> RI</td>\n",
        "      <td>  1053</td>\n",
        "      <td> 0.297246</td>\n",
        "    </tr>\n",
        "    <tr>\n",
        "      <th>46</th>\n",
        "      <td>   268</td>\n",
        "      <td> MS</td>\n",
        "      <td>  2967</td>\n",
        "      <td> 0.090327</td>\n",
        "    </tr>\n",
        "    <tr>\n",
        "      <th>47</th>\n",
        "      <td>   227</td>\n",
        "      <td> DE</td>\n",
        "      <td>   898</td>\n",
        "      <td> 0.252784</td>\n",
        "    </tr>\n",
        "    <tr>\n",
        "      <th>48</th>\n",
        "      <td>   188</td>\n",
        "      <td> SD</td>\n",
        "      <td>   814</td>\n",
        "      <td> 0.230958</td>\n",
        "    </tr>\n",
        "    <tr>\n",
        "      <th>49</th>\n",
        "      <td>   175</td>\n",
        "      <td> ND</td>\n",
        "      <td>   673</td>\n",
        "      <td> 0.260030</td>\n",
        "    </tr>\n",
        "    <tr>\n",
        "      <th>50</th>\n",
        "      <td>   134</td>\n",
        "      <td> WY</td>\n",
        "      <td>   564</td>\n",
        "      <td> 0.237589</td>\n",
        "    </tr>\n",
        "  </tbody>\n",
        "</table>\n",
        "</div>"
       ],
       "metadata": {},
       "output_type": "pyout",
       "prompt_number": 15,
       "text": [
        "    comments state  population  percapita\n",
        "0      16051    CA       37254   0.430853\n",
        "1       7049    NY       19378   0.363763\n",
        "2       5529    TX       25146   0.219876\n",
        "3       5039    WA        6725   0.749294\n",
        "4       4852    FL       18801   0.258071\n",
        "5       4066    IL       12831   0.316889\n",
        "6       3849    PA       12702   0.303023\n",
        "7       3324    MA        6548   0.507636\n",
        "8       2930    VA        8001   0.366204\n",
        "9       2877    OH       11537   0.249372\n",
        "10      2778    OR        3831   0.725137\n",
        "11      2698    MI        9884   0.272966\n",
        "12      2561    NJ        8792   0.291288\n",
        "13      2475    CO        5029   0.492146\n",
        "14      2434    NC        9535   0.255270\n",
        "15      2224    MD        5774   0.385175\n",
        "16      2197    GA        9688   0.226775\n",
        "17      2099    MN        5304   0.395739\n",
        "18      1986    AZ        6392   0.310701\n",
        "19      1695    WI        5687   0.298048\n",
        "20      1530    IN        6484   0.235965\n",
        "21      1496    TN        6346   0.235739\n",
        "22      1459    MO        5989   0.243613\n",
        "23      1105    CT        3574   0.309177\n",
        "24      1082    UT        2764   0.391462\n",
        "25       888    KY        4339   0.204655\n",
        "26       811    IA        3046   0.266251\n",
        "27       784    SC        4625   0.169514\n",
        "28       774    NV        2701   0.286561\n",
        "29       761    NM        2059   0.369597\n",
        "30       729    KS        2853   0.255521\n",
        "31       713    AL        4780   0.149163\n",
        "32       606    OK        3751   0.161557\n",
        "33       591    NH        1316   0.449088\n",
        "34       582    LA        4533   0.128392\n",
        "35       568    DC         602   0.943522\n",
        "36       559    ME        1328   0.420934\n",
        "37       468    AK         710   0.659155\n",
        "38       455    AR        2916   0.156036\n",
        "39       448    NE        1826   0.245345\n",
        "40       440    ID        1568   0.280612\n",
        "41       423    HI        1360   0.311029\n",
        "42       400    VT         626   0.638978\n",
        "43       325    MT         989   0.328615\n",
        "44       324    WV        1853   0.174852\n",
        "45       313    RI        1053   0.297246\n",
        "46       268    MS        2967   0.090327\n",
        "47       227    DE         898   0.252784\n",
        "48       188    SD         814   0.230958\n",
        "49       175    ND         673   0.260030\n",
        "50       134    WY         564   0.237589"
       ]
      }
     ],
     "prompt_number": 15
    },
    {
     "cell_type": "code",
     "collapsed": false,
     "input": [
      "per_capita_comments.percapita.plot(kind='bar')"
     ],
     "language": "python",
     "metadata": {},
     "outputs": [
      {
       "metadata": {},
       "output_type": "pyout",
       "prompt_number": 133,
       "text": [
        "<matplotlib.axes.AxesSubplot at 0x114eecc10>"
       ]
      },
      {
       "metadata": {},
       "output_type": "display_data",
       "png": "[encoded data removed]",
       "text": [
        "<matplotlib.figure.Figure at 0x10a4da090>"
       ]
      }
     ],
     "prompt_number": 133
    },
    {
     "cell_type": "code",
     "collapsed": false,
     "input": [
      "per_capita_comments.to_csv('percapita_table.csv')"
     ],
     "language": "python",
     "metadata": {},
     "outputs": [],
     "prompt_number": 187
    },
    {
     "cell_type": "code",
     "collapsed": false,
     "input": [
      "#per_capita_comments.plot(kind='bar',x=per_capita_comments.state,subplots=True)\n",
      "fig = sorted_percapita.plot(kind='bar',x=sorted_percapita.state,subplots=True)"
     ],
     "language": "python",
     "metadata": {},
     "outputs": [
      {
       "metadata": {},
       "output_type": "display_data",
       "png": "[encoded data removed]",
       "text": [
        "<matplotlib.figure.Figure at 0x1189afbd0>"
       ]
      }
     ],
     "prompt_number": 134
    },
    {
     "cell_type": "code",
     "collapsed": false,
     "input": [
      "sorted_percapita = per_capita_comments.sort_index(by='percapita',ascending=False)"
     ],
     "language": "python",
     "metadata": {},
     "outputs": [],
     "prompt_number": 135
    },
    {
     "cell_type": "code",
     "collapsed": false,
     "input": [
      "per_capita_comments.percapita.plot(kind='bar')"
     ],
     "language": "python",
     "metadata": {},
     "outputs": [
      {
       "metadata": {},
       "output_type": "pyout",
       "prompt_number": 136,
       "text": [
        "<matplotlib.axes.AxesSubplot at 0x119b62f50>"
       ]
      },
      {
       "metadata": {},
       "output_type": "display_data",
       "png": "[encoded data removed]",
       "text": [
        "<matplotlib.figure.Figure at 0x119b743d0>"
       ]
      }
     ],
     "prompt_number": 136
    },
    {
     "cell_type": "code",
     "collapsed": false,
     "input": [
      "boxplot(sorted_percapita.percapita)"
     ],
     "language": "python",
     "metadata": {},
     "outputs": [
      {
       "metadata": {},
       "output_type": "pyout",
       "prompt_number": 186,
       "text": [
        "{'boxes': [<matplotlib.lines.Line2D at 0x11aca9450>],\n",
        " 'caps': [<matplotlib.lines.Line2D at 0x11acbcf10>,\n",
        "  <matplotlib.lines.Line2D at 0x11acbc690>],\n",
        " 'fliers': [<matplotlib.lines.Line2D at 0x11aca9a50>,\n",
        "  <matplotlib.lines.Line2D at 0x11ac8eed0>],\n",
        " 'medians': [<matplotlib.lines.Line2D at 0x11aca9590>],\n",
        " 'whiskers': [<matplotlib.lines.Line2D at 0x11acb5790>,\n",
        "  <matplotlib.lines.Line2D at 0x11acb5ad0>]}"
       ]
      },
      {
       "metadata": {},
       "output_type": "display_data",
       "png": "[encoded data removed]",
       "text": [
        "<matplotlib.figure.Figure at 0x11ad78d10>"
       ]
      }
     ],
     "prompt_number": 186
    },
    {
     "cell_type": "code",
     "collapsed": false,
     "input": [
      "sorted_percapita.percapita.plot(kind='bar')"
     ],
     "language": "python",
     "metadata": {},
     "outputs": [
      {
       "metadata": {},
       "output_type": "pyout",
       "prompt_number": 138,
       "text": [
        "<matplotlib.axes.AxesSubplot at 0x115a1aa50>"
       ]
      },
      {
       "metadata": {},
       "output_type": "display_data",
       "png": "[encoded data removed]",
       "text": [
        "<matplotlib.figure.Figure at 0x119b9e610>"
       ]
      }
     ],
     "prompt_number": 138
    },
    {
     "cell_type": "code",
     "collapsed": false,
     "input": [
      "sorted_percapita.index = sorted_percapita.state"
     ],
     "language": "python",
     "metadata": {},
     "outputs": [],
     "prompt_number": 145
    },
    {
     "cell_type": "code",
     "collapsed": false,
     "input": [
      "sorted_percapita"
     ],
     "language": "python",
     "metadata": {},
     "outputs": [
      {
       "html": [
        "<div style=\"max-height:1000px;max-width:1500px;overflow:auto;\">\n",
        "<table border=\"1\" class=\"dataframe\">\n",
        "  <thead>\n",
        "    <tr style=\"text-align: right;\">\n",
        "      <th></th>\n",
        "      <th>comments</th>\n",
        "      <th>state</th>\n",
        "      <th>population</th>\n",
        "      <th>percapita</th>\n",
        "    </tr>\n",
        "    <tr>\n",
        "      <th>state</th>\n",
        "      <th></th>\n",
        "      <th></th>\n",
        "      <th></th>\n",
        "      <th></th>\n",
        "    </tr>\n",
        "  </thead>\n",
        "  <tbody>\n",
        "    <tr>\n",
        "      <th>DC</th>\n",
        "      <td>   568</td>\n",
        "      <td> DC</td>\n",
        "      <td>   602</td>\n",
        "      <td> 0.943522</td>\n",
        "    </tr>\n",
        "    <tr>\n",
        "      <th>WA</th>\n",
        "      <td>  5039</td>\n",
        "      <td> WA</td>\n",
        "      <td>  6725</td>\n",
        "      <td> 0.749294</td>\n",
        "    </tr>\n",
        "    <tr>\n",
        "      <th>OR</th>\n",
        "      <td>  2778</td>\n",
        "      <td> OR</td>\n",
        "      <td>  3831</td>\n",
        "      <td> 0.725137</td>\n",
        "    </tr>\n",
        "    <tr>\n",
        "      <th>AK</th>\n",
        "      <td>   468</td>\n",
        "      <td> AK</td>\n",
        "      <td>   710</td>\n",
        "      <td> 0.659155</td>\n",
        "    </tr>\n",
        "    <tr>\n",
        "      <th>VT</th>\n",
        "      <td>   400</td>\n",
        "      <td> VT</td>\n",
        "      <td>   626</td>\n",
        "      <td> 0.638978</td>\n",
        "    </tr>\n",
        "    <tr>\n",
        "      <th>MA</th>\n",
        "      <td>  3324</td>\n",
        "      <td> MA</td>\n",
        "      <td>  6548</td>\n",
        "      <td> 0.507636</td>\n",
        "    </tr>\n",
        "    <tr>\n",
        "      <th>CO</th>\n",
        "      <td>  2475</td>\n",
        "      <td> CO</td>\n",
        "      <td>  5029</td>\n",
        "      <td> 0.492146</td>\n",
        "    </tr>\n",
        "    <tr>\n",
        "      <th>NH</th>\n",
        "      <td>   591</td>\n",
        "      <td> NH</td>\n",
        "      <td>  1316</td>\n",
        "      <td> 0.449088</td>\n",
        "    </tr>\n",
        "    <tr>\n",
        "      <th>CA</th>\n",
        "      <td> 16051</td>\n",
        "      <td> CA</td>\n",
        "      <td> 37254</td>\n",
        "      <td> 0.430853</td>\n",
        "    </tr>\n",
        "    <tr>\n",
        "      <th>ME</th>\n",
        "      <td>   559</td>\n",
        "      <td> ME</td>\n",
        "      <td>  1328</td>\n",
        "      <td> 0.420934</td>\n",
        "    </tr>\n",
        "    <tr>\n",
        "      <th>MN</th>\n",
        "      <td>  2099</td>\n",
        "      <td> MN</td>\n",
        "      <td>  5304</td>\n",
        "      <td> 0.395739</td>\n",
        "    </tr>\n",
        "    <tr>\n",
        "      <th>UT</th>\n",
        "      <td>  1082</td>\n",
        "      <td> UT</td>\n",
        "      <td>  2764</td>\n",
        "      <td> 0.391462</td>\n",
        "    </tr>\n",
        "    <tr>\n",
        "      <th>MD</th>\n",
        "      <td>  2224</td>\n",
        "      <td> MD</td>\n",
        "      <td>  5774</td>\n",
        "      <td> 0.385175</td>\n",
        "    </tr>\n",
        "    <tr>\n",
        "      <th>NM</th>\n",
        "      <td>   761</td>\n",
        "      <td> NM</td>\n",
        "      <td>  2059</td>\n",
        "      <td> 0.369597</td>\n",
        "    </tr>\n",
        "    <tr>\n",
        "      <th>VA</th>\n",
        "      <td>  2930</td>\n",
        "      <td> VA</td>\n",
        "      <td>  8001</td>\n",
        "      <td> 0.366204</td>\n",
        "    </tr>\n",
        "    <tr>\n",
        "      <th>NY</th>\n",
        "      <td>  7049</td>\n",
        "      <td> NY</td>\n",
        "      <td> 19378</td>\n",
        "      <td> 0.363763</td>\n",
        "    </tr>\n",
        "    <tr>\n",
        "      <th>MT</th>\n",
        "      <td>   325</td>\n",
        "      <td> MT</td>\n",
        "      <td>   989</td>\n",
        "      <td> 0.328615</td>\n",
        "    </tr>\n",
        "    <tr>\n",
        "      <th>IL</th>\n",
        "      <td>  4066</td>\n",
        "      <td> IL</td>\n",
        "      <td> 12831</td>\n",
        "      <td> 0.316889</td>\n",
        "    </tr>\n",
        "    <tr>\n",
        "      <th>HI</th>\n",
        "      <td>   423</td>\n",
        "      <td> HI</td>\n",
        "      <td>  1360</td>\n",
        "      <td> 0.311029</td>\n",
        "    </tr>\n",
        "    <tr>\n",
        "      <th>AZ</th>\n",
        "      <td>  1986</td>\n",
        "      <td> AZ</td>\n",
        "      <td>  6392</td>\n",
        "      <td> 0.310701</td>\n",
        "    </tr>\n",
        "    <tr>\n",
        "      <th>CT</th>\n",
        "      <td>  1105</td>\n",
        "      <td> CT</td>\n",
        "      <td>  3574</td>\n",
        "      <td> 0.309177</td>\n",
        "    </tr>\n",
        "    <tr>\n",
        "      <th>PA</th>\n",
        "      <td>  3849</td>\n",
        "      <td> PA</td>\n",
        "      <td> 12702</td>\n",
        "      <td> 0.303023</td>\n",
        "    </tr>\n",
        "    <tr>\n",
        "      <th>WI</th>\n",
        "      <td>  1695</td>\n",
        "      <td> WI</td>\n",
        "      <td>  5687</td>\n",
        "      <td> 0.298048</td>\n",
        "    </tr>\n",
        "    <tr>\n",
        "      <th>RI</th>\n",
        "      <td>   313</td>\n",
        "      <td> RI</td>\n",
        "      <td>  1053</td>\n",
        "      <td> 0.297246</td>\n",
        "    </tr>\n",
        "    <tr>\n",
        "      <th>NJ</th>\n",
        "      <td>  2561</td>\n",
        "      <td> NJ</td>\n",
        "      <td>  8792</td>\n",
        "      <td> 0.291288</td>\n",
        "    </tr>\n",
        "    <tr>\n",
        "      <th>NV</th>\n",
        "      <td>   774</td>\n",
        "      <td> NV</td>\n",
        "      <td>  2701</td>\n",
        "      <td> 0.286561</td>\n",
        "    </tr>\n",
        "    <tr>\n",
        "      <th>ID</th>\n",
        "      <td>   440</td>\n",
        "      <td> ID</td>\n",
        "      <td>  1568</td>\n",
        "      <td> 0.280612</td>\n",
        "    </tr>\n",
        "    <tr>\n",
        "      <th>MI</th>\n",
        "      <td>  2698</td>\n",
        "      <td> MI</td>\n",
        "      <td>  9884</td>\n",
        "      <td> 0.272966</td>\n",
        "    </tr>\n",
        "    <tr>\n",
        "      <th>IA</th>\n",
        "      <td>   811</td>\n",
        "      <td> IA</td>\n",
        "      <td>  3046</td>\n",
        "      <td> 0.266251</td>\n",
        "    </tr>\n",
        "    <tr>\n",
        "      <th>ND</th>\n",
        "      <td>   175</td>\n",
        "      <td> ND</td>\n",
        "      <td>   673</td>\n",
        "      <td> 0.260030</td>\n",
        "    </tr>\n",
        "    <tr>\n",
        "      <th>FL</th>\n",
        "      <td>  4852</td>\n",
        "      <td> FL</td>\n",
        "      <td> 18801</td>\n",
        "      <td> 0.258071</td>\n",
        "    </tr>\n",
        "    <tr>\n",
        "      <th>KS</th>\n",
        "      <td>   729</td>\n",
        "      <td> KS</td>\n",
        "      <td>  2853</td>\n",
        "      <td> 0.255521</td>\n",
        "    </tr>\n",
        "    <tr>\n",
        "      <th>NC</th>\n",
        "      <td>  2434</td>\n",
        "      <td> NC</td>\n",
        "      <td>  9535</td>\n",
        "      <td> 0.255270</td>\n",
        "    </tr>\n",
        "    <tr>\n",
        "      <th>DE</th>\n",
        "      <td>   227</td>\n",
        "      <td> DE</td>\n",
        "      <td>   898</td>\n",
        "      <td> 0.252784</td>\n",
        "    </tr>\n",
        "    <tr>\n",
        "      <th>OH</th>\n",
        "      <td>  2877</td>\n",
        "      <td> OH</td>\n",
        "      <td> 11537</td>\n",
        "      <td> 0.249372</td>\n",
        "    </tr>\n",
        "    <tr>\n",
        "      <th>NE</th>\n",
        "      <td>   448</td>\n",
        "      <td> NE</td>\n",
        "      <td>  1826</td>\n",
        "      <td> 0.245345</td>\n",
        "    </tr>\n",
        "    <tr>\n",
        "      <th>MO</th>\n",
        "      <td>  1459</td>\n",
        "      <td> MO</td>\n",
        "      <td>  5989</td>\n",
        "      <td> 0.243613</td>\n",
        "    </tr>\n",
        "    <tr>\n",
        "      <th>WY</th>\n",
        "      <td>   134</td>\n",
        "      <td> WY</td>\n",
        "      <td>   564</td>\n",
        "      <td> 0.237589</td>\n",
        "    </tr>\n",
        "    <tr>\n",
        "      <th>IN</th>\n",
        "      <td>  1530</td>\n",
        "      <td> IN</td>\n",
        "      <td>  6484</td>\n",
        "      <td> 0.235965</td>\n",
        "    </tr>\n",
        "    <tr>\n",
        "      <th>TN</th>\n",
        "      <td>  1496</td>\n",
        "      <td> TN</td>\n",
        "      <td>  6346</td>\n",
        "      <td> 0.235739</td>\n",
        "    </tr>\n",
        "    <tr>\n",
        "      <th>SD</th>\n",
        "      <td>   188</td>\n",
        "      <td> SD</td>\n",
        "      <td>   814</td>\n",
        "      <td> 0.230958</td>\n",
        "    </tr>\n",
        "    <tr>\n",
        "      <th>GA</th>\n",
        "      <td>  2197</td>\n",
        "      <td> GA</td>\n",
        "      <td>  9688</td>\n",
        "      <td> 0.226775</td>\n",
        "    </tr>\n",
        "    <tr>\n",
        "      <th>TX</th>\n",
        "      <td>  5529</td>\n",
        "      <td> TX</td>\n",
        "      <td> 25146</td>\n",
        "      <td> 0.219876</td>\n",
        "    </tr>\n",
        "    <tr>\n",
        "      <th>KY</th>\n",
        "      <td>   888</td>\n",
        "      <td> KY</td>\n",
        "      <td>  4339</td>\n",
        "      <td> 0.204655</td>\n",
        "    </tr>\n",
        "    <tr>\n",
        "      <th>WV</th>\n",
        "      <td>   324</td>\n",
        "      <td> WV</td>\n",
        "      <td>  1853</td>\n",
        "      <td> 0.174852</td>\n",
        "    </tr>\n",
        "    <tr>\n",
        "      <th>SC</th>\n",
        "      <td>   784</td>\n",
        "      <td> SC</td>\n",
        "      <td>  4625</td>\n",
        "      <td> 0.169514</td>\n",
        "    </tr>\n",
        "    <tr>\n",
        "      <th>OK</th>\n",
        "      <td>   606</td>\n",
        "      <td> OK</td>\n",
        "      <td>  3751</td>\n",
        "      <td> 0.161557</td>\n",
        "    </tr>\n",
        "    <tr>\n",
        "      <th>AR</th>\n",
        "      <td>   455</td>\n",
        "      <td> AR</td>\n",
        "      <td>  2916</td>\n",
        "      <td> 0.156036</td>\n",
        "    </tr>\n",
        "    <tr>\n",
        "      <th>AL</th>\n",
        "      <td>   713</td>\n",
        "      <td> AL</td>\n",
        "      <td>  4780</td>\n",
        "      <td> 0.149163</td>\n",
        "    </tr>\n",
        "    <tr>\n",
        "      <th>LA</th>\n",
        "      <td>   582</td>\n",
        "      <td> LA</td>\n",
        "      <td>  4533</td>\n",
        "      <td> 0.128392</td>\n",
        "    </tr>\n",
        "    <tr>\n",
        "      <th>MS</th>\n",
        "      <td>   268</td>\n",
        "      <td> MS</td>\n",
        "      <td>  2967</td>\n",
        "      <td> 0.090327</td>\n",
        "    </tr>\n",
        "  </tbody>\n",
        "</table>\n",
        "</div>"
       ],
       "metadata": {},
       "output_type": "pyout",
       "prompt_number": 146,
       "text": [
        "       comments state  population  percapita\n",
        "state                                       \n",
        "DC          568    DC         602   0.943522\n",
        "WA         5039    WA        6725   0.749294\n",
        "OR         2778    OR        3831   0.725137\n",
        "AK          468    AK         710   0.659155\n",
        "VT          400    VT         626   0.638978\n",
        "MA         3324    MA        6548   0.507636\n",
        "CO         2475    CO        5029   0.492146\n",
        "NH          591    NH        1316   0.449088\n",
        "CA        16051    CA       37254   0.430853\n",
        "ME          559    ME        1328   0.420934\n",
        "MN         2099    MN        5304   0.395739\n",
        "UT         1082    UT        2764   0.391462\n",
        "MD         2224    MD        5774   0.385175\n",
        "NM          761    NM        2059   0.369597\n",
        "VA         2930    VA        8001   0.366204\n",
        "NY         7049    NY       19378   0.363763\n",
        "MT          325    MT         989   0.328615\n",
        "IL         4066    IL       12831   0.316889\n",
        "HI          423    HI        1360   0.311029\n",
        "AZ         1986    AZ        6392   0.310701\n",
        "CT         1105    CT        3574   0.309177\n",
        "PA         3849    PA       12702   0.303023\n",
        "WI         1695    WI        5687   0.298048\n",
        "RI          313    RI        1053   0.297246\n",
        "NJ         2561    NJ        8792   0.291288\n",
        "NV          774    NV        2701   0.286561\n",
        "ID          440    ID        1568   0.280612\n",
        "MI         2698    MI        9884   0.272966\n",
        "IA          811    IA        3046   0.266251\n",
        "ND          175    ND         673   0.260030\n",
        "FL         4852    FL       18801   0.258071\n",
        "KS          729    KS        2853   0.255521\n",
        "NC         2434    NC        9535   0.255270\n",
        "DE          227    DE         898   0.252784\n",
        "OH         2877    OH       11537   0.249372\n",
        "NE          448    NE        1826   0.245345\n",
        "MO         1459    MO        5989   0.243613\n",
        "WY          134    WY         564   0.237589\n",
        "IN         1530    IN        6484   0.235965\n",
        "TN         1496    TN        6346   0.235739\n",
        "SD          188    SD         814   0.230958\n",
        "GA         2197    GA        9688   0.226775\n",
        "TX         5529    TX       25146   0.219876\n",
        "KY          888    KY        4339   0.204655\n",
        "WV          324    WV        1853   0.174852\n",
        "SC          784    SC        4625   0.169514\n",
        "OK          606    OK        3751   0.161557\n",
        "AR          455    AR        2916   0.156036\n",
        "AL          713    AL        4780   0.149163\n",
        "LA          582    LA        4533   0.128392\n",
        "MS          268    MS        2967   0.090327"
       ]
      }
     ],
     "prompt_number": 146
    },
    {
     "cell_type": "code",
     "collapsed": false,
     "input": [
      "sorted_percapita.percapita.plot(kind='bar')"
     ],
     "language": "python",
     "metadata": {},
     "outputs": [
      {
       "metadata": {},
       "output_type": "pyout",
       "prompt_number": 147,
       "text": [
        "<matplotlib.axes.AxesSubplot at 0x117c23550>"
       ]
      },
      {
       "metadata": {},
       "output_type": "display_data",
       "png": "[encoded data removed]",
       "text": [
        "<matplotlib.figure.Figure at 0x1189ea650>"
       ]
      }
     ],
     "prompt_number": 147
    },
    {
     "cell_type": "code",
     "collapsed": false,
     "input": [
      "ax = sorted_percapita.percapita.plot(kind='bar',color='grey',grid=False)\n",
      "labs = ax.get_xticklabels()\n",
      "for lab in labs:\n",
      "    lab.set_fontsize(6)\n",
      "    lab.set_rotation(0)\n",
      "ax.figure.set_figwidth(9)\n",
      "ax.figure.set_figheight(3)\n",
      "ax.figure.savefig('state_dist.png',dpi=200)"
     ],
     "language": "python",
     "metadata": {},
     "outputs": [
      {
       "metadata": {},
       "output_type": "display_data",
       "png": "[encoded data removed]",
       "text": [
        "<matplotlib.figure.Figure at 0x11acfd350>"
       ]
      }
     ],
     "prompt_number": 183
    },
    {
     "cell_type": "code",
     "collapsed": false,
     "input": [
      "\n",
      "    \n"
     ],
     "language": "python",
     "metadata": {},
     "outputs": [],
     "prompt_number": 154
    },
    {
     "cell_type": "code",
     "collapsed": false,
     "input": [
      "#from ggplot import *"
     ],
     "language": "python",
     "metadata": {},
     "outputs": [],
     "prompt_number": 142
    },
    {
     "cell_type": "code",
     "collapsed": false,
     "input": [
      "#ggplot(aes(x=\"state\", weight=\"percapita\"), per_capita_comments) + geom_bar()"
     ],
     "language": "python",
     "metadata": {},
     "outputs": [],
     "prompt_number": 143
    },
    {
     "cell_type": "code",
     "collapsed": false,
     "input": [],
     "language": "python",
     "metadata": {},
     "outputs": [],
     "prompt_number": 60
    },
    {
     "cell_type": "code",
     "collapsed": false,
     "input": [
      "sorted_percapita.percapita.plot(kind='bar')\n",
      "plt.annotate('Texas', xy=(42, .25), xytext=(42, .5),fontsize=20,\n",
      "            arrowprops=dict(facecolor='black', shrink=0.05))"
     ],
     "language": "python",
     "metadata": {},
     "outputs": [
      {
       "metadata": {},
       "output_type": "pyout",
       "prompt_number": 144,
       "text": [
        "<matplotlib.text.Annotation at 0x117ec1cd0>"
       ]
      },
      {
       "metadata": {},
       "output_type": "display_data",
       "png": "[encoded data removed]",
       "text": [
        "<matplotlib.figure.Figure at 0x1185d6710>"
       ]
      }
     ],
     "prompt_number": 144
    },
    {
     "cell_type": "code",
     "collapsed": false,
     "input": [
      "median(sorted_percapita.percapita)"
     ],
     "language": "python",
     "metadata": {},
     "outputs": [
      {
       "metadata": {},
       "output_type": "pyout",
       "prompt_number": 50,
       "text": [
        "0.28656053313587559"
       ]
      }
     ],
     "prompt_number": 50
    },
    {
     "cell_type": "code",
     "collapsed": false,
     "input": [
      "mean(sorted_percapita.percapita)"
     ],
     "language": "python",
     "metadata": {},
     "outputs": [
      {
       "metadata": {},
       "output_type": "pyout",
       "prompt_number": 51,
       "text": [
        "0.32946059618526341"
       ]
      }
     ],
     "prompt_number": 51
    },
    {
     "cell_type": "code",
     "collapsed": false,
     "input": [
      "sp.stats.percentileofscore(sorted_percapita.percapita,.28)"
     ],
     "language": "python",
     "metadata": {},
     "outputs": [
      {
       "metadata": {},
       "output_type": "pyout",
       "prompt_number": 52,
       "text": [
        "47.058823529411761"
       ]
      }
     ],
     "prompt_number": 52
    },
    {
     "cell_type": "code",
     "collapsed": false,
     "input": [
      "x = sorted_percapita.percapita[sorted_percapita.state=='TX']\n",
      "y = sp.stats.percentileofscore(sorted_percapita.percapita,x[0])\n",
      "y"
     ],
     "language": "python",
     "metadata": {},
     "outputs": [
      {
       "metadata": {},
       "output_type": "pyout",
       "prompt_number": 184,
       "text": [
        "17.647058823529413"
       ]
      }
     ],
     "prompt_number": 184
    },
    {
     "cell_type": "code",
     "collapsed": false,
     "input": [
      "x = sorted_percapita.percapita[sorted_percapita.state=='OR']\n",
      "y = sp.stats.percentileofscore(sorted_percapita.percapita,x[0])\n",
      "y"
     ],
     "language": "python",
     "metadata": {},
     "outputs": [
      {
       "metadata": {},
       "output_type": "pyout",
       "prompt_number": 185,
       "text": [
        "96.078431372549019"
       ]
      }
     ],
     "prompt_number": 185
    },
    {
     "cell_type": "code",
     "collapsed": false,
     "input": [
      "import matplotlib.pyplot as plt"
     ],
     "language": "python",
     "metadata": {},
     "outputs": [],
     "prompt_number": 54
    },
    {
     "cell_type": "code",
     "collapsed": false,
     "input": [
      "boxplot(sorted_percapita.percapita)\n",
      "#text(1.1,median(sorted_percapita.percapita),'median')\n",
      "plt.annotate('Texas', xy=(1.1, x[0]), xytext=(1.3, x[0]),fontsize=20,\n",
      "            arrowprops=dict(facecolor='black', shrink=0.05))"
     ],
     "language": "python",
     "metadata": {},
     "outputs": [
      {
       "metadata": {},
       "output_type": "pyout",
       "prompt_number": 55,
       "text": [
        "<matplotlib.text.Annotation at 0x10a869150>"
       ]
      },
      {
       "metadata": {},
       "output_type": "display_data",
       "png": "[encoded data removed]",
       "text": [
        "<matplotlib.figure.Figure at 0x10a920b10>"
       ]
      }
     ],
     "prompt_number": 55
    },
    {
     "cell_type": "code",
     "collapsed": false,
     "input": [],
     "language": "python",
     "metadata": {},
     "outputs": [],
     "prompt_number": 55
    },
    {
     "cell_type": "code",
     "collapsed": false,
     "input": [
      "dates = [d['date'] for d in data]"
     ],
     "language": "python",
     "metadata": {},
     "outputs": [],
     "prompt_number": 56
    },
    {
     "cell_type": "code",
     "collapsed": false,
     "input": [
      "type(dates[1])"
     ],
     "language": "python",
     "metadata": {},
     "outputs": [
      {
       "metadata": {},
       "output_type": "pyout",
       "prompt_number": 57,
       "text": [
        "unicode"
       ]
      }
     ],
     "prompt_number": 57
    },
    {
     "cell_type": "code",
     "collapsed": false,
     "input": [
      "dates[1]"
     ],
     "language": "python",
     "metadata": {},
     "outputs": [
      {
       "metadata": {},
       "output_type": "pyout",
       "prompt_number": 58,
       "text": [
        "u'2014-02-21T05:00:00Z'"
       ]
      }
     ],
     "prompt_number": 58
    },
    {
     "cell_type": "code",
     "collapsed": false,
     "input": [],
     "language": "python",
     "metadata": {},
     "outputs": [],
     "prompt_number": 61
    },
    {
     "cell_type": "code",
     "collapsed": false,
     "input": [],
     "language": "python",
     "metadata": {},
     "outputs": [],
     "prompt_number": 59
    },
    {
     "cell_type": "code",
     "collapsed": false,
     "input": [
      "import pymysql as mdb\n",
      "con = mdb.connect('localhost', 'root', '', 'commentdb')\n",
      "c = con.cursor()\n",
      "\n",
      "#for each element in my list of dictionaries run the following:\n",
      "    \n",
      "colNames = []\n",
      "formatStrings = []\n",
      "values = []\n",
      "\n",
      "for colName, value in data[100].items():\n",
      "    if not value == None:\n",
      "        colNames.append(colName)\n",
      "        values.append(value)\n",
      "        formatStrings.append('%s')\n",
      "\n",
      "insertStatement = \"INSERT INTO %s(%s) VALUES(%s)\" % (\n",
      "    'Repos', \n",
      "    ', '.join(colNames), \n",
      "    ', '.join(formatStrings))\n",
      "\n",
      "print(insertStatement)\n",
      "\n",
      "data[100].viewitems()\n",
      "#colName"
     ],
     "language": "python",
     "metadata": {},
     "outputs": [
      {
       "output_type": "stream",
       "stream": "stdout",
       "text": [
        "INSERT INTO Repos(comment, city, zip, applicant, state, date) VALUES(%s, %s, %s, %s, %s, %s)\n"
       ]
      },
      {
       "metadata": {},
       "output_type": "pyout",
       "prompt_number": 110,
       "text": [
        "dict_items([(u'comment', u'7521074414.txt \\nReclassify The Internet As A Common Carrier.  \\nPage 1'), (u'city', u'Ann Arbor'), (u'zip', u'48108'), (u'applicant', u'Kathleen Peabody'), (u'state', u'MI'), (u'date', u'2014-02-21T05:00:00Z')])"
       ]
      }
     ],
     "prompt_number": 110
    },
    {
     "cell_type": "code",
     "collapsed": false,
     "input": [
      "c.execute(insertStatement, tuple(values))\n",
      "\n",
      "#close the loop through the list of dictionaries here\n",
      "\n",
      "con.commit()\n"
     ],
     "language": "python",
     "metadata": {},
     "outputs": []
    },
    {
     "cell_type": "code",
     "collapsed": false,
     "input": [
      "import pymysql as mdb\n",
      "\n",
      "con = mdb.connect('localhost', 'root', '', 'testdb') #host, user, password, #database\n",
      "\n",
      "with con:\n",
      "    cur = con.cursor()\n",
      "    cur.execute(\"DROP TABLE IF EXISTS Writers\")\n",
      "    cur.execute(\"CREATE TABLE Writers(Id INT PRIMARY KEY AUTO_INCREMENT,Name VARCHAR(25))\")\n",
      "    cur.execute(\"INSERT INTO Writers(Name) VALUES('Jack London')\")\n",
      "    cur.execute(\"INSERT INTO Writers(Name) VALUES('Honore de Balzac')\")\n",
      "    cur.execute(\"INSERT INTO Writers(Name) VALUES('Lion Feuchtwanger')\")\n",
      "    cur.execute(\"INSERT INTO Writers(Name) VALUES('Emile Zola')\")\n",
      "    cur.execute(\"INSERT INTO Writers(Name) VALUES('Truman Capote')\")\n",
      "\n",
      "with con: \n",
      "    cur = con.cursor()\n",
      "    cur.execute(\"SELECT * FROM Writers\")\n",
      "    rows = cur.fetchall()\n",
      "    for row in rows:\n",
      "        print row"
     ],
     "language": "python",
     "metadata": {},
     "outputs": []
    },
    {
     "cell_type": "code",
     "collapsed": false,
     "input": [
      "type(data[0])"
     ],
     "language": "python",
     "metadata": {},
     "outputs": [
      {
       "metadata": {},
       "output_type": "pyout",
       "prompt_number": 89,
       "text": [
        "dict"
       ]
      }
     ],
     "prompt_number": 89
    },
    {
     "cell_type": "code",
     "collapsed": false,
     "input": [],
     "language": "python",
     "metadata": {},
     "outputs": [],
     "prompt_number": 165
    },
    {
     "cell_type": "code",
     "collapsed": false,
     "input": [],
     "language": "python",
     "metadata": {},
     "outputs": []
    }
   ],
   "metadata": {}
  }
 ]
}