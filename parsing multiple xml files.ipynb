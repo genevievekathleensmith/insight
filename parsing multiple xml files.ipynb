{
 "metadata": {
  "name": "",
  "signature": "sha256:9cbf0fe693b9964a94cbb86bf63ceac1d1b1390c49a548f5ec8ca5b768b03378"
 },
 "nbformat": 3,
 "nbformat_minor": 0,
 "worksheets": [
  {
   "cells": [
    {
     "cell_type": "code",
     "collapsed": false,
     "input": [
      "from lxml import etree, objectify\n",
      "from io import StringIO, BytesIO\n",
      "import pandas as pd"
     ],
     "language": "python",
     "metadata": {},
     "outputs": [],
     "prompt_number": 1
    },
    {
     "cell_type": "code",
     "collapsed": false,
     "input": [
      "tree = etree.parse(\"14-28-RAW-Solr-1_toparse.xml\")\n",
      "root = tree.getroot()"
     ],
     "language": "python",
     "metadata": {},
     "outputs": [],
     "prompt_number": 2
    },
    {
     "cell_type": "code",
     "collapsed": false,
     "input": [
      "mylist = []\n",
      "for doc in root.findall('doc'):\n",
      "    mylist.append(dict([(i.values()[0], i.getchildren()[0].text) for i in doc.getchildren() if i.values()[0]!='score']))"
     ],
     "language": "python",
     "metadata": {},
     "outputs": [],
     "prompt_number": 3
    },
    {
     "cell_type": "code",
     "collapsed": false,
     "input": [
      "len(mylist)"
     ],
     "language": "python",
     "metadata": {},
     "outputs": [
      {
       "metadata": {},
       "output_type": "pyout",
       "prompt_number": 4,
       "text": [
        "100000"
       ]
      }
     ],
     "prompt_number": 4
    },
    {
     "cell_type": "code",
     "collapsed": false,
     "input": [
      "tree = etree.parse(\"14-28-RAW-Solr-4_toparse.xml\")\n",
      "root = tree.getroot()"
     ],
     "language": "python",
     "metadata": {},
     "outputs": [],
     "prompt_number": 5
    },
    {
     "cell_type": "code",
     "collapsed": false,
     "input": [
      "for doc in root.findall('doc'):\n",
      "    mylist.append(dict([(i.values()[0], i.getchildren()[0].text) for i in doc.getchildren() if i.values()[0]!='score']))"
     ],
     "language": "python",
     "metadata": {},
     "outputs": [],
     "prompt_number": 6
    },
    {
     "cell_type": "code",
     "collapsed": false,
     "input": [
      "#len(mylist)"
     ],
     "language": "python",
     "metadata": {},
     "outputs": [],
     "prompt_number": 7
    },
    {
     "cell_type": "code",
     "collapsed": false,
     "input": [
      "tree = etree.parse(\"14-28-RAW-Solr-5_toparse.xml\")\n",
      "root = tree.getroot()"
     ],
     "language": "python",
     "metadata": {},
     "outputs": [],
     "prompt_number": 8
    },
    {
     "cell_type": "code",
     "collapsed": false,
     "input": [
      "for doc in root.findall('doc'):\n",
      "    mylist.append(dict([(i.values()[0], i.getchildren()[0].text) for i in doc.getchildren() if i.values()[0]!='score']))"
     ],
     "language": "python",
     "metadata": {},
     "outputs": [],
     "prompt_number": 9
    },
    {
     "cell_type": "code",
     "collapsed": false,
     "input": [
      "len(mylist)"
     ],
     "language": "python",
     "metadata": {},
     "outputs": [
      {
       "metadata": {},
       "output_type": "pyout",
       "prompt_number": 10,
       "text": [
        "246719"
       ]
      }
     ],
     "prompt_number": 10
    },
    {
     "cell_type": "code",
     "collapsed": false,
     "input": [
      "ids = [d['id'] if 'id' in d else None for d in mylist]\n",
      "dates = [d['dateRcpt'] if 'dateRcpt' in d else None for d in mylist]\n",
      "expartes= [d['exParte'] if 'exParte' in d else None for d in mylist]\n",
      "states = [d['stateCd'] if 'stateCd' in d else None for d in mylist]\n",
      "zips = [d['zip'] if 'zip' in d else None for d in mylist]\n",
      "\n",
      "comments = [d['text'] if 'text' in d else None for d in mylist]"
     ],
     "language": "python",
     "metadata": {},
     "outputs": [],
     "prompt_number": 45
    },
    {
     "cell_type": "code",
     "collapsed": false,
     "input": [],
     "language": "python",
     "metadata": {},
     "outputs": [],
     "prompt_number": 56
    },
    {
     "cell_type": "code",
     "collapsed": false,
     "input": [
      "info = zip(ids,expartes,states)"
     ],
     "language": "python",
     "metadata": {},
     "outputs": [],
     "prompt_number": 51
    },
    {
     "cell_type": "code",
     "collapsed": false,
     "input": [
      "info_df = pd.DataFrame(info)\n",
      "info_df.columns = ['id', 'exparte','state']"
     ],
     "language": "python",
     "metadata": {},
     "outputs": [],
     "prompt_number": 53
    },
    {
     "cell_type": "code",
     "collapsed": false,
     "input": [
      "from pandas.io import sql\n",
      "import MySQLdb as db\n",
      "#Open connection to mysql database\n",
      "con = db.connect('localhost','root','','FCC')\n",
      "\n",
      "#Write dataframe to mysql database\n",
      "info_df[:100000].to_sql(con=con, name='meta', if_exists='replace', flavor='mysql')"
     ],
     "language": "python",
     "metadata": {},
     "outputs": [],
     "prompt_number": 54
    },
    {
     "cell_type": "code",
     "collapsed": false,
     "input": [
      "con = db.connect('localhost','root','','FCC')\n",
      "\n",
      "#Write dataframe to mysql database\n",
      "info_df[100000:200000].to_sql(con=con, name='meta', if_exists='append', flavor='mysql')\n",
      "#len(info_df)"
     ],
     "language": "python",
     "metadata": {},
     "outputs": [],
     "prompt_number": 55
    },
    {
     "cell_type": "code",
     "collapsed": false,
     "input": [
      "con = db.connect('localhost','root','','FCC')\n",
      "\n",
      "#Write dataframe to mysql database\n",
      "info_df[200000:].to_sql(con=con, name='meta', if_exists='append', flavor='mysql')\n",
      "#len(info_df)"
     ],
     "language": "python",
     "metadata": {},
     "outputs": [],
     "prompt_number": 56
    },
    {
     "cell_type": "code",
     "collapsed": false,
     "input": [
      "#tree = etree.parse(\"14-28-RAW-Solr-2_toparse.xml\")"
     ],
     "language": "python",
     "metadata": {},
     "outputs": []
    },
    {
     "cell_type": "code",
     "collapsed": false,
     "input": [
      "#tree = etree.parse(\"14-28-RAW-Solr-3a_toparse.xml\")"
     ],
     "language": "python",
     "metadata": {},
     "outputs": [],
     "prompt_number": 13
    },
    {
     "cell_type": "code",
     "collapsed": false,
     "input": [
      "#tree = etree.parse(\"14-28-RAW-Solr-3b_toparse.xml\")"
     ],
     "language": "python",
     "metadata": {},
     "outputs": [],
     "prompt_number": 14
    },
    {
     "cell_type": "code",
     "collapsed": false,
     "input": [
      "\n",
      "\n",
      "\n",
      "\n",
      "\n",
      "\n",
      "\n",
      "\n",
      "\n",
      "\n",
      "\n",
      "\n",
      "\n",
      "\n",
      "\n",
      "\n",
      "\n",
      "\n",
      "\n",
      "\n",
      "\n",
      "\n",
      "\n",
      "\n"
     ],
     "language": "python",
     "metadata": {},
     "outputs": [],
     "prompt_number": 14
    },
    {
     "cell_type": "code",
     "collapsed": false,
     "input": [],
     "language": "python",
     "metadata": {},
     "outputs": [],
     "prompt_number": 56
    },
    {
     "cell_type": "code",
     "collapsed": false,
     "input": [
      "#comments = [d['text'] for d in mylist]"
     ],
     "language": "python",
     "metadata": {},
     "outputs": [],
     "prompt_number": 12
    },
    {
     "cell_type": "code",
     "collapsed": false,
     "input": [
      "#states = [d['stateCd'] if 'stateCd' in d else None for d in mylist]"
     ],
     "language": "python",
     "metadata": {},
     "outputs": [],
     "prompt_number": 13
    },
    {
     "cell_type": "code",
     "collapsed": false,
     "input": [
      "#applicants = [d['applicant'] for d in mylist]"
     ],
     "language": "python",
     "metadata": {},
     "outputs": [],
     "prompt_number": 14
    },
    {
     "cell_type": "code",
     "collapsed": false,
     "input": [
      "#dates = [d['dateRcpt'] for d in mylist]"
     ],
     "language": "python",
     "metadata": {},
     "outputs": [],
     "prompt_number": 15
    },
    {
     "cell_type": "code",
     "collapsed": false,
     "input": [
      "#len(comments), len(states), len(applicants), len(dates), type(applicants)"
     ],
     "language": "python",
     "metadata": {},
     "outputs": [],
     "prompt_number": 58
    },
    {
     "cell_type": "code",
     "collapsed": false,
     "input": [
      "#applicants.count('Numerous')"
     ],
     "language": "python",
     "metadata": {},
     "outputs": [],
     "prompt_number": 57
    },
    {
     "cell_type": "code",
     "collapsed": false,
     "input": [
      "#raw_comment_data = zip(applicants,states,dates,comments)\n",
      "#type(raw_comment_data)\n",
      "#raw_metadata[:4]\n",
      "#raw_comment_df = pd.DataFrame(raw_comment_data)\n",
      "\n",
      "#raw_comment_df.columns = ['applicant_name','state','date_time','comments']\n",
      "\n",
      "#raw_comment_df[:10]\n"
     ],
     "language": "python",
     "metadata": {},
     "outputs": [],
     "prompt_number": 59
    },
    {
     "cell_type": "code",
     "collapsed": false,
     "input": [
      "\n",
      "#raw_comment_df[2839:2841]\n",
      "len(mylist)"
     ],
     "language": "python",
     "metadata": {},
     "outputs": [
      {
       "metadata": {},
       "output_type": "pyout",
       "prompt_number": 60,
       "text": [
        "246719"
       ]
      }
     ],
     "prompt_number": 60
    },
    {
     "cell_type": "code",
     "collapsed": false,
     "input": [
      "import MySQLdb as db\n",
      "import chardet\n",
      "chardet.detect(mylist[0]['text'])\n",
      "encoding = chardet.detect(mylist[0]['text'])['encoding']\n",
      "encoding\n",
      "#mylist[0]['text'].decode(encoding)\n"
     ],
     "language": "python",
     "metadata": {},
     "outputs": [
      {
       "metadata": {},
       "output_type": "pyout",
       "prompt_number": 61,
       "text": [
        "'ascii'"
       ]
      }
     ],
     "prompt_number": 61
    },
    {
     "cell_type": "code",
     "collapsed": false,
     "input": [],
     "language": "python",
     "metadata": {},
     "outputs": [],
     "prompt_number": 61
    },
    {
     "cell_type": "code",
     "collapsed": false,
     "input": [
      "#raw_comment_df[:1000].to_sql(con=con, name='rawcomments', if_exists='replace', flavor='mysql')\n",
      "con = db.connect('localhost','root','','FCC', charset='utf8')\n",
      "\n",
      "cr = con.cursor()\n",
      "cr.execute(\"drop table if exists rawcomments;\")\n",
      "# create table columns\n",
      "tmp = '''create table rawcomments (applicant_name text, state text, text longtext);'''\n",
      "cr.execute(tmp)\n",
      "\n",
      "with con:\n",
      "    cr = con.cursor()\n",
      "    for d in mylist[:10000]: \n",
      "\n",
      "        text = d['text']\n",
      "        applicant = d['applicant']    \n",
      "        #print applicant\n",
      "    #encoding = chardet.detect(text)['encoding']\n",
      "    #fixed = text.decode(encoding)\n",
      "        try:\n",
      "            stateCd = d['stateCd']\n",
      "        except:\n",
      "            stateCd = 'not given'\n",
      "        #print stateCd\n",
      "        #print text\n",
      "        try:\n",
      "            text = text.encode('utf8')   \n",
      "            cr.execute('INSERT INTO rawcomments VALUES (%s, %s, %s)', (applicant, stateCd, text))\n",
      "        except:\n",
      "            break\n",
      "\n",
      "cr.close()"
     ],
     "language": "python",
     "metadata": {},
     "outputs": [],
     "prompt_number": 161
    },
    {
     "cell_type": "code",
     "collapsed": false,
     "input": [
      "#chardet.detect((mylist[1361]['text'].encode('utf8')))"
     ],
     "language": "python",
     "metadata": {},
     "outputs": [
      {
       "metadata": {},
       "output_type": "pyout",
       "prompt_number": 160,
       "text": [
        "{'confidence': 0.99, 'encoding': 'utf-8'}"
       ]
      }
     ],
     "prompt_number": 160
    },
    {
     "cell_type": "code",
     "collapsed": false,
     "input": [
      "test = mylist[1361]['text'].encode('utf8')\n",
      "chardet.detect(test)['encoding']"
     ],
     "language": "python",
     "metadata": {},
     "outputs": [
      {
       "metadata": {},
       "output_type": "pyout",
       "prompt_number": 151,
       "text": [
        "'utf-8'"
       ]
      }
     ],
     "prompt_number": 151
    },
    {
     "cell_type": "code",
     "collapsed": false,
     "input": [
      "#Open connection to mysql database\n",
      "#con = db.connect('localhost','root','','FCC')\n",
      "\n",
      "#Write dataframe to mysql database\n",
      "#raw_comment_df[:1000].to_sql(con=con, name='rawcomments', if_exists='replace', flavor='mysql')\n",
      "chardet.detect(mylist[50001]['text'])['encoding']"
     ],
     "language": "python",
     "metadata": {},
     "outputs": [
      {
       "metadata": {},
       "output_type": "pyout",
       "prompt_number": 174,
       "text": [
        "'ascii'"
       ]
      }
     ],
     "prompt_number": 174
    },
    {
     "cell_type": "code",
     "collapsed": false,
     "input": [
      "#raw_comment_df[:1000].to_sql(con=con, name='rawcomments', if_exists='replace', flavor='mysql')\n",
      "con = db.connect('localhost','root','','FCC', charset='utf8')\n",
      "\n",
      "cr = con.cursor()\n",
      "cr.execute(\"drop table if exists rawcomments;\")\n",
      "# create table columns\n",
      "tmp = '''create table rawcomments (applicant_name text, state text, text longtext);'''\n",
      "cr.execute(tmp)\n",
      "\n",
      "with con:\n",
      "    cr = con.cursor()\n",
      "    for d in mylist[:70000]: \n",
      "\n",
      "        text = d['text']\n",
      "        applicant = d['applicant']    \n",
      "        #print applicant\n",
      "    #encoding = chardet.detect(text)['encoding']\n",
      "    #fixed = text.decode(encoding)\n",
      "        try:\n",
      "            stateCd = d['stateCd']\n",
      "        except:\n",
      "            stateCd = 'not given'\n",
      "        #print stateCd\n",
      "        #print text\n",
      "        try:\n",
      "            chardet.detect(text)['encoding'] == 'ascii'\n",
      "        except:\n",
      "            text = 'unreadable comment'\n",
      "        #print chardet.detect(text)\n",
      "        cr.execute('INSERT INTO rawcomments VALUES (%s, %s, %s)', (applicant, stateCd, text))\n",
      "        #except:\n",
      "        #    break\n",
      "\n",
      "cr.close()"
     ],
     "language": "python",
     "metadata": {},
     "outputs": [
      {
       "ename": "NameError",
       "evalue": "name 'db' is not defined",
       "output_type": "pyerr",
       "traceback": [
        "\u001b[0;31m---------------------------------------------------------------------------\u001b[0m\n\u001b[0;31mNameError\u001b[0m                                 Traceback (most recent call last)",
        "\u001b[0;32m<ipython-input-12-e4ae8333f7be>\u001b[0m in \u001b[0;36m<module>\u001b[0;34m()\u001b[0m\n\u001b[1;32m      1\u001b[0m \u001b[0;31m#raw_comment_df[:1000].to_sql(con=con, name='rawcomments', if_exists='replace', flavor='mysql')\u001b[0m\u001b[0;34m\u001b[0m\u001b[0;34m\u001b[0m\u001b[0m\n\u001b[0;32m----> 2\u001b[0;31m \u001b[0mcon\u001b[0m \u001b[0;34m=\u001b[0m \u001b[0mdb\u001b[0m\u001b[0;34m.\u001b[0m\u001b[0mconnect\u001b[0m\u001b[0;34m(\u001b[0m\u001b[0;34m'localhost'\u001b[0m\u001b[0;34m,\u001b[0m\u001b[0;34m'root'\u001b[0m\u001b[0;34m,\u001b[0m\u001b[0;34m''\u001b[0m\u001b[0;34m,\u001b[0m\u001b[0;34m'FCC'\u001b[0m\u001b[0;34m,\u001b[0m \u001b[0mcharset\u001b[0m\u001b[0;34m=\u001b[0m\u001b[0;34m'utf8'\u001b[0m\u001b[0;34m)\u001b[0m\u001b[0;34m\u001b[0m\u001b[0m\n\u001b[0m\u001b[1;32m      3\u001b[0m \u001b[0;34m\u001b[0m\u001b[0m\n\u001b[1;32m      4\u001b[0m \u001b[0mcr\u001b[0m \u001b[0;34m=\u001b[0m \u001b[0mcon\u001b[0m\u001b[0;34m.\u001b[0m\u001b[0mcursor\u001b[0m\u001b[0;34m(\u001b[0m\u001b[0;34m)\u001b[0m\u001b[0;34m\u001b[0m\u001b[0m\n\u001b[1;32m      5\u001b[0m \u001b[0mcr\u001b[0m\u001b[0;34m.\u001b[0m\u001b[0mexecute\u001b[0m\u001b[0;34m(\u001b[0m\u001b[0;34m\"drop table if exists rawcomments;\"\u001b[0m\u001b[0;34m)\u001b[0m\u001b[0;34m\u001b[0m\u001b[0m\n",
        "\u001b[0;31mNameError\u001b[0m: name 'db' is not defined"
       ]
      }
     ],
     "prompt_number": 12
    },
    {
     "cell_type": "code",
     "collapsed": false,
     "input": [
      "raw_metadata = zip(applicants,states,dates)\n",
      "type(raw_metadata)\n",
      "raw_metadata[:4]\n",
      "raw_meta_df = pd.DataFrame(raw_metadata)\n",
      "raw_meta_df\n",
      "\n",
      "raw_meta_df.columns\n",
      "\n",
      "raw_meta_df.to_csv('raw_metadata.csv',sep=',', encoding='utf-8')"
     ],
     "language": "python",
     "metadata": {},
     "outputs": [],
     "prompt_number": 29
    },
    {
     "cell_type": "code",
     "collapsed": false,
     "input": [
      "from __future__ import division  # Python 2 users only\n",
      "import nltk, re, pprint\n",
      "from nltk import word_tokenize\n",
      "from gensim import corpora, models, similarities"
     ],
     "language": "python",
     "metadata": {},
     "outputs": [],
     "prompt_number": 30
    },
    {
     "cell_type": "code",
     "collapsed": false,
     "input": [
      "words = word_tokenize(comments[0])"
     ],
     "language": "python",
     "metadata": {},
     "outputs": [],
     "prompt_number": 31
    },
    {
     "cell_type": "code",
     "collapsed": false,
     "input": [
      "#[w.lower() for w in words]\n",
      "#[nltk.LancasterStemmer().stem(word) for word in words]\n",
      "#' '.join(words)"
     ],
     "language": "python",
     "metadata": {},
     "outputs": [],
     "prompt_number": 32
    },
    {
     "cell_type": "code",
     "collapsed": false,
     "input": [
      "stoplist = set('for a of the and to in'.split())\n",
      "texts = [[word for word in comment.lower().split() if word not in stoplist]\n",
      "          for comment in comments]"
     ],
     "language": "python",
     "metadata": {},
     "outputs": [],
     "prompt_number": 20
    },
    {
     "cell_type": "code",
     "collapsed": false,
     "input": [
      "type(texts)\n",
      "len(texts)"
     ],
     "language": "python",
     "metadata": {},
     "outputs": []
    },
    {
     "cell_type": "code",
     "collapsed": false,
     "input": [
      "#all_tokens = sum(texts)"
     ],
     "language": "python",
     "metadata": {},
     "outputs": []
    },
    {
     "cell_type": "code",
     "collapsed": false,
     "input": [
      "tokens_once = set(word for word in set(all_tokens) if all_tokens.count(word) == 1)\n",
      "texts = [[word for word in text if word not in tokens_once]\n",
      "          for text in texts]\n",
      "\n",
      "\n",
      "dictionary = corpora.Dictionary(texts)\n",
      "dictionary.save('/tmp/deerwester.dict') # store the dictionary, for future reference\n",
      "print(dictionary)\n",
      "\n",
      "print(dictionary.token2id)\n",
      "\n",
      "corpus = [dictionary.doc2bow(text) for text in texts]\n",
      "print(corpus)\n",
      "\n",
      "\n",
      "tfidf = models.TfidfModel(corpus)\n",
      "index = similarities.SparseMatrixSimilarity(tfidf[corpus], num_features=12)"
     ],
     "language": "python",
     "metadata": {},
     "outputs": []
    }
   ],
   "metadata": {}
  }
 ]
}