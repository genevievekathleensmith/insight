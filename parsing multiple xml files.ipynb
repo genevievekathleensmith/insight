{
 "metadata": {
  "name": "",
  "signature": "sha256:35201333a9ab66f9e8e8ea093c6d762ee0d03f4e5048fb6f06ae62868a6d332d"
 },
 "nbformat": 3,
 "nbformat_minor": 0,
 "worksheets": [
  {
   "cells": [
    {
     "cell_type": "code",
     "collapsed": false,
     "input": [
      "from lxml import etree, objectify\n",
      "from io import StringIO, BytesIO\n",
      "import pandas as pd"
     ],
     "language": "python",
     "metadata": {},
     "outputs": [],
     "prompt_number": 1
    },
    {
     "cell_type": "code",
     "collapsed": false,
     "input": [
      "tree = etree.parse(\"14-28-RAW-Solr-1_toparse.xml\")\n",
      "root = tree.getroot()"
     ],
     "language": "python",
     "metadata": {},
     "outputs": [],
     "prompt_number": 2
    },
    {
     "cell_type": "code",
     "collapsed": false,
     "input": [
      "mylist = []\n",
      "for doc in root.findall('doc'):\n",
      "    mylist.append(dict([(i.values()[0], i.getchildren()[0].text) for i in doc.getchildren() if i.values()[0]!='score']))"
     ],
     "language": "python",
     "metadata": {},
     "outputs": [],
     "prompt_number": 3
    },
    {
     "cell_type": "code",
     "collapsed": false,
     "input": [
      "len(mylist)"
     ],
     "language": "python",
     "metadata": {},
     "outputs": [
      {
       "metadata": {},
       "output_type": "pyout",
       "prompt_number": 4,
       "text": [
        "100000"
       ]
      }
     ],
     "prompt_number": 4
    },
    {
     "cell_type": "code",
     "collapsed": false,
     "input": [
      "tree = etree.parse(\"14-28-RAW-Solr-4_toparse.xml\")\n",
      "root = tree.getroot()"
     ],
     "language": "python",
     "metadata": {},
     "outputs": [],
     "prompt_number": 5
    },
    {
     "cell_type": "code",
     "collapsed": false,
     "input": [
      "for doc in root.findall('doc'):\n",
      "    mylist.append(dict([(i.values()[0], i.getchildren()[0].text) for i in doc.getchildren() if i.values()[0]!='score']))"
     ],
     "language": "python",
     "metadata": {},
     "outputs": [],
     "prompt_number": 6
    },
    {
     "cell_type": "code",
     "collapsed": false,
     "input": [
      "len(mylist)"
     ],
     "language": "python",
     "metadata": {},
     "outputs": [
      {
       "metadata": {},
       "output_type": "pyout",
       "prompt_number": 7,
       "text": [
        "200000"
       ]
      }
     ],
     "prompt_number": 7
    },
    {
     "cell_type": "code",
     "collapsed": false,
     "input": [
      "tree = etree.parse(\"14-28-RAW-Solr-5_toparse.xml\")\n",
      "root = tree.getroot()"
     ],
     "language": "python",
     "metadata": {},
     "outputs": [],
     "prompt_number": 8
    },
    {
     "cell_type": "code",
     "collapsed": false,
     "input": [
      "for doc in root.findall('doc'):\n",
      "    mylist.append(dict([(i.values()[0], i.getchildren()[0].text) for i in doc.getchildren() if i.values()[0]!='score']))"
     ],
     "language": "python",
     "metadata": {},
     "outputs": [],
     "prompt_number": 9
    },
    {
     "cell_type": "code",
     "collapsed": false,
     "input": [
      "len(mylist)"
     ],
     "language": "python",
     "metadata": {},
     "outputs": [
      {
       "metadata": {},
       "output_type": "pyout",
       "prompt_number": 10,
       "text": [
        "246719"
       ]
      }
     ],
     "prompt_number": 10
    },
    {
     "cell_type": "code",
     "collapsed": false,
     "input": [
      "mylist[-1]"
     ],
     "language": "python",
     "metadata": {},
     "outputs": [
      {
       "metadata": {},
       "output_type": "pyout",
       "prompt_number": 11,
       "text": [
        "{'applicant': 'Daniel Mellitz',\n",
        " 'applicant_sort': 'Daniel Mellitz',\n",
        " 'brief': 'true',\n",
        " 'city': 'Sherman Oaks',\n",
        " 'dateRcpt': '2014-07-16T04:00:00Z',\n",
        " 'disseminated': '2014-07-31T11:51:32.03Z',\n",
        " 'exParte': 'false',\n",
        " 'id': '6018127139',\n",
        " 'modified': '2014-07-31T11:51:32.03Z',\n",
        " 'pages': '1',\n",
        " 'proceeding': '14-28',\n",
        " 'regFlexAnalysis': 'false',\n",
        " 'smallBusinessImpact': 'false',\n",
        " 'stateCd': 'CA',\n",
        " 'submissionType': 'COMMENT',\n",
        " 'text': \"7521622496.txt\\nNet neutrality is the First Amendment of the Internet, the principle that Internet \\nservice providers (ISPs) treat all data equally. As an Internet user, net neutrality\\nis vitally important to me. The FCC should use its Title II authority to protect it.\\nMost Americans have only one choice for truly high speed Internet: their local cable\\ncompany. This is a political failure, and it is an embarrassment. America deserves \\ncompetition and choice.\\nWithout net neutrality, a bad situation gets even worse. These ISPs will now be able\\nto manipulate our Internet experience by speeding up some services and slowing down \\nothers. That kills choice, diversity, and quality.\\nIt also causes tremendous economic harm. If ISPs can speed up favored services and \\nslow others, new businesses will no longer be able to rely on a level playing field.\\nWhen ISPs can slow your site and destroy your business at will, how can any startup \\nattract investors?\\nMy friends, family, and I use the Internet for conversation and fun, but also for \\nwork and business. When you let ISPs mess with our Internet experience, you are \\nattacking our social lives, our entertainment, and our economic well being. We won'tstand for it.\\nISPs are opposing Title II so that they can destroy the FCC's net neutrality rules in court. This is the same trick they pulled last time. Please, let's not be fooled again. Title II is the strong, legally sound way to enforce net neutrality. Use it.\\nPage 1\\n\\n\",\n",
        " 'viewingStatus': 'Unrestricted',\n",
        " 'zip': '91423'}"
       ]
      }
     ],
     "prompt_number": 11
    },
    {
     "cell_type": "code",
     "collapsed": false,
     "input": [
      "#tree = etree.parse(\"14-28-RAW-Solr-2_toparse.xml\")"
     ],
     "language": "python",
     "metadata": {},
     "outputs": [],
     "prompt_number": 12
    },
    {
     "cell_type": "code",
     "collapsed": false,
     "input": [
      "#tree = etree.parse(\"14-28-RAW-Solr-3a_toparse.xml\")"
     ],
     "language": "python",
     "metadata": {},
     "outputs": [],
     "prompt_number": 13
    },
    {
     "cell_type": "code",
     "collapsed": false,
     "input": [
      "#tree = etree.parse(\"14-28-RAW-Solr-3b_toparse.xml\")"
     ],
     "language": "python",
     "metadata": {},
     "outputs": [],
     "prompt_number": 14
    },
    {
     "cell_type": "code",
     "collapsed": false,
     "input": [],
     "language": "python",
     "metadata": {},
     "outputs": [],
     "prompt_number": 14
    },
    {
     "cell_type": "code",
     "collapsed": false,
     "input": [],
     "language": "python",
     "metadata": {},
     "outputs": [],
     "prompt_number": 14
    },
    {
     "cell_type": "code",
     "collapsed": false,
     "input": [
      "mylist[0:2]\n",
      "\n",
      "comments = [d['text'] for d in mylist]"
     ],
     "language": "python",
     "metadata": {},
     "outputs": [],
     "prompt_number": 15
    },
    {
     "cell_type": "code",
     "collapsed": false,
     "input": [
      "len(comments)"
     ],
     "language": "python",
     "metadata": {},
     "outputs": [
      {
       "metadata": {},
       "output_type": "pyout",
       "prompt_number": 16,
       "text": [
        "246719"
       ]
      }
     ],
     "prompt_number": 16
    },
    {
     "cell_type": "code",
     "collapsed": false,
     "input": [
      "from __future__ import division  # Python 2 users only\n",
      "import nltk, re, pprint\n",
      "from nltk import word_tokenize\n",
      "from gensim import corpora, models, similarities"
     ],
     "language": "python",
     "metadata": {},
     "outputs": [],
     "prompt_number": 17
    },
    {
     "cell_type": "code",
     "collapsed": false,
     "input": [
      "words = word_tokenize(comments[0])"
     ],
     "language": "python",
     "metadata": {},
     "outputs": [],
     "prompt_number": 18
    },
    {
     "cell_type": "code",
     "collapsed": false,
     "input": [
      "#[w.lower() for w in words]\n",
      "#[nltk.LancasterStemmer().stem(word) for word in words]\n",
      "#' '.join(words)"
     ],
     "language": "python",
     "metadata": {},
     "outputs": [],
     "prompt_number": 19
    },
    {
     "cell_type": "code",
     "collapsed": false,
     "input": [
      "stoplist = set('for a of the and to in'.split())\n",
      "texts = [[word for word in comment.lower().split() if word not in stoplist]\n",
      "          for comment in comments]"
     ],
     "language": "python",
     "metadata": {},
     "outputs": [],
     "prompt_number": 20
    },
    {
     "cell_type": "code",
     "collapsed": false,
     "input": [
      "type(texts)\n",
      "len(texts)"
     ],
     "language": "python",
     "metadata": {},
     "outputs": [
      {
       "metadata": {},
       "output_type": "pyout",
       "prompt_number": 23,
       "text": [
        "246719"
       ]
      }
     ],
     "prompt_number": 23
    },
    {
     "cell_type": "code",
     "collapsed": false,
     "input": [
      "all_tokens = sum(texts)"
     ],
     "language": "python",
     "metadata": {},
     "outputs": []
    },
    {
     "cell_type": "code",
     "collapsed": false,
     "input": [
      "\n",
      "\n",
      "tokens_once = set(word for word in set(all_tokens) if all_tokens.count(word) == 1)\n",
      "texts = [[word for word in text if word not in tokens_once]\n",
      "          for text in texts]\n",
      "\n",
      "\n",
      "dictionary = corpora.Dictionary(texts)\n",
      "dictionary.save('/tmp/deerwester.dict') # store the dictionary, for future reference\n",
      "print(dictionary)\n",
      "\n",
      "print(dictionary.token2id)\n",
      "\n",
      "corpus = [dictionary.doc2bow(text) for text in texts]\n",
      "print(corpus)\n",
      "\n",
      "\n",
      "tfidf = models.TfidfModel(corpus)\n",
      "index = similarities.SparseMatrixSimilarity(tfidf[corpus], num_features=12)"
     ],
     "language": "python",
     "metadata": {},
     "outputs": []
    }
   ],
   "metadata": {}
  }
 ]
}