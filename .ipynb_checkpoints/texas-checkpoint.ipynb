{
 "metadata": {
  "name": "",
  "signature": "sha256:8dc21a65e1e47b6df09d6c87b0d6b1ff1661a7f5250c630bf06111db0efdc948"
 },
 "nbformat": 3,
 "nbformat_minor": 0,
 "worksheets": []
}