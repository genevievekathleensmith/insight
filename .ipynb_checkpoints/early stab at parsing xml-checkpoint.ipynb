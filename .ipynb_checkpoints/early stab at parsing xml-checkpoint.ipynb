{
 "metadata": {
  "name": "",
  "signature": "sha256:6ac3f8ccc16c8a09eb7f61187edc355d1567d90c173b51adeeaf35e8ccac81db"
 },
 "nbformat": 3,
 "nbformat_minor": 0,
 "worksheets": [
  {
   "cells": [
    {
     "cell_type": "code",
     "collapsed": false,
     "input": [
      "from lxml import etree"
     ],
     "language": "python",
     "metadata": {},
     "outputs": [],
     "prompt_number": 1
    },
    {
     "cell_type": "code",
     "collapsed": false,
     "input": [
      "some_xml_data = \"<root>data</root>\"\n",
      "root = etree.fromstring(some_xml_data)\n",
      "print(root.tag)\n",
      "etree.tostring(root)"
     ],
     "language": "python",
     "metadata": {},
     "outputs": [
      {
       "output_type": "stream",
       "stream": "stdout",
       "text": [
        "root\n"
       ]
      },
      {
       "metadata": {},
       "output_type": "pyout",
       "prompt_number": 7,
       "text": [
        "'<root>data</root>'"
       ]
      }
     ],
     "prompt_number": 7
    },
    {
     "cell_type": "code",
     "collapsed": false,
     "input": [
      "parser = etree.XMLParser(remove_blank_text=True)\n",
      "parser"
     ],
     "language": "python",
     "metadata": {},
     "outputs": [
      {
       "metadata": {},
       "output_type": "pyout",
       "prompt_number": 11,
       "text": [
        "<lxml.etree.XMLParser at 0x1054ddd70>"
       ]
      }
     ],
     "prompt_number": 11
    },
    {
     "cell_type": "code",
     "collapsed": false,
     "input": [
      "root = etree.XML(\"<root>  <a/>   <b>  </b>     </root>\", parser)\n",
      "etree.tostring(root)"
     ],
     "language": "python",
     "metadata": {},
     "outputs": [
      {
       "metadata": {},
       "output_type": "pyout",
       "prompt_number": 12,
       "text": [
        "'<root><a/><b>  </b></root>'"
       ]
      }
     ],
     "prompt_number": 12
    },
    {
     "cell_type": "code",
     "collapsed": false,
     "input": [
      "from urllib import urlopen\n",
      "from xml.etree.ElementTree import parse\n",
      "\n",
      "# Download the RSS feed and parse it\n",
      "u = urlopen('http://www.fcc.gov/files/ecfs/14-28/14-28-RAW-Solr-1.xml')\n",
      "doc = parse(u)"
     ],
     "language": "python",
     "metadata": {},
     "outputs": [],
     "prompt_number": 17
    },
    {
     "cell_type": "code",
     "collapsed": false,
     "input": [
      "for item in doc.iterfind('response/doc'):\n",
      "    title = item.findtext('arr name=\"applicant\"')\n",
      "#    date = item.findtext('pubDate')\n",
      "#    link = item.findtext('link')\n",
      "\n",
      "    print(title)\n",
      "#    print(date)\n",
      "#    print(link)\n",
      "#    print()"
     ],
     "language": "python",
     "metadata": {},
     "outputs": [],
     "prompt_number": 19
    },
    {
     "cell_type": "code",
     "collapsed": false,
     "input": [],
     "language": "python",
     "metadata": {},
     "outputs": []
    },
    {
     "cell_type": "raw",
     "metadata": {},
     "source": []
    }
   ],
   "metadata": {}
  }
 ]
}