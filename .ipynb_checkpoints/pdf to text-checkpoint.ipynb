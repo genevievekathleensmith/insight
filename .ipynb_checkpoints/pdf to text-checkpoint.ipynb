{
 "metadata": {
  "name": "",
  "signature": "sha256:35fbe9fd2507b9d68414717926bf14265a0df3f9a8925d40e2dcc3f1cba0b205"
 },
 "nbformat": 3,
 "nbformat_minor": 0,
 "worksheets": [
  {
   "cells": [
    {
     "cell_type": "code",
     "collapsed": false,
     "input": [
      "from pdfminer.pdfinterp import PDFResourceManager, PDFPageInterpreter\n",
      "from pdfminer.converter import TextConverter\n",
      "from pdfminer.layout import LAParams\n",
      "from pdfminer.pdfpage import PDFPage\n",
      "from cStringIO import StringIO\n",
      "\n",
      "def convert_pdf_to_txt(path):\n",
      "    rsrcmgr = PDFResourceManager()\n",
      "    retstr = StringIO()\n",
      "    codec = 'utf-8'\n",
      "    laparams = LAParams()\n",
      "    device = TextConverter(rsrcmgr, retstr, codec=codec, laparams=laparams)\n",
      "    fp = file(path, 'rb')\n",
      "    interpreter = PDFPageInterpreter(rsrcmgr, device)\n",
      "    password = \"\"\n",
      "    maxpages = 0\n",
      "    caching = True\n",
      "    pagenos=set()\n",
      "    for page in PDFPage.get_pages(fp, pagenos, maxpages=maxpages, password=password,caching=caching, check_extractable=True):\n",
      "        interpreter.process_page(page)\n",
      "    fp.close()\n",
      "    device.close()\n",
      "    str = retstr.getvalue()\n",
      "    retstr.close()\n",
      "    return str"
     ],
     "language": "python",
     "metadata": {},
     "outputs": [],
     "prompt_number": 4
    },
    {
     "cell_type": "code",
     "collapsed": false,
     "input": [
      "convert_pdf_to_txt()"
     ],
     "language": "python",
     "metadata": {},
     "outputs": []
    }
   ],
   "metadata": {}
  }
 ]
}