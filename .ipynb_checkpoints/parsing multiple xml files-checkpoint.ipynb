{
 "metadata": {
  "name": "",
  "signature": "sha256:9a6a69c09a6bfb4165c69293340496c196fdd07e279bc53102cee851f4e447b1"
 },
 "nbformat": 3,
 "nbformat_minor": 0,
 "worksheets": [
  {
   "cells": [
    {
     "cell_type": "code",
     "collapsed": false,
     "input": [
      "from lxml import etree, objectify\n",
      "from io import StringIO, BytesIO\n",
      "import pandas as pd"
     ],
     "language": "python",
     "metadata": {},
     "outputs": [],
     "prompt_number": 1
    },
    {
     "cell_type": "code",
     "collapsed": false,
     "input": [
      "tree = etree.parse(\"14-28-RAW-Solr-1_toparse.xml\")\n",
      "root = tree.getroot()"
     ],
     "language": "python",
     "metadata": {},
     "outputs": [],
     "prompt_number": 2
    },
    {
     "cell_type": "code",
     "collapsed": false,
     "input": [
      "mylist = []\n",
      "for doc in root.findall('doc'):\n",
      "    mylist.append(dict([(i.values()[0], i.getchildren()[0].text) for i in doc.getchildren() if i.values()[0]!='score']))"
     ],
     "language": "python",
     "metadata": {},
     "outputs": [],
     "prompt_number": 3
    },
    {
     "cell_type": "code",
     "collapsed": false,
     "input": [
      "len(mylist)"
     ],
     "language": "python",
     "metadata": {},
     "outputs": [
      {
       "metadata": {},
       "output_type": "pyout",
       "prompt_number": 15,
       "text": [
        "100000"
       ]
      }
     ],
     "prompt_number": 15
    },
    {
     "cell_type": "code",
     "collapsed": false,
     "input": [
      "tree = etree.parse(\"14-28-RAW-Solr-4_toparse.xml\")\n",
      "root = tree.getroot()"
     ],
     "language": "python",
     "metadata": {},
     "outputs": [],
     "prompt_number": 16
    },
    {
     "cell_type": "code",
     "collapsed": false,
     "input": [
      "for doc in root.findall('doc'):\n",
      "    mylist.append(dict([(i.values()[0], i.getchildren()[0].text) for i in doc.getchildren() if i.values()[0]!='score']))"
     ],
     "language": "python",
     "metadata": {},
     "outputs": [],
     "prompt_number": 17
    },
    {
     "cell_type": "code",
     "collapsed": false,
     "input": [
      "#len(mylist)"
     ],
     "language": "python",
     "metadata": {},
     "outputs": [],
     "prompt_number": 18
    },
    {
     "cell_type": "code",
     "collapsed": false,
     "input": [
      "tree = etree.parse(\"14-28-RAW-Solr-5_toparse.xml\")\n",
      "root = tree.getroot()"
     ],
     "language": "python",
     "metadata": {},
     "outputs": [],
     "prompt_number": 19
    },
    {
     "cell_type": "code",
     "collapsed": false,
     "input": [
      "for doc in root.findall('doc'):\n",
      "    mylist.append(dict([(i.values()[0], i.getchildren()[0].text) for i in doc.getchildren() if i.values()[0]!='score']))"
     ],
     "language": "python",
     "metadata": {},
     "outputs": [],
     "prompt_number": 20
    },
    {
     "cell_type": "code",
     "collapsed": false,
     "input": [
      "len(mylist)"
     ],
     "language": "python",
     "metadata": {},
     "outputs": [
      {
       "metadata": {},
       "output_type": "pyout",
       "prompt_number": 21,
       "text": [
        "246719"
       ]
      }
     ],
     "prompt_number": 21
    },
    {
     "cell_type": "code",
     "collapsed": false,
     "input": [
      "ids = [d['id'] if 'id' in d else None for d in mylist]\n",
      "dates = [d['dateRcpt'] if 'dateRcpt' in d else None for d in mylist]\n",
      "expartes= [d['exParte'] if 'exParte' in d else None for d in mylist]\n",
      "states = [d['stateCd'] if 'stateCd' in d else None for d in mylist]\n",
      "zips = [d['zip'] if 'zip' in d else None for d in mylist]\n",
      "applicants = [d['applicant'] if 'applicant' in d else None for d in mylist]\n",
      "comments = [d['text'] if 'text' in d else None for d in mylist]"
     ],
     "language": "python",
     "metadata": {},
     "outputs": [],
     "prompt_number": 22
    },
    {
     "cell_type": "code",
     "collapsed": false,
     "input": [
      "info = zip(ids,applicants,dates,zips,expartes,states)"
     ],
     "language": "python",
     "metadata": {},
     "outputs": [],
     "prompt_number": 23
    },
    {
     "cell_type": "code",
     "collapsed": false,
     "input": [
      "info_df = pd.DataFrame(info)\n",
      "info_df.columns = ['id','name','date','zip','exparte','state']"
     ],
     "language": "python",
     "metadata": {},
     "outputs": [],
     "prompt_number": 24
    },
    {
     "cell_type": "code",
     "collapsed": false,
     "input": [
      "state_counts = info_df.state.value_counts()"
     ],
     "language": "python",
     "metadata": {},
     "outputs": [],
     "prompt_number": 26
    },
    {
     "cell_type": "code",
     "collapsed": false,
     "input": [
      "counts_df = pd.DataFrame(state_counts)\n",
      "counts_df['state']=counts_df.index\n",
      "counts_df.columns = ['comments','state']\n",
      "#counts_df\n",
      "#type(counts_df.comments[1])\n",
      "counts_df"
     ],
     "language": "python",
     "metadata": {},
     "outputs": [
      {
       "html": [
        "<div style=\"max-height:1000px;max-width:1500px;overflow:auto;\">\n",
        "<table border=\"1\" class=\"dataframe\">\n",
        "  <thead>\n",
        "    <tr style=\"text-align: right;\">\n",
        "      <th></th>\n",
        "      <th>comments</th>\n",
        "      <th>state</th>\n",
        "    </tr>\n",
        "  </thead>\n",
        "  <tbody>\n",
        "    <tr>\n",
        "      <th>CA</th>\n",
        "      <td> 39472</td>\n",
        "      <td> CA</td>\n",
        "    </tr>\n",
        "    <tr>\n",
        "      <th>NY</th>\n",
        "      <td> 17529</td>\n",
        "      <td> NY</td>\n",
        "    </tr>\n",
        "    <tr>\n",
        "      <th>TX</th>\n",
        "      <td> 14191</td>\n",
        "      <td> TX</td>\n",
        "    </tr>\n",
        "    <tr>\n",
        "      <th>FL</th>\n",
        "      <td> 12273</td>\n",
        "      <td> FL</td>\n",
        "    </tr>\n",
        "    <tr>\n",
        "      <th>WA</th>\n",
        "      <td> 11067</td>\n",
        "      <td> WA</td>\n",
        "    </tr>\n",
        "    <tr>\n",
        "      <th>IL</th>\n",
        "      <td>  9967</td>\n",
        "      <td> IL</td>\n",
        "    </tr>\n",
        "    <tr>\n",
        "      <th>PA</th>\n",
        "      <td>  9253</td>\n",
        "      <td> PA</td>\n",
        "    </tr>\n",
        "    <tr>\n",
        "      <th>MA</th>\n",
        "      <td>  7935</td>\n",
        "      <td> MA</td>\n",
        "    </tr>\n",
        "    <tr>\n",
        "      <th>OH</th>\n",
        "      <td>  7143</td>\n",
        "      <td> OH</td>\n",
        "    </tr>\n",
        "    <tr>\n",
        "      <th>MI</th>\n",
        "      <td>  7010</td>\n",
        "      <td> MI</td>\n",
        "    </tr>\n",
        "    <tr>\n",
        "      <th>OR</th>\n",
        "      <td>  6929</td>\n",
        "      <td> OR</td>\n",
        "    </tr>\n",
        "    <tr>\n",
        "      <th>CO</th>\n",
        "      <td>  6838</td>\n",
        "      <td> CO</td>\n",
        "    </tr>\n",
        "    <tr>\n",
        "      <th>VA</th>\n",
        "      <td>  6432</td>\n",
        "      <td> VA</td>\n",
        "    </tr>\n",
        "    <tr>\n",
        "      <th>NJ</th>\n",
        "      <td>  6182</td>\n",
        "      <td> NJ</td>\n",
        "    </tr>\n",
        "    <tr>\n",
        "      <th>AZ</th>\n",
        "      <td>  5879</td>\n",
        "      <td> AZ</td>\n",
        "    </tr>\n",
        "    <tr>\n",
        "      <th>NC</th>\n",
        "      <td>  5860</td>\n",
        "      <td> NC</td>\n",
        "    </tr>\n",
        "    <tr>\n",
        "      <th>GA</th>\n",
        "      <td>  5472</td>\n",
        "      <td> GA</td>\n",
        "    </tr>\n",
        "    <tr>\n",
        "      <th>MN</th>\n",
        "      <td>  5084</td>\n",
        "      <td> MN</td>\n",
        "    </tr>\n",
        "    <tr>\n",
        "      <th>MD</th>\n",
        "      <td>  5049</td>\n",
        "      <td> MD</td>\n",
        "    </tr>\n",
        "    <tr>\n",
        "      <th>WI</th>\n",
        "      <td>  4136</td>\n",
        "      <td> WI</td>\n",
        "    </tr>\n",
        "    <tr>\n",
        "      <th>IN</th>\n",
        "      <td>  3966</td>\n",
        "      <td> IN</td>\n",
        "    </tr>\n",
        "    <tr>\n",
        "      <th>TN</th>\n",
        "      <td>  3730</td>\n",
        "      <td> TN</td>\n",
        "    </tr>\n",
        "    <tr>\n",
        "      <th>MO</th>\n",
        "      <td>  3712</td>\n",
        "      <td> MO</td>\n",
        "    </tr>\n",
        "    <tr>\n",
        "      <th>CT</th>\n",
        "      <td>  2777</td>\n",
        "      <td> CT</td>\n",
        "    </tr>\n",
        "    <tr>\n",
        "      <th>UT</th>\n",
        "      <td>  2737</td>\n",
        "      <td> UT</td>\n",
        "    </tr>\n",
        "    <tr>\n",
        "      <th>KY</th>\n",
        "      <td>  2264</td>\n",
        "      <td> KY</td>\n",
        "    </tr>\n",
        "    <tr>\n",
        "      <th>NV</th>\n",
        "      <td>  2118</td>\n",
        "      <td> NV</td>\n",
        "    </tr>\n",
        "    <tr>\n",
        "      <th>IA</th>\n",
        "      <td>  2073</td>\n",
        "      <td> IA</td>\n",
        "    </tr>\n",
        "    <tr>\n",
        "      <th>SC</th>\n",
        "      <td>  2004</td>\n",
        "      <td> SC</td>\n",
        "    </tr>\n",
        "    <tr>\n",
        "      <th>NH</th>\n",
        "      <td>  1991</td>\n",
        "      <td> NH</td>\n",
        "    </tr>\n",
        "    <tr>\n",
        "      <th>NM</th>\n",
        "      <td>  1950</td>\n",
        "      <td> NM</td>\n",
        "    </tr>\n",
        "    <tr>\n",
        "      <th>AL</th>\n",
        "      <td>  1915</td>\n",
        "      <td> AL</td>\n",
        "    </tr>\n",
        "    <tr>\n",
        "      <th>KS</th>\n",
        "      <td>  1895</td>\n",
        "      <td> KS</td>\n",
        "    </tr>\n",
        "    <tr>\n",
        "      <th>OK</th>\n",
        "      <td>  1847</td>\n",
        "      <td> OK</td>\n",
        "    </tr>\n",
        "    <tr>\n",
        "      <th>LA</th>\n",
        "      <td>  1668</td>\n",
        "      <td> LA</td>\n",
        "    </tr>\n",
        "    <tr>\n",
        "      <th>ME</th>\n",
        "      <td>  1606</td>\n",
        "      <td> ME</td>\n",
        "    </tr>\n",
        "    <tr>\n",
        "      <th>ID</th>\n",
        "      <td>  1306</td>\n",
        "      <td> ID</td>\n",
        "    </tr>\n",
        "    <tr>\n",
        "      <th>AR</th>\n",
        "      <td>  1273</td>\n",
        "      <td> AR</td>\n",
        "    </tr>\n",
        "    <tr>\n",
        "      <th>DC</th>\n",
        "      <td>  1209</td>\n",
        "      <td> DC</td>\n",
        "    </tr>\n",
        "    <tr>\n",
        "      <th>NE</th>\n",
        "      <td>  1160</td>\n",
        "      <td> NE</td>\n",
        "    </tr>\n",
        "    <tr>\n",
        "      <th>HI</th>\n",
        "      <td>  1103</td>\n",
        "      <td> HI</td>\n",
        "    </tr>\n",
        "    <tr>\n",
        "      <th>VT</th>\n",
        "      <td>  1006</td>\n",
        "      <td> VT</td>\n",
        "    </tr>\n",
        "    <tr>\n",
        "      <th>AK</th>\n",
        "      <td>   970</td>\n",
        "      <td> AK</td>\n",
        "    </tr>\n",
        "    <tr>\n",
        "      <th>MT</th>\n",
        "      <td>   903</td>\n",
        "      <td> MT</td>\n",
        "    </tr>\n",
        "    <tr>\n",
        "      <th>DE</th>\n",
        "      <td>   897</td>\n",
        "      <td> DE</td>\n",
        "    </tr>\n",
        "    <tr>\n",
        "      <th>WV</th>\n",
        "      <td>   858</td>\n",
        "      <td> WV</td>\n",
        "    </tr>\n",
        "    <tr>\n",
        "      <th>RI</th>\n",
        "      <td>   842</td>\n",
        "      <td> RI</td>\n",
        "    </tr>\n",
        "    <tr>\n",
        "      <th>MS</th>\n",
        "      <td>   783</td>\n",
        "      <td> MS</td>\n",
        "    </tr>\n",
        "    <tr>\n",
        "      <th>SD</th>\n",
        "      <td>   670</td>\n",
        "      <td> SD</td>\n",
        "    </tr>\n",
        "    <tr>\n",
        "      <th>ND</th>\n",
        "      <td>   455</td>\n",
        "      <td> ND</td>\n",
        "    </tr>\n",
        "    <tr>\n",
        "      <th>WY</th>\n",
        "      <td>   410</td>\n",
        "      <td> WY</td>\n",
        "    </tr>\n",
        "    <tr>\n",
        "      <th>PR</th>\n",
        "      <td>   383</td>\n",
        "      <td> PR</td>\n",
        "    </tr>\n",
        "    <tr>\n",
        "      <th>VI</th>\n",
        "      <td>   136</td>\n",
        "      <td> VI</td>\n",
        "    </tr>\n",
        "    <tr>\n",
        "      <th>GU</th>\n",
        "      <td>    57</td>\n",
        "      <td> GU</td>\n",
        "    </tr>\n",
        "    <tr>\n",
        "      <th>PW</th>\n",
        "      <td>    25</td>\n",
        "      <td> PW</td>\n",
        "    </tr>\n",
        "    <tr>\n",
        "      <th>AS</th>\n",
        "      <td>    11</td>\n",
        "      <td> AS</td>\n",
        "    </tr>\n",
        "    <tr>\n",
        "      <th>FM</th>\n",
        "      <td>    10</td>\n",
        "      <td> FM</td>\n",
        "    </tr>\n",
        "    <tr>\n",
        "      <th>MP</th>\n",
        "      <td>    10</td>\n",
        "      <td> MP</td>\n",
        "    </tr>\n",
        "    <tr>\n",
        "      <th>MH</th>\n",
        "      <td>     8</td>\n",
        "      <td> MH</td>\n",
        "    </tr>\n",
        "  </tbody>\n",
        "</table>\n",
        "</div>"
       ],
       "metadata": {},
       "output_type": "pyout",
       "prompt_number": 30,
       "text": [
        "    comments state\n",
        "CA     39472    CA\n",
        "NY     17529    NY\n",
        "TX     14191    TX\n",
        "FL     12273    FL\n",
        "WA     11067    WA\n",
        "IL      9967    IL\n",
        "PA      9253    PA\n",
        "MA      7935    MA\n",
        "OH      7143    OH\n",
        "MI      7010    MI\n",
        "OR      6929    OR\n",
        "CO      6838    CO\n",
        "VA      6432    VA\n",
        "NJ      6182    NJ\n",
        "AZ      5879    AZ\n",
        "NC      5860    NC\n",
        "GA      5472    GA\n",
        "MN      5084    MN\n",
        "MD      5049    MD\n",
        "WI      4136    WI\n",
        "IN      3966    IN\n",
        "TN      3730    TN\n",
        "MO      3712    MO\n",
        "CT      2777    CT\n",
        "UT      2737    UT\n",
        "KY      2264    KY\n",
        "NV      2118    NV\n",
        "IA      2073    IA\n",
        "SC      2004    SC\n",
        "NH      1991    NH\n",
        "NM      1950    NM\n",
        "AL      1915    AL\n",
        "KS      1895    KS\n",
        "OK      1847    OK\n",
        "LA      1668    LA\n",
        "ME      1606    ME\n",
        "ID      1306    ID\n",
        "AR      1273    AR\n",
        "DC      1209    DC\n",
        "NE      1160    NE\n",
        "HI      1103    HI\n",
        "VT      1006    VT\n",
        "AK       970    AK\n",
        "MT       903    MT\n",
        "DE       897    DE\n",
        "WV       858    WV\n",
        "RI       842    RI\n",
        "MS       783    MS\n",
        "SD       670    SD\n",
        "ND       455    ND\n",
        "WY       410    WY\n",
        "PR       383    PR\n",
        "VI       136    VI\n",
        "GU        57    GU\n",
        "PW        25    PW\n",
        "AS        11    AS\n",
        "FM        10    FM\n",
        "MP        10    MP\n",
        "MH         8    MH"
       ]
      }
     ],
     "prompt_number": 30
    },
    {
     "cell_type": "code",
     "collapsed": false,
     "input": [
      "population = pd.read_csv('state_level_data.csv')\n",
      "#population.columns = ['state','population']\n",
      "len(population)\n",
      "#population\n",
      "\n",
      "merged = pd.merge(counts_df,population, on ='state')\n",
      "\n",
      "#population\n",
      "\n",
      "merged['comment_rate']=0\n",
      "merged.comment_rate = merged.comments/merged.Individual_lives_in_household_with_Internet_use_1\n",
      "\n",
      "\n",
      "from pandas.io import sql\n",
      "import MySQLdb as db\n",
      "#Open connection to mysql database\n",
      "con = db.connect('localhost','root','','FCC')\n",
      "\n",
      "#Write dataframe to mysql database\n",
      "merged.iloc[:,[1,6]].to_sql(con=con, name='FCC', if_exists='replace', flavor='mysql')\n",
      "\n",
      "\n",
      "\n",
      "\n"
     ],
     "language": "python",
     "metadata": {},
     "outputs": [],
     "prompt_number": 58
    },
    {
     "cell_type": "code",
     "collapsed": false,
     "input": [
      "from pandas.io import sql\n",
      "import MySQLdb as db\n",
      "#Open connection to mysql database\n",
      "con = db.connect('localhost','root','','FCC')\n",
      "\n",
      "#Write dataframe to mysql database\n",
      "info_df[:100000].to_sql(con=con, name='meta', if_exists='replace', flavor='mysql')"
     ],
     "language": "python",
     "metadata": {},
     "outputs": [],
     "prompt_number": 54
    },
    {
     "cell_type": "code",
     "collapsed": false,
     "input": [
      "con = db.connect('localhost','root','','FCC')\n",
      "\n",
      "#Write dataframe to mysql database\n",
      "info_df[100000:200000].to_sql(con=con, name='meta', if_exists='append', flavor='mysql')\n",
      "#len(info_df)"
     ],
     "language": "python",
     "metadata": {},
     "outputs": [],
     "prompt_number": 55
    },
    {
     "cell_type": "code",
     "collapsed": false,
     "input": [
      "con = db.connect('localhost','root','','FCC')\n",
      "\n",
      "#Write dataframe to mysql database\n",
      "info_df[200000:].to_sql(con=con, name='meta', if_exists='append', flavor='mysql')\n",
      "#len(info_df)"
     ],
     "language": "python",
     "metadata": {},
     "outputs": [],
     "prompt_number": 56
    },
    {
     "cell_type": "code",
     "collapsed": false,
     "input": [
      "#tree = etree.parse(\"14-28-RAW-Solr-2_toparse.xml\")"
     ],
     "language": "python",
     "metadata": {},
     "outputs": []
    },
    {
     "cell_type": "code",
     "collapsed": false,
     "input": [
      "#tree = etree.parse(\"14-28-RAW-Solr-3a_toparse.xml\")"
     ],
     "language": "python",
     "metadata": {},
     "outputs": [],
     "prompt_number": 13
    },
    {
     "cell_type": "code",
     "collapsed": false,
     "input": [
      "#tree = etree.parse(\"14-28-RAW-Solr-3b_toparse.xml\")"
     ],
     "language": "python",
     "metadata": {},
     "outputs": [],
     "prompt_number": 14
    },
    {
     "cell_type": "code",
     "collapsed": false,
     "input": [
      "\n",
      "\n",
      "\n",
      "\n",
      "\n",
      "\n",
      "\n",
      "\n",
      "\n",
      "\n",
      "\n",
      "\n",
      "\n",
      "\n",
      "\n",
      "\n",
      "\n",
      "\n",
      "\n",
      "\n",
      "\n",
      "\n",
      "\n",
      "\n"
     ],
     "language": "python",
     "metadata": {},
     "outputs": [],
     "prompt_number": 14
    },
    {
     "cell_type": "code",
     "collapsed": false,
     "input": [],
     "language": "python",
     "metadata": {},
     "outputs": [],
     "prompt_number": 56
    },
    {
     "cell_type": "code",
     "collapsed": false,
     "input": [
      "#comments = [d['text'] for d in mylist]"
     ],
     "language": "python",
     "metadata": {},
     "outputs": [],
     "prompt_number": 12
    },
    {
     "cell_type": "code",
     "collapsed": false,
     "input": [
      "#states = [d['stateCd'] if 'stateCd' in d else None for d in mylist]"
     ],
     "language": "python",
     "metadata": {},
     "outputs": [],
     "prompt_number": 13
    },
    {
     "cell_type": "code",
     "collapsed": false,
     "input": [
      "#applicants = [d['applicant'] for d in mylist]"
     ],
     "language": "python",
     "metadata": {},
     "outputs": [],
     "prompt_number": 14
    },
    {
     "cell_type": "code",
     "collapsed": false,
     "input": [
      "#dates = [d['dateRcpt'] for d in mylist]"
     ],
     "language": "python",
     "metadata": {},
     "outputs": [],
     "prompt_number": 15
    },
    {
     "cell_type": "code",
     "collapsed": false,
     "input": [
      "#len(comments), len(states), len(applicants), len(dates), type(applicants)"
     ],
     "language": "python",
     "metadata": {},
     "outputs": [],
     "prompt_number": 58
    },
    {
     "cell_type": "code",
     "collapsed": false,
     "input": [
      "#applicants.count('Numerous')"
     ],
     "language": "python",
     "metadata": {},
     "outputs": [],
     "prompt_number": 57
    },
    {
     "cell_type": "code",
     "collapsed": false,
     "input": [
      "#raw_comment_data = zip(applicants,states,dates,comments)\n",
      "#type(raw_comment_data)\n",
      "#raw_metadata[:4]\n",
      "#raw_comment_df = pd.DataFrame(raw_comment_data)\n",
      "\n",
      "#raw_comment_df.columns = ['applicant_name','state','date_time','comments']\n",
      "\n",
      "#raw_comment_df[:10]\n"
     ],
     "language": "python",
     "metadata": {},
     "outputs": [],
     "prompt_number": 59
    },
    {
     "cell_type": "code",
     "collapsed": false,
     "input": [
      "\n",
      "#raw_comment_df[2839:2841]\n",
      "len(mylist)"
     ],
     "language": "python",
     "metadata": {},
     "outputs": [
      {
       "metadata": {},
       "output_type": "pyout",
       "prompt_number": 60,
       "text": [
        "246719"
       ]
      }
     ],
     "prompt_number": 60
    },
    {
     "cell_type": "code",
     "collapsed": false,
     "input": [
      "import MySQLdb as db\n",
      "import chardet\n",
      "chardet.detect(mylist[0]['text'])\n",
      "encoding = chardet.detect(mylist[0]['text'])['encoding']\n",
      "encoding\n",
      "#mylist[0]['text'].decode(encoding)\n"
     ],
     "language": "python",
     "metadata": {},
     "outputs": [
      {
       "metadata": {},
       "output_type": "pyout",
       "prompt_number": 61,
       "text": [
        "'ascii'"
       ]
      }
     ],
     "prompt_number": 61
    },
    {
     "cell_type": "code",
     "collapsed": false,
     "input": [],
     "language": "python",
     "metadata": {},
     "outputs": [],
     "prompt_number": 61
    },
    {
     "cell_type": "code",
     "collapsed": false,
     "input": [
      "#raw_comment_df[:1000].to_sql(con=con, name='rawcomments', if_exists='replace', flavor='mysql')\n",
      "con = db.connect('localhost','root','','FCC', charset='utf8')\n",
      "\n",
      "cr = con.cursor()\n",
      "cr.execute(\"drop table if exists rawcomments;\")\n",
      "# create table columns\n",
      "tmp = '''create table rawcomments (applicant_name text, state text, text longtext);'''\n",
      "cr.execute(tmp)\n",
      "\n",
      "with con:\n",
      "    cr = con.cursor()\n",
      "    for d in mylist[:10000]: \n",
      "\n",
      "        text = d['text']\n",
      "        applicant = d['applicant']    \n",
      "        #print applicant\n",
      "    #encoding = chardet.detect(text)['encoding']\n",
      "    #fixed = text.decode(encoding)\n",
      "        try:\n",
      "            stateCd = d['stateCd']\n",
      "        except:\n",
      "            stateCd = 'not given'\n",
      "        #print stateCd\n",
      "        #print text\n",
      "        try:\n",
      "            text = text.encode('utf8')   \n",
      "            cr.execute('INSERT INTO rawcomments VALUES (%s, %s, %s)', (applicant, stateCd, text))\n",
      "        except:\n",
      "            break\n",
      "\n",
      "cr.close()"
     ],
     "language": "python",
     "metadata": {},
     "outputs": [],
     "prompt_number": 161
    },
    {
     "cell_type": "code",
     "collapsed": false,
     "input": [
      "#chardet.detect((mylist[1361]['text'].encode('utf8')))"
     ],
     "language": "python",
     "metadata": {},
     "outputs": [
      {
       "metadata": {},
       "output_type": "pyout",
       "prompt_number": 160,
       "text": [
        "{'confidence': 0.99, 'encoding': 'utf-8'}"
       ]
      }
     ],
     "prompt_number": 160
    },
    {
     "cell_type": "code",
     "collapsed": false,
     "input": [
      "test = mylist[1361]['text'].encode('utf8')\n",
      "chardet.detect(test)['encoding']"
     ],
     "language": "python",
     "metadata": {},
     "outputs": [
      {
       "metadata": {},
       "output_type": "pyout",
       "prompt_number": 151,
       "text": [
        "'utf-8'"
       ]
      }
     ],
     "prompt_number": 151
    },
    {
     "cell_type": "code",
     "collapsed": false,
     "input": [
      "#Open connection to mysql database\n",
      "#con = db.connect('localhost','root','','FCC')\n",
      "\n",
      "#Write dataframe to mysql database\n",
      "#raw_comment_df[:1000].to_sql(con=con, name='rawcomments', if_exists='replace', flavor='mysql')\n",
      "chardet.detect(mylist[50001]['text'])['encoding']"
     ],
     "language": "python",
     "metadata": {},
     "outputs": [
      {
       "metadata": {},
       "output_type": "pyout",
       "prompt_number": 174,
       "text": [
        "'ascii'"
       ]
      }
     ],
     "prompt_number": 174
    },
    {
     "cell_type": "code",
     "collapsed": false,
     "input": [
      "#raw_comment_df[:1000].to_sql(con=con, name='rawcomments', if_exists='replace', flavor='mysql')\n",
      "con = db.connect('localhost','root','','FCC', charset='utf8')\n",
      "\n",
      "cr = con.cursor()\n",
      "cr.execute(\"drop table if exists rawcomments;\")\n",
      "# create table columns\n",
      "tmp = '''create table rawcomments (applicant_name text, state text, text longtext);'''\n",
      "cr.execute(tmp)\n",
      "\n",
      "with con:\n",
      "    cr = con.cursor()\n",
      "    for d in mylist[:70000]: \n",
      "\n",
      "        text = d['text']\n",
      "        applicant = d['applicant']    \n",
      "        #print applicant\n",
      "    #encoding = chardet.detect(text)['encoding']\n",
      "    #fixed = text.decode(encoding)\n",
      "        try:\n",
      "            stateCd = d['stateCd']\n",
      "        except:\n",
      "            stateCd = 'not given'\n",
      "        #print stateCd\n",
      "        #print text\n",
      "        try:\n",
      "            chardet.detect(text)['encoding'] == 'ascii'\n",
      "        except:\n",
      "            text = 'unreadable comment'\n",
      "        #print chardet.detect(text)\n",
      "        cr.execute('INSERT INTO rawcomments VALUES (%s, %s, %s)', (applicant, stateCd, text))\n",
      "        #except:\n",
      "        #    break\n",
      "\n",
      "cr.close()"
     ],
     "language": "python",
     "metadata": {},
     "outputs": [
      {
       "ename": "NameError",
       "evalue": "name 'db' is not defined",
       "output_type": "pyerr",
       "traceback": [
        "\u001b[0;31m---------------------------------------------------------------------------\u001b[0m\n\u001b[0;31mNameError\u001b[0m                                 Traceback (most recent call last)",
        "\u001b[0;32m<ipython-input-12-e4ae8333f7be>\u001b[0m in \u001b[0;36m<module>\u001b[0;34m()\u001b[0m\n\u001b[1;32m      1\u001b[0m \u001b[0;31m#raw_comment_df[:1000].to_sql(con=con, name='rawcomments', if_exists='replace', flavor='mysql')\u001b[0m\u001b[0;34m\u001b[0m\u001b[0;34m\u001b[0m\u001b[0m\n\u001b[0;32m----> 2\u001b[0;31m \u001b[0mcon\u001b[0m \u001b[0;34m=\u001b[0m \u001b[0mdb\u001b[0m\u001b[0;34m.\u001b[0m\u001b[0mconnect\u001b[0m\u001b[0;34m(\u001b[0m\u001b[0;34m'localhost'\u001b[0m\u001b[0;34m,\u001b[0m\u001b[0;34m'root'\u001b[0m\u001b[0;34m,\u001b[0m\u001b[0;34m''\u001b[0m\u001b[0;34m,\u001b[0m\u001b[0;34m'FCC'\u001b[0m\u001b[0;34m,\u001b[0m \u001b[0mcharset\u001b[0m\u001b[0;34m=\u001b[0m\u001b[0;34m'utf8'\u001b[0m\u001b[0;34m)\u001b[0m\u001b[0;34m\u001b[0m\u001b[0m\n\u001b[0m\u001b[1;32m      3\u001b[0m \u001b[0;34m\u001b[0m\u001b[0m\n\u001b[1;32m      4\u001b[0m \u001b[0mcr\u001b[0m \u001b[0;34m=\u001b[0m \u001b[0mcon\u001b[0m\u001b[0;34m.\u001b[0m\u001b[0mcursor\u001b[0m\u001b[0;34m(\u001b[0m\u001b[0;34m)\u001b[0m\u001b[0;34m\u001b[0m\u001b[0m\n\u001b[1;32m      5\u001b[0m \u001b[0mcr\u001b[0m\u001b[0;34m.\u001b[0m\u001b[0mexecute\u001b[0m\u001b[0;34m(\u001b[0m\u001b[0;34m\"drop table if exists rawcomments;\"\u001b[0m\u001b[0;34m)\u001b[0m\u001b[0;34m\u001b[0m\u001b[0m\n",
        "\u001b[0;31mNameError\u001b[0m: name 'db' is not defined"
       ]
      }
     ],
     "prompt_number": 12
    },
    {
     "cell_type": "code",
     "collapsed": false,
     "input": [
      "raw_metadata = zip(applicants,states,dates)\n",
      "type(raw_metadata)\n",
      "raw_metadata[:4]\n",
      "raw_meta_df = pd.DataFrame(raw_metadata)\n",
      "raw_meta_df\n",
      "\n",
      "raw_meta_df.columns\n",
      "\n",
      "raw_meta_df.to_csv('raw_metadata.csv',sep=',', encoding='utf-8')"
     ],
     "language": "python",
     "metadata": {},
     "outputs": [],
     "prompt_number": 29
    },
    {
     "cell_type": "code",
     "collapsed": false,
     "input": [
      "from __future__ import division  # Python 2 users only\n",
      "import nltk, re, pprint\n",
      "from nltk import word_tokenize\n",
      "from gensim import corpora, models, similarities"
     ],
     "language": "python",
     "metadata": {},
     "outputs": [],
     "prompt_number": 30
    },
    {
     "cell_type": "code",
     "collapsed": false,
     "input": [
      "words = word_tokenize(comments[0])"
     ],
     "language": "python",
     "metadata": {},
     "outputs": [],
     "prompt_number": 31
    },
    {
     "cell_type": "code",
     "collapsed": false,
     "input": [
      "#[w.lower() for w in words]\n",
      "#[nltk.LancasterStemmer().stem(word) for word in words]\n",
      "#' '.join(words)"
     ],
     "language": "python",
     "metadata": {},
     "outputs": [],
     "prompt_number": 32
    },
    {
     "cell_type": "code",
     "collapsed": false,
     "input": [
      "stoplist = set('for a of the and to in'.split())\n",
      "texts = [[word for word in comment.lower().split() if word not in stoplist]\n",
      "          for comment in comments]"
     ],
     "language": "python",
     "metadata": {},
     "outputs": [],
     "prompt_number": 20
    },
    {
     "cell_type": "code",
     "collapsed": false,
     "input": [
      "type(texts)\n",
      "len(texts)"
     ],
     "language": "python",
     "metadata": {},
     "outputs": []
    },
    {
     "cell_type": "code",
     "collapsed": false,
     "input": [
      "#all_tokens = sum(texts)"
     ],
     "language": "python",
     "metadata": {},
     "outputs": []
    },
    {
     "cell_type": "code",
     "collapsed": false,
     "input": [
      "tokens_once = set(word for word in set(all_tokens) if all_tokens.count(word) == 1)\n",
      "texts = [[word for word in text if word not in tokens_once]\n",
      "          for text in texts]\n",
      "\n",
      "\n",
      "dictionary = corpora.Dictionary(texts)\n",
      "dictionary.save('/tmp/deerwester.dict') # store the dictionary, for future reference\n",
      "print(dictionary)\n",
      "\n",
      "print(dictionary.token2id)\n",
      "\n",
      "corpus = [dictionary.doc2bow(text) for text in texts]\n",
      "print(corpus)\n",
      "\n",
      "\n",
      "tfidf = models.TfidfModel(corpus)\n",
      "index = similarities.SparseMatrixSimilarity(tfidf[corpus], num_features=12)"
     ],
     "language": "python",
     "metadata": {},
     "outputs": []
    }
   ],
   "metadata": {}
  }
 ]
}