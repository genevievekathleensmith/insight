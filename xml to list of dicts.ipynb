{
 "metadata": {
  "name": "",
  "signature": "sha256:a08b2fe2b07788d957cc7d71f0946cd060c3d179c1a5ffd8249f30271f8bf0ae"
 },
 "nbformat": 3,
 "nbformat_minor": 0,
 "worksheets": [
  {
   "cells": [
    {
     "cell_type": "code",
     "collapsed": false,
     "input": [
      "from lxml import etree, objectify\n",
      "from io import StringIO, BytesIO\n",
      "import pandas as pd"
     ],
     "language": "python",
     "metadata": {},
     "outputs": [],
     "prompt_number": 210
    },
    {
     "cell_type": "code",
     "collapsed": false,
     "input": [
      "#tree = etree.parse(\"small.xml\")\n",
      "tree = etree.parse(\"14-28-RAW-Solr-1_toparse.xml\")\n",
      "#tree = etree.parse(\"small.xml\")"
     ],
     "language": "python",
     "metadata": {},
     "outputs": [],
     "prompt_number": 237
    },
    {
     "cell_type": "code",
     "collapsed": false,
     "input": [
      "#applicants = tree.xpath('//arr[@name=\"applicant\"]//text()')\n",
      "#print applicants"
     ],
     "language": "python",
     "metadata": {},
     "outputs": [],
     "prompt_number": 238
    },
    {
     "cell_type": "code",
     "collapsed": false,
     "input": [
      "root = tree.getroot()\n",
      "#print root.xpath('//arr[@name=\"applicant\"]//text()')"
     ],
     "language": "python",
     "metadata": {},
     "outputs": [],
     "prompt_number": 239
    },
    {
     "cell_type": "code",
     "collapsed": false,
     "input": [
      "#for doc in tree.findall('doc'):\n",
      "#    for item in doc.getchildren():\n",
      "#        d = dict(item.attrib)\n",
      "#        print d.items()\n",
      "#        print d.viewitems()\n",
      "#        print item.get('name') == 'zip'\n",
      "\n",
      "#        print item.values()\n",
      "#        print item.findtext('applicant')\n",
      "#        for element in item.getchildren():\n",
      "#            print element.text\n",
      "#            print element.tag\n",
      "#            print element.findtext('internet')"
     ],
     "language": "python",
     "metadata": {},
     "outputs": [],
     "prompt_number": 240
    },
    {
     "cell_type": "code",
     "collapsed": false,
     "input": [
      "#for doc in root.findall('doc'):\n",
      "#    for item in doc.getchildren():\n",
      "#        print item.attrib, item.text, item.getchildren()\n",
      "#        dir(item)\n",
      "#        item.xpath('./str')[0].text\n",
      "#        print item.getchildren\n",
      "#        for i in item.getchildren():\n",
      "            #print i.tag"
     ],
     "language": "python",
     "metadata": {},
     "outputs": [],
     "prompt_number": 241
    },
    {
     "cell_type": "code",
     "collapsed": false,
     "input": [
      "#k = root.findall('doc')[0].getchildren()[1].values()[0]"
     ],
     "language": "python",
     "metadata": {},
     "outputs": [],
     "prompt_number": 242
    },
    {
     "cell_type": "code",
     "collapsed": false,
     "input": [
      "#v = root.findall('doc')[0].getchildren()[1].getchildren()[0].text"
     ],
     "language": "python",
     "metadata": {},
     "outputs": [],
     "prompt_number": 243
    },
    {
     "cell_type": "code",
     "collapsed": false,
     "input": [
      "mylist = []\n",
      "for doc in root.findall('doc'):\n",
      "    mylist.append(dict([(i.values()[0], i.getchildren()[0].text) for i in doc.getchildren() if i.values()[0]!='score']))"
     ],
     "language": "python",
     "metadata": {},
     "outputs": [],
     "prompt_number": 244
    },
    {
     "cell_type": "code",
     "collapsed": false,
     "input": [
      "#mylist"
     ],
     "language": "python",
     "metadata": {},
     "outputs": [
      {
       "metadata": {},
       "output_type": "pyout",
       "prompt_number": 232,
       "text": [
        "[]"
       ]
      }
     ],
     "prompt_number": 232
    },
    {
     "cell_type": "code",
     "collapsed": false,
     "input": [
      "len(mylist)"
     ],
     "language": "python",
     "metadata": {},
     "outputs": [
      {
       "metadata": {},
       "output_type": "pyout",
       "prompt_number": 245,
       "text": [
        "100000"
       ]
      }
     ],
     "prompt_number": 245
    },
    {
     "cell_type": "code",
     "collapsed": false,
     "input": [],
     "language": "python",
     "metadata": {},
     "outputs": [],
     "prompt_number": 236
    },
    {
     "cell_type": "code",
     "collapsed": false,
     "input": [
      "#root.findall('doc')[0].getchildren()"
     ],
     "language": "python",
     "metadata": {},
     "outputs": [],
     "prompt_number": 221
    },
    {
     "cell_type": "code",
     "collapsed": false,
     "input": [
      "#d = {k:v}\n",
      "#d"
     ],
     "language": "python",
     "metadata": {},
     "outputs": [],
     "prompt_number": 222
    },
    {
     "cell_type": "code",
     "collapsed": false,
     "input": [
      "#a = []\n",
      "#for doc in root.findall('doc'):\n",
      "#    b = {}\n",
      "#    b['applicant'] = None\n",
      "#    for item in doc.getchildren():\n",
      "#        if item.values()[0]=='applicant':\n",
      "#            b['applicant'] = item.getchildren()[0].text\n",
      "#        if item.values()[0]=='stateCd':\n",
      "#            print item.getchildren()[0].text\n",
      "#        if item.values()[0]=='id':\n",
      "#            print item.getchildren()[0].text\n",
      "#        if item.values()[0]=='dateRcpt':\n",
      "#            print item.getchildren()[0].text\n",
      "#        if item.values()[0]=='exParte':\n",
      "#            print item.getchildren()[0].text\n",
      "#        if item.values()[0]=='applicant_sort':\n",
      "#            print item.getchildren()[0].text\n",
      "#        if item.values()[0]=='text':\n",
      "#            print item.getchildren()[0].text"
     ],
     "language": "python",
     "metadata": {},
     "outputs": [],
     "prompt_number": 223
    },
    {
     "cell_type": "code",
     "collapsed": false,
     "input": [],
     "language": "python",
     "metadata": {},
     "outputs": [],
     "prompt_number": 223
    },
    {
     "cell_type": "code",
     "collapsed": false,
     "input": [],
     "language": "python",
     "metadata": {},
     "outputs": [],
     "prompt_number": 223
    },
    {
     "cell_type": "code",
     "collapsed": false,
     "input": [],
     "language": "python",
     "metadata": {},
     "outputs": [],
     "prompt_number": 223
    },
    {
     "cell_type": "code",
     "collapsed": false,
     "input": [
      "\n"
     ],
     "language": "python",
     "metadata": {},
     "outputs": [],
     "prompt_number": 223
    },
    {
     "cell_type": "code",
     "collapsed": false,
     "input": [],
     "language": "python",
     "metadata": {},
     "outputs": [],
     "prompt_number": 223
    },
    {
     "cell_type": "code",
     "collapsed": false,
     "input": [],
     "language": "python",
     "metadata": {},
     "outputs": []
    }
   ],
   "metadata": {}
  }
 ]
}