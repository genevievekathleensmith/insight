{
 "metadata": {
  "name": "",
  "signature": "sha256:898f7311912913966c38cef2ff2c325ad9c95081db5901f0dc7576732e5290f3"
 },
 "nbformat": 3,
 "nbformat_minor": 0,
 "worksheets": [
  {
   "cells": [
    {
     "cell_type": "code",
     "collapsed": false,
     "input": [
      "from lxml import etree"
     ],
     "language": "python",
     "metadata": {},
     "outputs": [],
     "prompt_number": 38
    },
    {
     "cell_type": "code",
     "collapsed": false,
     "input": [
      "some_xml_data = \"<root>data</root>\"\n",
      "root = etree.fromstring(some_xml_data)\n",
      "print(root.tag)\n",
      "etree.tostring(root)"
     ],
     "language": "python",
     "metadata": {},
     "outputs": [
      {
       "output_type": "stream",
       "stream": "stdout",
       "text": [
        "root\n"
       ]
      },
      {
       "metadata": {},
       "output_type": "pyout",
       "prompt_number": 39,
       "text": [
        "'<root>data</root>'"
       ]
      }
     ],
     "prompt_number": 39
    },
    {
     "cell_type": "code",
     "collapsed": false,
     "input": [
      "parser = etree.XMLParser(remove_blank_text=True)\n",
      "parser"
     ],
     "language": "python",
     "metadata": {},
     "outputs": [
      {
       "metadata": {},
       "output_type": "pyout",
       "prompt_number": 40,
       "text": [
        "<lxml.etree.XMLParser at 0x16a91e4b0>"
       ]
      }
     ],
     "prompt_number": 40
    },
    {
     "cell_type": "code",
     "collapsed": false,
     "input": [
      "root = etree.XML(\"<root>  <a/>   <b>  </b>     </root>\", parser)\n",
      "etree.tostring(root)"
     ],
     "language": "python",
     "metadata": {},
     "outputs": [
      {
       "metadata": {},
       "output_type": "pyout",
       "prompt_number": 41,
       "text": [
        "'<root><a/><b>  </b></root>'"
       ]
      }
     ],
     "prompt_number": 41
    },
    {
     "cell_type": "code",
     "collapsed": false,
     "input": [
      "from urllib import urlopen\n",
      "from xml.etree.ElementTree import parse\n",
      "\n",
      "# Download the RSS feed and parse it\n",
      "u = urlopen('http://planet.python.org/rss20.xml')\n",
      "doc = parse(u)"
     ],
     "language": "python",
     "metadata": {},
     "outputs": [],
     "prompt_number": 42
    },
    {
     "cell_type": "code",
     "collapsed": false,
     "input": [
      "for item in doc.iterfind('channel/item'):\n",
      "    title = item.findtext('title')\n",
      "\n",
      "    date = item.findtext('pubDate')\n",
      "    link = item.findtext('link')\n",
      "\n",
      "    print(title)\n",
      "    print(date)\n",
      "    print(link)\n",
      "    print()"
     ],
     "language": "python",
     "metadata": {},
     "outputs": [
      {
       "output_type": "stream",
       "stream": "stdout",
       "text": [
        "Mike C. Fletcher: Automatic Language Model Creation Started\n",
        "Tue, 05 Aug 2014 21:02:38 +0000\n",
        "http://blog.vrplumber.com/b/2014/08/05/automatic-language-model-creation-started/\n",
        "()\n",
        "Mike Driscoll: arrow \u2013 A new date / time package for Python\n",
        "Tue, 05 Aug 2014 17:15:20 +0000\n",
        "http://www.blog.pythonlibrary.org/2014/08/05/arrow-a-new-date-time-package-for-python/\n",
        "()\n",
        "Ian Ozsvald: A tiny foray into Apache Spark &amp; Python\n",
        "Tue, 05 Aug 2014 16:41:36 +0000\n",
        "http://ianozsvald.com/2014/08/05/a-tiny-foray-into-apache-spark-python/\n",
        "()\n",
        "PyCon Australia: Initial Video releases\n",
        "Tue, 05 Aug 2014 11:35:43 +0000\n",
        "http://2014.pycon-au.org/media/news/57\n",
        "()\n",
        "PyCon PL Conference: David Winterbottom will give a presentation on PyCon PL 2014\n",
        "Tue, 05 Aug 2014 07:53:00 +0000\n",
        "http://pl.pycon.org/2014/en/aktualnosci,David-Winterbottom-will-give-a-presentation-on-PyCon-PL-2014,28\n",
        "()\n",
        "Evennia: Dance my puppets\n",
        "Mon, 04 Aug 2014 23:08:51 +0000\n",
        "http://evennia.blogspot.com/2014/08/dance-my-puppets.html\n",
        "()\n",
        "Andriy Kornatskyy: wheezy web: deploy nginx + uwsgi + memcached\n",
        "Mon, 04 Aug 2014 21:43:54 +0000\n",
        "http://mindref.blogspot.com/2014/08/wheezy-web-deploy-nginx-uwsgi-memcached.html\n",
        "()\n",
        "Fran\u00e7ois Dion: Python for CSharp devs, Winston-Salem\n",
        "Mon, 04 Aug 2014 18:14:29 +0000\n",
        "http://raspberry-python.blogspot.com/2014/08/python-for-csharp-devs-winston-salem.html\n",
        "()\n",
        "Matthew Wilson: By: Matt Wilson\n",
        "Mon, 04 Aug 2014 12:19:00 +0000\n",
        "http://blog.tplus1.com/blog/2012/08/08/python-allow-only-one-running-instance-of-a-script/comment-page-1/#comment-13549\n",
        "()\n",
        "Gocept Weblog: September, 18th\u201320th: DevOps Sprint\n",
        "Mon, 04 Aug 2014 12:14:47 +0000\n",
        "http://blog.gocept.com/2014/08/04/september-18th-20th-devops-sprint/\n",
        "()\n",
        "PyCon: PyCon 2015 Call for Proposals is open!\n",
        "Mon, 04 Aug 2014 12:30:00 +0000\n",
        "http://pycon.blogspot.com/2014/08/pycon-2015-call-for-proposals-is-open.html\n",
        "()\n",
        "Turnkey Linux: StdTrap: a magical Pythonic mechanism for intercepting console output\n",
        "Mon, 04 Aug 2014 05:55:02 +0000\n",
        "http://www.turnkeylinux.org/blog/stdtrap-pythonic-console-output-trap\n",
        "()\n",
        "Graeme Cross: Notes from MPUG, July 2014\n",
        "Mon, 04 Aug 2014 00:18:40 +0000\n",
        "http://www.curiousvenn.com/2014/08/notes-from-mpug-july-2014/\n",
        "()\n",
        "Tarek Ziade: ToxMail Experiment Cont'd\n",
        "Sun, 03 Aug 2014 19:33:00 +0000\n",
        "http://blog.ziade.org/2014/08/03/toxmail-experiment-contd/\n",
        "()\n",
        "Ionel Cristian: The most underrated feature in Python 3\n",
        "Sat, 02 Aug 2014 21:00:00 +0000\n",
        "http://blog.ionelmc.ro/2014/08/03/the-most-underrated-feature-in-python-3/\n",
        "()\n",
        "Alex Gr\u00f6nholm: APScheduler 3.0 released\n",
        "Fri, 01 Aug 2014 23:59:01 +0000\n",
        "http://alextechrants.blogspot.com/2014/08/apscheduler-30-released.html\n",
        "()\n",
        "Mike C. Fletcher: Listener is Crawling Forward\n",
        "Fri, 01 Aug 2014 18:48:29 +0000\n",
        "http://blog.vrplumber.com/b/2014/08/01/listener-crawling-forward/\n",
        "()\n",
        "Python Insider: Python 3.4.1 released\n",
        "Fri, 01 Aug 2014 17:48:51 +0000\n",
        "http://feedproxy.google.com/~r/PythonInsider/~3/pyi0_KezFgY/python-341-released.html\n",
        "()\n",
        "Rob Galanakis: Code separators and headers are more than a matter of style\n",
        "Fri, 01 Aug 2014 16:14:03 +0000\n",
        "http://www.robg3d.com/2014/08/code-separators-and-headers-are-more-than-a-matter-of-style/\n",
        "()\n",
        "Brian Okken: Why Most Unit Testing is Waste\n",
        "Fri, 01 Aug 2014 12:55:48 +0000\n",
        "http://feedproxy.google.com/~r/PythonTestingOnPlanet/~3/wamDv22VMD0/\n",
        "()\n",
        "Ian Ozsvald: Python Training courses: Data Science and High Performance Python coming in October\n",
        "Fri, 01 Aug 2014 12:13:03 +0000\n",
        "http://ianozsvald.com/2014/08/01/python-training-courses-data-science-and-high-performance-python-coming-in-october/\n",
        "()\n",
        "Machinalis: Embedding Interactive Charts on an IPython Notebook - Part 3\n",
        "Fri, 01 Aug 2014 11:57:25 +0000\n",
        "http://www.machinalis.com/blog/embedding-interactive-charts-on-an-ipython-nb-pt3/\n",
        "()\n",
        "Geert Vanderkelen: MySQL Connector/Python on GitHub\n",
        "Fri, 01 Aug 2014 10:39:17 +0000\n",
        "http://geert.vanderkelen.org/mysql-connectorpython-on-github/\n",
        "()\n",
        "Brian Okken: Best of python testing tutorials, now in epub, mobi, and pdf\n",
        "Fri, 01 Aug 2014 08:00:23 +0000\n",
        "http://feedproxy.google.com/~r/PythonTestingOnPlanet/~3/rBKYWTawSSk/\n",
        "()\n",
        "End Point: PyOhio 2014: Python FTW!\n",
        "Fri, 01 Aug 2014 00:01:22 +0000\n",
        "http://blog.endpoint.com/2014/07/pyohio-2014-python-ftw.html\n",
        "()\n"
       ]
      }
     ],
     "prompt_number": 44
    },
    {
     "cell_type": "code",
     "collapsed": false,
     "input": [
      "import xml.etree.cElementTree as etree\n",
      "from pprint import pprint"
     ],
     "language": "python",
     "metadata": {},
     "outputs": [],
     "prompt_number": 45
    },
    {
     "cell_type": "code",
     "collapsed": false,
     "input": [
      "root = etree.parse('14-28-RAW-Solr-1.xml').getroot()\n",
      "\n",
      "docs = [{f.attrib['name']: f.text for f in doc.iterfind('arr[@name]')}\n",
      "        for doc in root.iterfind('doc')]\n",
      "print(docs)"
     ],
     "language": "python",
     "metadata": {},
     "outputs": [
      {
       "output_type": "stream",
       "stream": "stdout",
       "text": [
        "[]\n"
       ]
      }
     ],
     "prompt_number": 46
    },
    {
     "cell_type": "code",
     "collapsed": false,
     "input": [
      "pprint(docs)"
     ],
     "language": "python",
     "metadata": {},
     "outputs": [
      {
       "output_type": "stream",
       "stream": "stdout",
       "text": [
        "[]\n"
       ]
      }
     ],
     "prompt_number": 47
    },
    {
     "cell_type": "code",
     "collapsed": false,
     "input": [
      "print(root)"
     ],
     "language": "python",
     "metadata": {},
     "outputs": [
      {
       "output_type": "stream",
       "stream": "stdout",
       "text": [
        "<Element 'response' at 0x139604030>\n"
       ]
      }
     ],
     "prompt_number": 48
    },
    {
     "cell_type": "code",
     "collapsed": false,
     "input": [
      "type(root)"
     ],
     "language": "python",
     "metadata": {},
     "outputs": [
      {
       "metadata": {},
       "output_type": "pyout",
       "prompt_number": 49,
       "text": [
        "Element"
       ]
      }
     ],
     "prompt_number": 49
    },
    {
     "cell_type": "code",
     "collapsed": false,
     "input": [
      "size(root)"
     ],
     "language": "python",
     "metadata": {},
     "outputs": [
      {
       "metadata": {},
       "output_type": "pyout",
       "prompt_number": 50,
       "text": [
        "2"
       ]
      }
     ],
     "prompt_number": 50
    },
    {
     "cell_type": "code",
     "collapsed": false,
     "input": [
      "root[1]"
     ],
     "language": "python",
     "metadata": {},
     "outputs": [
      {
       "metadata": {},
       "output_type": "pyout",
       "prompt_number": 53,
       "text": [
        "<Element 'result' at 0x1396043c0>"
       ]
      }
     ],
     "prompt_number": 53
    },
    {
     "cell_type": "code",
     "collapsed": false,
     "input": [],
     "language": "python",
     "metadata": {},
     "outputs": []
    }
   ],
   "metadata": {}
  }
 ]
}