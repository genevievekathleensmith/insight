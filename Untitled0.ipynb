{
 "metadata": {
  "name": "",
  "signature": "sha256:7259441bfbffbaceab30818600dea7a54e9fd6b0bb3452244d2040261b2a57bf"
 },
 "nbformat": 3,
 "nbformat_minor": 0,
 "worksheets": [
  {
   "cells": [
    {
     "cell_type": "code",
     "collapsed": false,
     "input": [
      "import pymysql as mdb\n",
      "fcc_db = mdb.connect(user=\"root\", host=\"localhost\", db=\"FCC\", charset=\"utf8\")\n"
     ],
     "language": "python",
     "metadata": {},
     "outputs": [],
     "prompt_number": 2
    },
    {
     "cell_type": "code",
     "collapsed": false,
     "input": [
      "inputstate='NY'\n",
      "with fcc_db:\n",
      "    cur = fcc_db.cursor()\n",
      "    cur.execute(\"SELECT state, comment_rate, sentiment_score, duplication_rate, rank, average, sent_average, full_name FROM states WHERE state = '%s'\" %(inputstate))\n",
      "    query_results = cur.fetchall()\n"
     ],
     "language": "python",
     "metadata": {},
     "outputs": [],
     "prompt_number": 25
    },
    {
     "cell_type": "code",
     "collapsed": false,
     "input": [
      "query_results[0],len(query_results[0])"
     ],
     "language": "python",
     "metadata": {},
     "outputs": [
      {
       "metadata": {},
       "output_type": "pyout",
       "prompt_number": 28,
       "text": [
        "((u'NY', 1.15963, 0.132941, 0.504764, 16, u'above', u'below', u'New York'), 8)"
       ]
      }
     ],
     "prompt_number": 28
    },
    {
     "cell_type": "code",
     "collapsed": false,
     "input": [
      "mydict = {'state':query_results[0][0], 'comment_rate':query_results[0][1], 'sentiment_score':query_results[0][2], 'duplication_rate':query_results[0][3]}\n"
     ],
     "language": "python",
     "metadata": {},
     "outputs": [],
     "prompt_number": 16
    },
    {
     "cell_type": "code",
     "collapsed": false,
     "input": [
      "mydict = {'state':query_results[0][0], \n",
      "          'comment_rate':query_results[0][1], \n",
      "          'sentiment_score':query_results[0][2], \n",
      "          'duplication_rate':query_results[0][3],\n",
      "          'comment_rank':query_results[0][4],\n",
      "          'comment_average':query_results[0][5],\n",
      "          'sent_avergae':query_results[0][6],\n",
      "          'full_name':query_results[0][7]}\n",
      "\n"
     ],
     "language": "python",
     "metadata": {},
     "outputs": [],
     "prompt_number": 29
    },
    {
     "cell_type": "code",
     "collapsed": false,
     "input": [
      "mydict"
     ],
     "language": "python",
     "metadata": {},
     "outputs": [
      {
       "metadata": {},
       "output_type": "pyout",
       "prompt_number": 30,
       "text": [
        "{'comment_average': u'above',\n",
        " 'comment_rank': 16,\n",
        " 'comment_rate': 1.15963,\n",
        " 'duplication_rate': 0.504764,\n",
        " 'full_name': u'New York',\n",
        " 'sent_avergae': u'below',\n",
        " 'sentiment_score': 0.132941,\n",
        " 'state': u'NY'}"
       ]
      }
     ],
     "prompt_number": 30
    },
    {
     "cell_type": "code",
     "collapsed": false,
     "input": [],
     "language": "python",
     "metadata": {},
     "outputs": []
    }
   ],
   "metadata": {}
  }
 ]
}