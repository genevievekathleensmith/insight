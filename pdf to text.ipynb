{
 "metadata": {
  "name": "",
  "signature": "sha256:4c2ea5d1f7caec9df18793b18113a378fb51371446437427c31ed50a59d42bc2"
 },
 "nbformat": 3,
 "nbformat_minor": 0,
 "worksheets": [
  {
   "cells": [
    {
     "cell_type": "code",
     "collapsed": false,
     "input": [
      "from pdfminer.pdfinterp import PDFResourceManager, PDFPageInterpreter\n",
      "from pdfminer.converter import TextConverter\n",
      "from pdfminer.layout import LAParams\n",
      "from pdfminer.pdfpage import PDFPage\n",
      "from cStringIO import StringIO\n",
      "\n",
      "def convert_pdf_to_txt(path):\n",
      "    rsrcmgr = PDFResourceManager()\n",
      "    retstr = StringIO()\n",
      "    codec = 'utf-8'\n",
      "    laparams = LAParams()\n",
      "    device = TextConverter(rsrcmgr, retstr, codec=codec, laparams=laparams)\n",
      "    fp = file(path, 'rb')\n",
      "    interpreter = PDFPageInterpreter(rsrcmgr, device)\n",
      "    password = \"\"\n",
      "    maxpages = 0\n",
      "    caching = True\n",
      "    pagenos=set()\n",
      "    for page in PDFPage.get_pages(fp, pagenos, maxpages=maxpages, password=password,caching=caching, check_extractable=True):\n",
      "        interpreter.process_page(page)\n",
      "    fp.close()\n",
      "    device.close()\n",
      "    str = retstr.getvalue()\n",
      "    retstr.close()\n",
      "    return str"
     ],
     "language": "python",
     "metadata": {},
     "outputs": [],
     "prompt_number": 1
    },
    {
     "cell_type": "code",
     "collapsed": false,
     "input": [
      "comment = convert_pdf_to_txt('test.pdf')"
     ],
     "language": "python",
     "metadata": {},
     "outputs": [],
     "prompt_number": 4
    },
    {
     "cell_type": "code",
     "collapsed": false,
     "input": [
      "import nltk"
     ],
     "language": "python",
     "metadata": {},
     "outputs": [],
     "prompt_number": 3
    },
    {
     "cell_type": "code",
     "collapsed": false,
     "input": [
      "tokens = nltk.word_tokenize(comment)"
     ],
     "language": "python",
     "metadata": {},
     "outputs": [],
     "prompt_number": 5
    },
    {
     "cell_type": "code",
     "collapsed": false,
     "input": [
      "tokens"
     ],
     "language": "python",
     "metadata": {},
     "outputs": [
      {
       "metadata": {},
       "output_type": "pyout",
       "prompt_number": 6,
       "text": [
        "['It',\n",
        " 'is',\n",
        " 'reasonable',\n",
        " 'to',\n",
        " 'assume',\n",
        " 'that',\n",
        " 'limiting',\n",
        " 'net',\n",
        " 'neutrality',\n",
        " 'may',\n",
        " 'ultimately',\n",
        " 'lead',\n",
        " 'to',\n",
        " 'the',\n",
        " 'downfall',\n",
        " 'of',\n",
        " 'Western',\n",
        " 'civilization.',\n",
        " 'Please',\n",
        " 'do',\n",
        " 'NOT',\n",
        " 'give',\n",
        " 'in',\n",
        " 'to',\n",
        " 'the',\n",
        " 'cable',\n",
        " 'companies.',\n",
        " '7521750066.txt',\n",
        " 'Page',\n",
        " '1']"
       ]
      }
     ],
     "prompt_number": 6
    },
    {
     "cell_type": "code",
     "collapsed": false,
     "input": [
      "comment1 = convert_pdf_to_txt('test1.pdf')\n",
      "comment2 = convert_pdf_to_txt('test2.pdf')\n",
      "comment3 = convert_pdf_to_txt('test3.pdf')"
     ],
     "language": "python",
     "metadata": {},
     "outputs": [],
     "prompt_number": 8
    },
    {
     "cell_type": "code",
     "collapsed": false,
     "input": [
      "comments = [comment1, comment2, comment3]"
     ],
     "language": "python",
     "metadata": {},
     "outputs": [],
     "prompt_number": 9
    },
    {
     "cell_type": "code",
     "collapsed": false,
     "input": [
      "comments"
     ],
     "language": "python",
     "metadata": {},
     "outputs": [
      {
       "metadata": {},
       "output_type": "pyout",
       "prompt_number": 10,
       "text": [
        "['It is reasonable to assume that limiting net neutrality may ultimately lead to the \\ndownfall of Western civilization. Please do NOT give in to the cable companies. \\n\\n7521750066.txt\\n\\nPage 1\\n\\n\\x0c',\n",
        " \"Access to the internet and all sites should remain open and free without any sort of\\nmanipulation from cable/internet providers. They are in it to make money and the \\ninternet provides something for many people that is beyond money. Take notice when \\ncompanies who are part of the internet culture come out against Time Warner and \\nComcast.\\n\\n7521750493.txt\\n\\nDo not allow TWC and Comcast to increase their terrifying monopoly status and give \\nthem another piece of our lives to control.  As consumers we cannot individually \\novercome the supreme market share the major cable companies have by our market vote \\n(Choosing not to use internet will not be effective, and there aren't alternative \\ncompanies to look to).  We cannot use congress because congress isn't passing \\nanything recently.  Please do the right thing and maintain net neutrality. \\n\\nPage 1\\n\\n\\x0c\",\n",
        " 'Cable monopolies are already making enough money. Cable companies do not need the \\nFCC to enforce new laws dividing the internet into the haves and have-nots. The FCC \\nshould regulate cable companies, not collude with them.\\n\\n7521750491.txt\\n\\nPage 1\\n\\n\\x0c']"
       ]
      }
     ],
     "prompt_number": 10
    },
    {
     "cell_type": "code",
     "collapsed": false,
     "input": [
      "from gensim import corpora, models, similarities"
     ],
     "language": "python",
     "metadata": {},
     "outputs": [],
     "prompt_number": 11
    },
    {
     "cell_type": "code",
     "collapsed": false,
     "input": [],
     "language": "python",
     "metadata": {},
     "outputs": [],
     "prompt_number": 15
    },
    {
     "cell_type": "code",
     "collapsed": false,
     "input": [],
     "language": "python",
     "metadata": {},
     "outputs": []
    }
   ],
   "metadata": {}
  }
 ]
}