{
 "metadata": {
  "name": "",
  "signature": "sha256:5f767e6113fa39d783cde35c115c9448933a7bb04b78bb669975dae5be9c5a4d"
 },
 "nbformat": 3,
 "nbformat_minor": 0,
 "worksheets": [
  {
   "cells": [
    {
     "cell_type": "code",
     "collapsed": false,
     "input": [
      "from sklearn.feature_extraction.text import TfidfVectorizer, CountVectorizer, TfidfTransformer\n",
      "from time import time\n",
      "import os, os.path\n",
      "import csv\n",
      "from bunch import Bunch\n",
      "import numpy as np\n",
      "import re\n",
      "import string\n",
      "# For strip/clean data. Replace words w/root form, \"clean\" rids html\n",
      "from nltk.corpus import wordnet as wn\n",
      "from nltk import word_tokenize, regexp_tokenize, clean_html\n",
      "from nltk.stem import WordNetLemmatizer\n",
      "from nltk.stem import PorterStemmer\n",
      "#from langid import classify\n",
      "from sklearn.datasets import load_files\n",
      "import pandas as pd\n",
      "from sklearn.metrics.pairwise import cosine_similarity  \n",
      "from nltk.stem.snowball import SnowballStemmer"
     ],
     "language": "python",
     "metadata": {},
     "outputs": [],
     "prompt_number": 2
    },
    {
     "cell_type": "code",
     "collapsed": false,
     "input": [
      "#with open(\"stopwords.csv\") as f:\n",
      "#    mystops = f.readlines()\n",
      "\n",
      "#shortstops = [d.rstrip() for d in mystops]\n",
      "#shortstops"
     ],
     "language": "python",
     "metadata": {},
     "outputs": [],
     "prompt_number": 3
    },
    {
     "cell_type": "code",
     "collapsed": false,
     "input": [
      "\n",
      "## *************************     Tokenizer      *******************************\n",
      "# for a list of strings\n",
      "class CleanLemmaTokenizer(object):  # Returns root form, AND cleans HTML\n",
      "    def __init__(self):\n",
      "        self.wnl = WordNetLemmatizer()\n",
      "    def __call__(self, doc):\n",
      "        return [self.wnl.lemmatize(t) for t in regexp_tokenize(clean_html(doc), '\\w\\w+')]\n",
      "        \n",
      "class SynsetReplacer(object):\n",
      "    def replace(self, word, pos=None):\n",
      "        synset=wn.synsets(word)  #Ordered by commonality, so 1st is best\n",
      "        if len(synset) >= 1:\n",
      "            return synset[0].name  ## first synonym is the most common\n",
      "        else:\n",
      "            return word   \n",
      "            \n",
      "class CleanLemmaSynsetTokenizer(object):\n",
      "    def __init__(self):\n",
      "        self.wnl = WordNetLemmatizer()\n",
      "        self.replacer = SynsetReplacer()\n",
      "    def __call__(self, doc):\n",
      "        return [self.replacer.replace(self.wnl.lemmatize(t)) for t in regexp_tokenize(clean_html(doc), '\\w\\w+')]\n",
      "        \n",
      "class CleanPorterTokenizer(object):\n",
      "    def __init__(self):\n",
      "        self.ps = PorterStemmer()\n",
      "    def __call__(self, doc):\n",
      "        return [self.ps.stem(t) for t in regexp_tokenize(clean_html(doc), '\\w\\w+')]\n",
      "\n",
      "class CleanSnowballTokenizer(object):\n",
      "    def __init__(self):\n",
      "        self.ps = SnowballStemmer()\n",
      "    def __call__(self, doc):\n",
      "        return [self.ps.stem(t) for t in regexp_tokenize(clean_html(doc), '\\w\\w+')]\n",
      "\n",
      "## *************************    VECTORIZE DATA      *******************************\n",
      "# FOR GETTING Feature words: print '\\', \\''.join([features[i] for i in PS]) \n",
      "def preprocess_num(data):\n",
      "    for i in range(len(data)):\n",
      "        data[i]=data[i].lower()\n",
      "        #data[i]=data[i].translate(string.maketrans(\"\",\"\"), string.punctuation)\n",
      "        data[i]=re.sub('\\s[2][0-1][0-9][0-9]\\s', ' YEAR_tag ', data[i])\n",
      "        data[i]=re.sub('\\s[0-9]+\\s', ' NUM_tag ', data[i])\n",
      "        data[i]=re.sub('\\s([0-9]|[a-z])([0-9]|[a-z])+[0-9]([0-9]|[a-z])+\\s', ' SERIAL_tag ', data[i])\n",
      "        \n",
      "# def preprocess(data):\n",
      "    # PS_WORDS=frozenset(['appliance', 'battery', 'blade', 'bought', 'broken', 'bulb', 'buy', 'car', 'cost', 'dishwasher', 'dispenser', 'door', 'drill', 'dryer', 'filter', 'freezer', 'fridge', 'glass', 'guarantee', 'handle', 'hole','hose', 'ice', 'instruction', 'iron', 'item', 'light', 'machine', 'manual', 'model', 'new', 'order', 'oven', 'problem', 'product', 'purchase', 'refrigerator', 'replace', 'replacement', 'spare', 'spin', 'spring', 'tool', 'used', 'warranty', 'wash', 'washer', 'washing', 'water'])\n",
      "    # HR_WORDS=frozenset(['application', 'apply', 'bachelor', 'business', 'career', 'college', 'cv', 'department', 'design', 'employment', 'engineer', 'engineering', 'experience', 'german', 'germany', 'graduate','growth', 'hr', 'industry','internship', 'job', 'join', 'junior', 'madam', 'management', 'manager', 'master', 'month', 'opening', 'opportunity', 'organisation', 'phd', 'placement', 'position', 'process', 'profile', 'program', 'project', 'recruitment', 'related', 'resource', 'resume', 'skill','student', 'study', 'studying', 'team', 'trainee', 'training', 'university', 'wish'])\n",
      "    # SALUTATION_WORDS=frozenset(['hi','hello','dear','bye','thank', 'thanks','best', 'cheers'])\n",
      "    # PS_regex = re.compile('\\s('+'|'.join(PS_WORDS)+')\\s')\n",
      "    # HR_regex = re.compile('\\s('+'|'.join(HR_WORDS)+')\\s')\n",
      "    # SAL_regex = re.compile('\\s('+'|'.join(HR_WORDS)+')\\s')\n",
      "    # wnl = WordNetLemmatizer()\n",
      "    # for i in range(len(data)):\n",
      "        # data[i]=data[i].lower()\n",
      "        # data[i]=data[i].translate(string.maketrans(\"\",\"\"), string.punctuation)\n",
      "        # data[i]=' '.join([wnl.lemmatize(tok) for tok in data[i].split()])\n",
      "        # data[i]=re.sub('\\s[2][0-1][0-9][0-9]\\s', ' YEAR_tag ', data[i])\n",
      "        # data[i]=re.sub('\\s[0-9]+\\s', ' NUM_tag ', data[i])\n",
      "        # data[i]=re.sub('\\s([0-9]|[a-z])([0-9]|[a-z])+[0-9]([0-9]|[a-z])+\\s', ' SERIAL_tag ', data[i])\n",
      "        # data[i]=re.sub(PS_regex, ' PS_tag ', data[i])\n",
      "        # data[i]=re.sub(HR_regex, ' HR_tag ', data[i])\n",
      "        # data[i]=re.sub(SAL_regex, ' SAL_tag ', data[i])\n",
      "    \n",
      "def fit_vectorizer(data):    \n",
      "    print(\"Creating Vectorizer...\")\n",
      "    t0 = time()\n",
      "    myTokenizer=CleanPorterTokenizer()   # Select the Tokenizer to use\n",
      "    #myTokenizer=CleanLemmaSynsetTokenizer() \n",
      "    #myTokenizer=CleanPorterTokenizer() \n",
      "    vectorizer = TfidfVectorizer(max_features=2000, tokenizer=myTokenizer,\n",
      "        stop_words='english', use_idf=True, binary=False, charset_error='ignore',  max_df=.99)\n",
      "    vectorizer.fit(data)\n",
      "    print(\"done in %fs\" % (time() - t0))\n",
      "    return vectorizer\n",
      "\n",
      "def fit_count_vectorizer(data):\n",
      "    print(\"Creating Count Vectorizer...\")\n",
      "    t0 = time()\n",
      "    myTokenizer = CleanLemmaTokenizer()\n",
      "    vectorizer = CountVectorizer(max_features = 2000, tokenizer = myTokenizer,\n",
      "                                 stop_words = 'english', binary =True, charset_error='ignore', max_df =.99)\n",
      "    vectorizer.fit(data)\n",
      "    print(\"done in %fs\" %(time() - t0))\n",
      "    return vectorizer\n",
      "\n",
      "## *************************    Group Features      *******************\n",
      "def category_features(X, target, target_val, vectorizer):\n",
      "    indices = [i for i, x in enumerate(target) if x == target_val]\n",
      "    X_target_sums=np.sum(X[indices], axis=0)\n",
      "    features=vectorizer.get_feature_names()\n",
      "    # for i, x in sorted(enumerate(X_target_sums), key=lambda tup:tup[1], reverse=True)[:30]:\n",
      "        # print features[i], x\n",
      "    top_features=[i for i,x in sorted(enumerate(X_target_sums), key=lambda tup:tup[1], reverse=True)]\n",
      "    return top_features\n",
      "\n"
     ],
     "language": "python",
     "metadata": {},
     "outputs": [],
     "prompt_number": 4
    },
    {
     "cell_type": "code",
     "collapsed": false,
     "input": [
      "from lxml import etree, objectify\n",
      "from io import StringIO, BytesIO"
     ],
     "language": "python",
     "metadata": {},
     "outputs": [],
     "prompt_number": 5
    },
    {
     "cell_type": "code",
     "collapsed": false,
     "input": [
      "tree = etree.parse(\"14-28-RAW-Solr-5_toparse.xml\")\n",
      "root = tree.getroot()\n",
      "mylist = []\n",
      "for doc in root.findall('doc'):\n",
      "    mylist.append(dict([(i.values()[0], i.getchildren()[0].text) for i in doc.getchildren() if i.values()[0]!='score']))\n",
      "\n",
      "comments = [d['text'] for d in mylist]"
     ],
     "language": "python",
     "metadata": {},
     "outputs": [],
     "prompt_number": 48
    },
    {
     "cell_type": "code",
     "collapsed": false,
     "input": [
      "len(comments)"
     ],
     "language": "python",
     "metadata": {},
     "outputs": [
      {
       "metadata": {},
       "output_type": "pyout",
       "prompt_number": 103,
       "text": [
        "46719"
       ]
      }
     ],
     "prompt_number": 103
    },
    {
     "cell_type": "code",
     "collapsed": false,
     "input": [
      "#string_data     list of strings\n",
      "type(comments),type(comments[0]),len(comments)"
     ],
     "language": "python",
     "metadata": {},
     "outputs": [
      {
       "metadata": {},
       "output_type": "pyout",
       "prompt_number": 49,
       "text": [
        "(list, str, 46719)"
       ]
      }
     ],
     "prompt_number": 49
    },
    {
     "cell_type": "code",
     "collapsed": false,
     "input": [
      "processed = preprocess_num(comments)"
     ],
     "language": "python",
     "metadata": {},
     "outputs": [],
     "prompt_number": 50
    },
    {
     "cell_type": "code",
     "collapsed": false,
     "input": [
      "vectorizer = fit_vectorizer(comments)"
     ],
     "language": "python",
     "metadata": {},
     "outputs": [
      {
       "output_type": "stream",
       "stream": "stdout",
       "text": [
        "Creating Vectorizer...\n",
        "done in 166.849825s"
       ]
      },
      {
       "output_type": "stream",
       "stream": "stdout",
       "text": [
        "\n"
       ]
      },
      {
       "output_type": "stream",
       "stream": "stderr",
       "text": [
        "/Users/genevievekathleensmith/Documents/insight/env/lib/python2.7/site-packages/sklearn/feature_extraction/text.py:625: DeprecationWarning: The charset_error parameter is deprecated as of version 0.14 and will be removed in 0.16. Use decode_error instead.\n",
        "  DeprecationWarning)\n"
       ]
      }
     ],
     "prompt_number": 51
    },
    {
     "cell_type": "code",
     "collapsed": false,
     "input": [
      "#data_vec = vectorizer(string_data)\n",
      "vectorizer"
     ],
     "language": "python",
     "metadata": {},
     "outputs": [
      {
       "metadata": {},
       "output_type": "pyout",
       "prompt_number": 26,
       "text": [
        "TfidfVectorizer(analyzer=u'word', binary=False, charset=None,\n",
        "        charset_error=None, decode_error='ignore',\n",
        "        dtype=<type 'numpy.int64'>, encoding=u'utf-8', input=u'content',\n",
        "        lowercase=True, max_df=0.99, max_features=2000, min_df=1,\n",
        "        ngram_range=(1, 1), norm=u'l2', preprocessor=None, smooth_idf=True,\n",
        "        stop_words='english', strip_accents=None, sublinear_tf=False,\n",
        "        token_pattern=u'(?u)\\\\b\\\\w\\\\w+\\\\b',\n",
        "        tokenizer=<__main__.CleanPorterTokenizer object at 0x10c2bec90>,\n",
        "        use_idf=True, vocabulary=None)"
       ]
      }
     ],
     "prompt_number": 26
    },
    {
     "cell_type": "code",
     "collapsed": false,
     "input": [
      "#vectorizer.get_feature_names()\n",
      "type(comments)\n",
      "len(comments)"
     ],
     "language": "python",
     "metadata": {},
     "outputs": [
      {
       "metadata": {},
       "output_type": "pyout",
       "prompt_number": 120,
       "text": [
        "46719"
       ]
      }
     ],
     "prompt_number": 120
    },
    {
     "cell_type": "code",
     "collapsed": false,
     "input": [
      "comments[45997]"
     ],
     "language": "python",
     "metadata": {},
     "outputs": [
      {
       "metadata": {},
       "output_type": "pyout",
       "prompt_number": 121,
       "text": [
        "\"7521621756.txt\\nnet neutrality is the first amendment of the internet, the principle that internet \\nservice providers (isps) treat all data equally. as an internet user, net neutrality\\nis vitally important to me. the fcc should use its title ii authority to protect it.\\nmost americans have only one choice for truly high speed internet: their local cable\\ncompany. this is a political failure, and it is an embarrassment. america deserves \\ncompetition and choice.\\nwithout net neutrality, a bad situation gets even worse. these isps will now be able\\nto manipulate our internet experience by speeding up some services and slowing down \\nothers. that kills choice, diversity, and quality.\\nit also causes tremendous economic harm. if isps can speed up favored services and \\nslow others, new businesses will no longer be able to rely on a level playing field.\\nwhen isps can slow your site and destroy your business at will, how can any startup \\nattract investors?\\nmy friends, family, and i use the internet for conversation and fun, but also for \\nwork and business. when you let isps mess with our internet experience, you are \\nattacking our social lives, our entertainment, and our economic well being. we won'tstand for it.\\nisps are opposing title ii so that they can destroy the fcc's net neutrality rules in court. this is the same trick they pulled last time. please, let's not be fooled again. title ii is the strong, legally sound way to enforce net neutrality. use it.\\npage NUM_tag \\n\""
       ]
      }
     ],
     "prompt_number": 121
    },
    {
     "cell_type": "code",
     "collapsed": false,
     "input": [
      "term_matrix = vectorizer.transform(comments)"
     ],
     "language": "python",
     "metadata": {},
     "outputs": [],
     "prompt_number": 28
    },
    {
     "cell_type": "code",
     "collapsed": false,
     "input": [
      "term_matrix"
     ],
     "language": "python",
     "metadata": {},
     "outputs": [
      {
       "metadata": {},
       "output_type": "pyout",
       "prompt_number": 41,
       "text": [
        "<46719x2000 sparse matrix of type '<type 'numpy.float64'>'\n",
        "\twith 3578595 stored elements in Compressed Sparse Row format>"
       ]
      }
     ],
     "prompt_number": 41
    },
    {
     "cell_type": "code",
     "collapsed": false,
     "input": [
      "import pickle\n",
      "\n",
      "output = open('myfile.pkl', 'wb')\n",
      "pickle.dump(term_matrix, output)\n",
      "output.close()\n",
      "\n",
      "\n",
      "#cosine_similarity(term_matrix)"
     ],
     "language": "python",
     "metadata": {},
     "outputs": [],
     "prompt_number": 42
    },
    {
     "cell_type": "code",
     "collapsed": false,
     "input": [
      "cosine_similarity(term_matrix[0,],term_matrix[1,]), cosine_similarity(term_matrix[0,],term_matrix[10000,])"
     ],
     "language": "python",
     "metadata": {},
     "outputs": [
      {
       "metadata": {},
       "output_type": "pyout",
       "prompt_number": 9,
       "text": [
        "(array([[ 1.]]), array([[ 0.12112061]]))"
       ]
      }
     ],
     "prompt_number": 9
    },
    {
     "cell_type": "code",
     "collapsed": false,
     "input": [
      "import pickle\n",
      "\n",
      "pkl_file = open('myfile.pkl', 'rb')\n",
      "term_matrix = pickle.load(pkl_file)\n",
      "pkl_file.close()"
     ],
     "language": "python",
     "metadata": {},
     "outputs": [],
     "prompt_number": 8
    },
    {
     "cell_type": "code",
     "collapsed": false,
     "input": [
      "# remove duplicates from term document matrix\n",
      "\n",
      "#reduced_term_matrix = term_matrix.sum_duplicates()\n",
      "\n",
      "#size(reduced_term_matrix), size(term_matrix)\n",
      "#type(reduced_term_matrix), type(term_matrix)\n",
      "\n",
      "#reduced_sim_matrix = cosine_similarity(reduced_term_matrix)\n",
      "\n",
      "type(term_matrix),shape(term_matrix)\n"
     ],
     "language": "python",
     "metadata": {},
     "outputs": [
      {
       "metadata": {},
       "output_type": "pyout",
       "prompt_number": 102,
       "text": [
        "(scipy.sparse.csr.csr_matrix, (46719, 2000))"
       ]
      }
     ],
     "prompt_number": 102
    },
    {
     "cell_type": "code",
     "collapsed": false,
     "input": [
      "dense = term_matrix.todense()"
     ],
     "language": "python",
     "metadata": {},
     "outputs": [],
     "prompt_number": 145
    },
    {
     "cell_type": "code",
     "collapsed": false,
     "input": [
      "dense_df = pd.DataFrame(dense)"
     ],
     "language": "python",
     "metadata": {},
     "outputs": [],
     "prompt_number": 147
    },
    {
     "cell_type": "code",
     "collapsed": false,
     "input": [
      "unique_matrix = dense_df.drop_duplicates()"
     ],
     "language": "python",
     "metadata": {},
     "outputs": [],
     "prompt_number": 149
    },
    {
     "cell_type": "code",
     "collapsed": false,
     "input": [
      "float(shape(unique_matrix)[0])/float(shape(term_matrix)[0])"
     ],
     "language": "python",
     "metadata": {},
     "outputs": [
      {
       "metadata": {},
       "output_type": "pyout",
       "prompt_number": 155,
       "text": [
        "0.27006143110939873"
       ]
      }
     ],
     "prompt_number": 155
    },
    {
     "cell_type": "code",
     "collapsed": false,
     "input": [
      "similarity_matrix = cosine_similarity(term_matrix[1:10000,])"
     ],
     "language": "python",
     "metadata": {},
     "outputs": [],
     "prompt_number": 94
    },
    {
     "cell_type": "code",
     "collapsed": false,
     "input": [
      "type(similarity_matrix), size(similarity_matrix), term_matrix.shape, similarity_matrix.shape"
     ],
     "language": "python",
     "metadata": {},
     "outputs": [
      {
       "metadata": {},
       "output_type": "pyout",
       "prompt_number": 96,
       "text": [
        "(numpy.ndarray, 99980001, (46719, 2000), (9999, 9999))"
       ]
      }
     ],
     "prompt_number": 96
    },
    {
     "cell_type": "code",
     "collapsed": false,
     "input": [
      "output = open('sim_matrix.pkl', 'wb')\n",
      "pickle.dump(similarity_matrix, output)\n",
      "output.close()\n"
     ],
     "language": "python",
     "metadata": {},
     "outputs": []
    },
    {
     "cell_type": "code",
     "collapsed": false,
     "input": [
      "pkl_file = open('sim_matrix.pkl', 'rb')\n",
      "similarity_matrix = pickle.load(pkl_file)\n",
      "pkl_file.close()"
     ],
     "language": "python",
     "metadata": {},
     "outputs": []
    },
    {
     "cell_type": "code",
     "collapsed": false,
     "input": [
      "similarity_matrix[0,0]"
     ],
     "language": "python",
     "metadata": {},
     "outputs": [
      {
       "metadata": {},
       "output_type": "pyout",
       "prompt_number": 97,
       "text": [
        "1.0000000000000002"
       ]
      }
     ],
     "prompt_number": 97
    },
    {
     "cell_type": "code",
     "collapsed": false,
     "input": [
      "similarity_matrix.max(), similarity_matrix.min()"
     ],
     "language": "python",
     "metadata": {},
     "outputs": [
      {
       "metadata": {},
       "output_type": "pyout",
       "prompt_number": 99,
       "text": [
        "(1.0000000000000011, 0.0)"
       ]
      }
     ],
     "prompt_number": 99
    },
    {
     "cell_type": "code",
     "collapsed": false,
     "input": [
      "states = [d['stateCd'] if 'stateCd' in d else None for d in mylist]\n",
      "\n",
      "state_array = np.array(states)\n",
      "\n",
      "state_factors = pd.factorize(state_array)\n",
      "\n",
      "len(state_factors[0][0:1000])"
     ],
     "language": "python",
     "metadata": {},
     "outputs": [
      {
       "metadata": {},
       "output_type": "pyout",
       "prompt_number": 16,
       "text": [
        "1000"
       ]
      }
     ],
     "prompt_number": 16
    },
    {
     "cell_type": "code",
     "collapsed": false,
     "input": [
      "from __future__ import print_function\n",
      "from time import time\n",
      "\n",
      "from sklearn.feature_extraction.text import TfidfVectorizer\n",
      "from sklearn.decomposition import NMF\n",
      "from sklearn.datasets import fetch_20newsgroups\n"
     ],
     "language": "python",
     "metadata": {},
     "outputs": [],
     "prompt_number": 41
    },
    {
     "cell_type": "code",
     "collapsed": false,
     "input": [
      "n_samples = 10000\n",
      "n_features = 2000\n",
      "n_topics = 5\n",
      "n_top_words = 10\n",
      "\n",
      "# Fit the NMF model\n",
      "#print(\"Fitting the NMF model with n_samples=%d and n_features=%d...\"\n",
      "#      % (n_samples, n_features))\n",
      "nmf = NMF(n_components=n_topics, random_state=1).fit(term_matrix[:10000,])\n",
      "\n"
     ],
     "language": "python",
     "metadata": {},
     "outputs": [],
     "prompt_number": 54
    },
    {
     "cell_type": "code",
     "collapsed": false,
     "input": [
      "\n",
      "feature_names = vectorizer.get_feature_names()\n",
      "#feature_names"
     ],
     "language": "python",
     "metadata": {},
     "outputs": [],
     "prompt_number": 82
    },
    {
     "cell_type": "code",
     "collapsed": false,
     "input": [
      "#print(\"done in %0.3fs.\" % (time() - t0))\n",
      "\n",
      "for topic_idx, topic in enumerate(nmf.components_):\n",
      "    print(\"Topic #%d:\" % topic_idx)\n",
      "    print(\" \".join([feature_names[i]\n",
      "                    for i in topic.argsort()[:-n_top_words - 1:-1]]))\n",
      "    print()"
     ],
     "language": "python",
     "metadata": {},
     "outputs": [
      {
       "output_type": "stream",
       "stream": "stdout",
       "text": [
        "Topic #0:\n",
        "invalu item neg network choic tire ill skype specif usag\n",
        "\n",
        "Topic #1:\n",
        "regard steven freedom gov featur free invalu burden mandat turner\n",
        "\n",
        "Topic #2:\n",
        "becam subject subscrib lo earth execut bright host marketplac proceed\n",
        "\n",
        "Topic #3:\n",
        "invalu item neg network choic tire ill skype specif usag\n",
        "\n",
        "Topic #4:\n",
        "becam best invalu servant accept affect feder expans post instead\n",
        "\n"
       ]
      }
     ],
     "prompt_number": 56
    },
    {
     "cell_type": "code",
     "collapsed": false,
     "input": [],
     "language": "python",
     "metadata": {},
     "outputs": [],
     "prompt_number": 86
    },
    {
     "cell_type": "code",
     "collapsed": false,
     "input": [
      "type(states)"
     ],
     "language": "python",
     "metadata": {},
     "outputs": [
      {
       "metadata": {},
       "output_type": "pyout",
       "prompt_number": 155,
       "text": [
        "list"
       ]
      }
     ],
     "prompt_number": 155
    },
    {
     "cell_type": "code",
     "collapsed": false,
     "input": [
      "#data = similarity_matrix.toarray()\n",
      "\n",
      "# This gives a matrix, rows are comments, columns are word occurances\n",
      "\n"
     ],
     "language": "python",
     "metadata": {},
     "outputs": [],
     "prompt_number": 156
    },
    {
     "cell_type": "code",
     "collapsed": false,
     "input": [
      "data_svd = svd(similarity_matrix)"
     ],
     "language": "python",
     "metadata": {},
     "outputs": [],
     "prompt_number": 17
    },
    {
     "cell_type": "code",
     "collapsed": false,
     "input": [
      "U,s,V = data_svd"
     ],
     "language": "python",
     "metadata": {},
     "outputs": [],
     "prompt_number": 18
    },
    {
     "cell_type": "code",
     "collapsed": false,
     "input": [
      "import pylab\n",
      "import matplotlib.pyplot as plt\n",
      "from mpl_toolkits.mplot3d import Axes3D\n"
     ],
     "language": "python",
     "metadata": {},
     "outputs": [
      {
       "metadata": {},
       "output_type": "pyout",
       "prompt_number": 79,
       "text": [
        "array([ 0.00190974,  0.        ,  0.0009133 , ...,  0.00473133,\n",
        "        0.04943794,  0.00303875])"
       ]
      }
     ],
     "prompt_number": 79
    },
    {
     "cell_type": "code",
     "collapsed": false,
     "input": [
      "plt.scatter(U[:,1],U[:,2])"
     ],
     "language": "python",
     "metadata": {},
     "outputs": [
      {
       "metadata": {},
       "output_type": "pyout",
       "prompt_number": 81,
       "text": [
        "<matplotlib.collections.PathCollection at 0x11a673d50>"
       ]
      },
      {
       "metadata": {},
       "output_type": "display_data",
       "png": "[encoded data removed]",
       "text": [
        "<matplotlib.figure.Figure at 0x11a8a52d0>"
       ]
      }
     ],
     "prompt_number": 81
    },
    {
     "cell_type": "code",
     "collapsed": false,
     "input": [
      "#list(state_factors[0][0:1000]/5)"
     ],
     "language": "python",
     "metadata": {},
     "outputs": [],
     "prompt_number": 38
    },
    {
     "cell_type": "code",
     "collapsed": false,
     "input": [
      "type(states)"
     ],
     "language": "python",
     "metadata": {},
     "outputs": [
      {
       "metadata": {},
       "output_type": "pyout",
       "prompt_number": 106,
       "text": [
        "list"
       ]
      }
     ],
     "prompt_number": 106
    },
    {
     "cell_type": "code",
     "collapsed": false,
     "input": [
      "# 3d scatter plot\n",
      "fig = pylab.figure()\n",
      "ax = Axes3D(fig)\n",
      "ax.scatter(U[:,1], U[:,2], U[:,3],c=list(state_factors[0][0:1000]/5))\n",
      "pyplot.show()\n",
      "\n",
      "type(U)\n",
      "np.savetxt(\"coordinates1.csv\", U[:,1], delimiter=\",\")\n",
      "np.savetxt(\"coordinates2.csv\", U[:,2], delimiter=\",\")\n",
      "np.savetxt(\"coordinates3.csv\", U[:,3], delimiter=\",\")\n",
      "np.savetxt(\"states.csv\",state_factors[0][0:1000], delimiter=\",\")"
     ],
     "language": "python",
     "metadata": {},
     "outputs": [
      {
       "metadata": {},
       "output_type": "display_data",
       "png": "[encoded data removed]",
       "text": [
        "<matplotlib.figure.Figure at 0x118b6a250>"
       ]
      }
     ],
     "prompt_number": 37
    },
    {
     "cell_type": "code",
     "collapsed": false,
     "input": [
      "\n",
      "from pylab import plot,show\n",
      "from numpy import vstack,array\n",
      "from numpy.random import rand\n",
      "from scipy.cluster.vq import kmeans,vq\n",
      "\n",
      "data = vstack(U[:,1:3])\n",
      "# computing K-Means with K = 2 (2 clusters)\n",
      "centroids,_ = kmeans(data,7)\n",
      "# assign each sample to a cluster\n",
      "idx,_ = vq(data,centroids)\n"
     ],
     "language": "python",
     "metadata": {},
     "outputs": [],
     "prompt_number": 88
    },
    {
     "cell_type": "code",
     "collapsed": false,
     "input": [
      "idx"
     ],
     "language": "python",
     "metadata": {},
     "outputs": [
      {
       "metadata": {},
       "output_type": "pyout",
       "prompt_number": 89,
       "text": [
        "array([6, 6, 0, 6, 6, 2, 1, 3, 6, 6, 6, 4, 6, 6, 3, 6, 6, 3, 2, 6, 6, 6, 0,\n",
        "       6, 3, 6, 6, 3, 2, 6, 6, 1, 6, 6, 6, 6, 6, 3, 6, 5, 6, 6, 6, 6, 0, 6,\n",
        "       6, 6, 6, 6, 6, 0, 6, 2, 1, 6, 6, 6, 4, 3, 6, 6, 6, 6, 6, 6, 6, 5, 6,\n",
        "       3, 6, 6, 6, 6, 3, 6, 4, 2, 6, 6, 6, 5, 6, 3, 2, 6, 6, 6, 6, 5, 6, 2,\n",
        "       1, 6, 3, 6, 2, 6, 4, 3, 6, 6, 6, 1, 6, 3, 6, 6, 6, 3, 6, 6, 0, 6, 6,\n",
        "       6, 4, 6, 6, 6, 6, 2, 1, 6, 5, 6, 6, 6, 3, 6, 6, 3, 6, 6, 4, 0, 6, 6,\n",
        "       3, 6, 6, 6, 6, 6, 6, 4, 6, 6, 6, 6, 0, 4, 3, 6, 3, 6, 6, 6, 6, 1, 6,\n",
        "       6, 3, 6, 6, 3, 6, 6, 6, 6, 2, 6, 4, 6, 6, 6, 6, 6, 3, 6, 6, 0, 6, 6,\n",
        "       6, 6, 3, 6, 6, 6, 6, 3, 4, 6, 6, 6, 6, 6, 6, 6, 0, 3, 6, 6, 5, 6, 6,\n",
        "       2, 6, 6, 3, 4, 6, 2, 1, 5, 4, 5, 2, 5, 5, 5, 0, 1, 4, 5, 4, 0, 4, 2,\n",
        "       0, 0, 4, 0, 4, 0, 4, 5, 0, 0, 4, 0, 4, 2, 0, 0, 2, 0, 4, 1, 0, 5, 5,\n",
        "       5, 1, 4, 0, 0, 2, 0, 4, 5, 5, 4, 4, 5, 4, 1, 0, 4, 1, 4, 1, 4, 1, 2,\n",
        "       4, 0, 0, 0, 4, 0, 4, 1, 4, 0, 1, 1, 4, 1, 1, 1, 1, 5, 4, 4, 1, 2, 0,\n",
        "       4, 5, 4, 0, 0, 2, 1, 1, 0, 5, 0, 4, 1, 4, 0, 1, 0, 1, 4, 1, 2, 5, 4,\n",
        "       4, 4, 4, 1, 0, 4, 4, 0, 0, 5, 4, 1, 0, 4, 4, 4, 1, 0, 0, 4, 1, 0, 0,\n",
        "       0, 5, 0, 2, 1, 1, 5, 1, 2, 1, 2, 0, 4, 1, 5, 1, 6, 6, 6, 6, 6, 6, 3,\n",
        "       6, 6, 6, 6, 6, 2, 3, 1, 0, 6, 6, 3, 6, 6, 6, 6, 6, 3, 6, 3, 0, 6, 6,\n",
        "       6, 6, 5, 6, 6, 6, 6, 6, 6, 0, 6, 6, 5, 0, 6, 6, 6, 6, 3, 6, 6, 6, 1,\n",
        "       6, 4, 6, 3, 6, 6, 3, 6, 6, 5, 6, 6, 6, 6, 6, 0, 6, 6, 6, 4, 6, 6, 3,\n",
        "       6, 2, 6, 4, 6, 6, 0, 6, 6, 6, 3, 3, 6, 0, 6, 2, 2, 6, 5, 6, 6, 0, 6,\n",
        "       6, 6, 3, 6, 6, 6, 0, 2, 6, 5, 6, 3, 6, 6, 2, 3, 6, 6, 4, 6, 5, 6, 6,\n",
        "       2, 5, 6, 3, 5, 6, 6, 4, 6, 6, 6, 6, 6, 6, 5, 6, 6, 3, 6, 6, 1, 6, 6,\n",
        "       3, 6, 6, 6, 3, 6, 6, 6, 3, 6, 6, 5, 6, 5, 6, 6, 2, 3, 6, 6, 2, 4, 6,\n",
        "       6, 2, 6, 6, 5, 6, 6, 6, 4, 6, 6, 6, 6, 4, 3, 6, 1, 2, 2, 3, 6, 6, 2,\n",
        "       5, 6, 2, 6, 4, 2, 3, 6, 6, 2, 6, 4, 6, 6, 6, 3, 5, 3, 6, 6, 6, 6, 6,\n",
        "       5, 6, 6, 0, 6, 6, 6, 6, 2, 6, 5, 3, 6, 6, 6, 6, 6, 4, 6, 2, 6, 3, 6,\n",
        "       4, 6, 6, 6, 6, 0, 6, 6, 6, 3, 6, 6, 0, 6, 6, 6, 6, 3, 6, 4, 6, 6, 6,\n",
        "       0, 6, 3, 6, 6, 6, 6, 3, 3, 2, 6, 4, 6, 6, 6, 6, 6, 6, 6, 4, 3, 6, 0,\n",
        "       6, 6, 6, 6, 6, 6, 6, 6, 6, 4, 6, 6, 6, 6, 3, 6, 4, 5, 3, 6, 6, 6, 6,\n",
        "       6, 6, 6, 2, 6, 5, 6, 3, 6, 6, 6, 6, 6, 6, 6, 6, 6, 6, 6, 2, 0, 5, 6,\n",
        "       1, 6, 6, 5, 3, 6, 6, 0, 3, 6, 6, 6, 6, 6, 6, 6, 6, 6, 6, 6, 3, 6, 6,\n",
        "       0, 6, 4, 6, 6, 6, 2, 6, 3, 6, 5, 6, 6, 6, 6, 0, 2, 6, 6, 6, 6, 2, 0,\n",
        "       6, 3, 4, 6, 3, 6, 6, 6, 6, 0, 6, 6, 6, 6, 3, 6, 6, 0, 6, 6, 6, 6, 4,\n",
        "       6, 4, 4, 6, 6, 6, 3, 4, 6, 6, 6, 6, 0, 6, 2, 6, 6, 6, 4, 6, 6, 6, 6,\n",
        "       6, 3, 2, 6, 6, 6, 2, 6, 3, 6, 2, 6, 6, 4, 6, 6, 6, 5, 4, 6, 3, 6, 6,\n",
        "       6, 6, 6, 6, 3, 4, 6, 6, 6, 2, 0, 6, 6, 6, 3, 6, 3, 6, 6, 6, 4, 6, 6,\n",
        "       6, 6, 6, 4, 6, 6, 3, 2, 6, 6, 6, 6, 2, 6, 6, 6, 0, 3, 6, 4, 6, 6, 6,\n",
        "       6, 4, 6, 6, 5, 6, 0, 3, 2, 6, 2, 6, 6, 6, 2, 5, 6, 0, 6, 3, 6, 6, 6,\n",
        "       3, 6, 2, 5, 6, 3, 6, 4, 2, 6, 4, 6, 6, 6, 6, 6, 4, 6, 3, 6, 6, 6, 6,\n",
        "       6, 6, 6, 5, 6, 6, 6, 2, 3, 6, 1, 6, 6, 6, 5, 6, 6, 6, 6, 6, 1, 3, 4,\n",
        "       2, 6, 3, 6, 6, 6, 4, 5, 6, 6, 6, 6, 1, 3, 6, 6, 6, 6, 6, 1, 6, 6, 4,\n",
        "       6, 6, 3, 6, 6, 6, 6, 6, 6, 3, 6, 6, 6, 6, 6, 6, 6, 6, 1, 6, 3, 6, 2,\n",
        "       6, 1, 0, 6, 3, 6, 6, 6, 6, 5, 3, 6, 6, 6, 6, 6, 6, 6, 0, 6, 6, 6, 6,\n",
        "       1, 2, 6, 6, 6, 3, 6, 6, 6, 6])"
       ]
      }
     ],
     "prompt_number": 89
    },
    {
     "cell_type": "code",
     "collapsed": false,
     "input": [
      "# 3d scatter plot\n",
      "fig = pylab.figure()\n",
      "ax = Axes3D(fig)\n",
      "ax.scatter(U[:,1], U[:,2], U[:,3],c=idx)\n",
      "pyplot.show()"
     ],
     "language": "python",
     "metadata": {},
     "outputs": [
      {
       "metadata": {},
       "output_type": "display_data",
       "png": "[encoded data removed]",
       "text": [
        "<matplotlib.figure.Figure at 0x11a63add0>"
       ]
      }
     ],
     "prompt_number": 90
    },
    {
     "cell_type": "code",
     "collapsed": false,
     "input": [
      "type(states),type(idx)\n",
      "len(idx)"
     ],
     "language": "python",
     "metadata": {},
     "outputs": [
      {
       "metadata": {},
       "output_type": "pyout",
       "prompt_number": 93,
       "text": [
        "999"
       ]
      }
     ],
     "prompt_number": 93
    },
    {
     "cell_type": "code",
     "collapsed": false,
     "input": [
      "data = vstack(U[:,1:2])\n",
      "# computing K-Means with K = 2 (2 clusters)\n",
      "centroids,_ = kmeans(data,7)\n",
      "# assign each sample to a cluster\n",
      "idx,_ = vq(data,centroids)\n"
     ],
     "language": "python",
     "metadata": {},
     "outputs": [],
     "prompt_number": 145
    },
    {
     "cell_type": "code",
     "collapsed": false,
     "input": [
      "plt.scatter(U[:,1],U[:,2],c=idx)"
     ],
     "language": "python",
     "metadata": {},
     "outputs": [
      {
       "metadata": {},
       "output_type": "pyout",
       "prompt_number": 148,
       "text": [
        "<matplotlib.collections.PathCollection at 0x112ebcc50>"
       ]
      },
      {
       "metadata": {},
       "output_type": "display_data",
       "png": "[encoded data removed]",
       "text": [
        "<matplotlib.figure.Figure at 0x11271b050>"
       ]
      }
     ],
     "prompt_number": 148
    },
    {
     "cell_type": "code",
     "collapsed": false,
     "input": [
      "\n",
      "#!/usr/bin/python \n",
      "#\n",
      "# (originally entered at https://gist.github.com/1035399)\n",
      "#\n",
      "# License: GPLv3\n",
      "#\n",
      "# To download the AFINN word list do:\n",
      "# wget http://www2.imm.dtu.dk/pubdb/views/edoc_download.php/6010/zip/imm6010.zip\n",
      "# unzip imm6010.zip\n",
      "#\n",
      "# Note that for pedagogic reasons there is a UNICODE/UTF-8 error in the code.\n",
      "\n",
      "import math\n",
      "import re\n",
      "import sys\n",
      "reload(sys)\n",
      "sys.setdefaultencoding('utf-8')\n",
      "import simplejson\n",
      "\n",
      "# AFINN-111 is as of June 2011 the most recent version of AFINN\n",
      "filenameAFINN = 'AFINN-111.txt'\n",
      "afinn = dict(map(lambda (w, s): (w, int(s)), [ \n",
      "            ws.strip().split('\\t') for ws in open(filenameAFINN) ]))\n",
      "\n",
      "# Word splitter pattern\n",
      "pattern_split = re.compile(r\"\\W+\")\n",
      "\n",
      "def sentiment(text):\n",
      "    \"\"\"\n",
      "    Returns a float for sentiment strength based on the input text.\n",
      "    Positive values are positive valence, negative value are negative valence. \n",
      "    \"\"\"\n",
      "    words = pattern_split.split(text.lower())\n",
      "    sentiments = map(lambda word: afinn.get(word, 0), words)\n",
      "    if sentiments:\n",
      "        # How should you weight the individual word sentiments? \n",
      "        # You could do N, sqrt(N) or 1 for example. Here I use sqrt(N)\n",
      "        sentiment = float(sum(sentiments))/math.sqrt(len(sentiments))\n",
      "        \n",
      "    else:\n",
      "        sentiment = 0\n",
      "    return sentiment\n",
      "\n",
      "\n",
      "\n",
      "if __name__ == '__main__':\n",
      "    # Single sentence example:\n",
      "    text = \"Finn is stupid and idiotic\"\n",
      "    print(\"%6.2f %s\" % (sentiment(text), text))\n",
      "    \n",
      "    # No negation and booster words handled in this approach\n",
      "    text = \"Finn is only a tiny bit stupid and not idiotic\"\n",
      "    print(\"%6.2f %s\" % (sentiment(text), text))\n",
      "\n",
      "\n",
      "    \n",
      "\n",
      "\n"
     ],
     "language": "python",
     "metadata": {},
     "outputs": [],
     "prompt_number": 104
    },
    {
     "cell_type": "code",
     "collapsed": false,
     "input": [
      "sents = [sentiment(d) for d in comments]\n"
     ],
     "language": "python",
     "metadata": {},
     "outputs": [],
     "prompt_number": 105
    },
    {
     "cell_type": "code",
     "collapsed": false,
     "input": [
      "sents[45996]\n",
      "comments[45966]\n",
      "next((x for x in sents if x == myarray.min()), None)\n",
      "\n",
      "\n",
      "[i for i, j in enumerate(sents) if j == myarray.min()]\n",
      "\n",
      "comments[46039]"
     ],
     "language": "python",
     "metadata": {},
     "outputs": [
      {
       "metadata": {},
       "output_type": "pyout",
       "prompt_number": 140,
       "text": [
        "'7521621799.txt\\nfuck you-fuck you-fuck you-fuck you-fuck you-fuck you-fuck you-fuck you-fuck \\nyou-fuck you-fuck you-fuck you-fuck you-fuck you-fuck you-fuck you-fuck you-fuck \\nyou-fuck you-fuck you-fuck you-fuck you-fuck you-fuck you-fuck you-fuck you-fuck \\nyou-fuck you-fuck you-fuck you-fuck you-fuck you-fuck you-fuck you-fuck you-fuck \\nyou-fuck you-fuck you-fuck you-fuck you-fuck you-fuck you-fuck you-fuck you-fuck \\nyou-fuck you-fuck you-fuck you-fuck you-fuck you-fuck you-fuck you-fuck you-fuck \\nyou-fuck you-fuck you-fuck you-fuck you-fuck you-fuck you-fuck you-fuck you-fuck \\nyou-fuck you-fuck you-fuck you-fuck you-fuck you-fuck you-fuck you-fuck you-fuck \\nyou-fuck you-fuck you-fuck you-fuck you-fuck you-fuck you-fuck you-fuck you-fuck \\nyou-fuck you-fuck you-fuck you-fuck you- bitch ass motherfuckers give us free net.\\npage NUM_tag \\n'"
       ]
      }
     ],
     "prompt_number": 140
    },
    {
     "cell_type": "code",
     "collapsed": false,
     "input": [
      "from pylab import *\n",
      "\n",
      "myarray = np.asarray(sents) \n",
      "boxplot(myarray)"
     ],
     "language": "python",
     "metadata": {},
     "outputs": [
      {
       "metadata": {},
       "output_type": "pyout",
       "prompt_number": 106,
       "text": [
        "{'boxes': [<matplotlib.lines.Line2D at 0x118462450>],\n",
        " 'caps': [<matplotlib.lines.Line2D at 0x118a8ccd0>,\n",
        "  <matplotlib.lines.Line2D at 0x118b5fed0>],\n",
        " 'fliers': [<matplotlib.lines.Line2D at 0x118a868d0>,\n",
        "  <matplotlib.lines.Line2D at 0x118b65590>],\n",
        " 'medians': [<matplotlib.lines.Line2D at 0x118a86f50>],\n",
        " 'whiskers': [<matplotlib.lines.Line2D at 0x118a8dc50>,\n",
        "  <matplotlib.lines.Line2D at 0x118a8db90>]}"
       ]
      },
      {
       "metadata": {},
       "output_type": "display_data",
       "png": "[encoded data removed]",
       "text": [
        "<matplotlib.figure.Figure at 0x11009c190>"
       ]
      }
     ],
     "prompt_number": 106
    },
    {
     "cell_type": "code",
     "collapsed": false,
     "input": [
      "myarray.mean(), myarray.max(), myarray.min()"
     ],
     "language": "python",
     "metadata": {},
     "outputs": [
      {
       "metadata": {},
       "output_type": "pyout",
       "prompt_number": 109,
       "text": [
        "(0.012925211139514541, 3.5521869976484162, -25.795476219806321)"
       ]
      }
     ],
     "prompt_number": 109
    },
    {
     "cell_type": "code",
     "collapsed": false,
     "input": [
      "unique_sents = unique(myarray)\n",
      "len(unique_sents), len(myarray)"
     ],
     "language": "python",
     "metadata": {},
     "outputs": [
      {
       "metadata": {},
       "output_type": "pyout",
       "prompt_number": 144,
       "text": [
        "(4232, 46719)"
       ]
      }
     ],
     "prompt_number": 144
    },
    {
     "cell_type": "code",
     "collapsed": false,
     "input": [
      "state_array = np.asarray(states) "
     ],
     "language": "python",
     "metadata": {},
     "outputs": [],
     "prompt_number": 112
    },
    {
     "cell_type": "code",
     "collapsed": false,
     "input": [
      "state_array"
     ],
     "language": "python",
     "metadata": {},
     "outputs": [
      {
       "metadata": {},
       "output_type": "pyout",
       "prompt_number": 113,
       "text": [
        "array(['GA', 'VA', 'GA', ..., 'CA', 'SC', 'CA'], dtype=object)"
       ]
      }
     ],
     "prompt_number": 113
    },
    {
     "cell_type": "code",
     "collapsed": false,
     "input": [
      "len(state_array)"
     ],
     "language": "python",
     "metadata": {},
     "outputs": [
      {
       "metadata": {},
       "output_type": "pyout",
       "prompt_number": 114,
       "text": [
        "46719"
       ]
      }
     ],
     "prompt_number": 114
    },
    {
     "cell_type": "code",
     "collapsed": false,
     "input": [
      "len(myarray)"
     ],
     "language": "python",
     "metadata": {},
     "outputs": [
      {
       "metadata": {},
       "output_type": "pyout",
       "prompt_number": 115,
       "text": [
        "46719"
       ]
      }
     ],
     "prompt_number": 115
    },
    {
     "cell_type": "code",
     "collapsed": false,
     "input": [
      "blob = pd.DataFrame(state_array,myarray)"
     ],
     "language": "python",
     "metadata": {},
     "outputs": [],
     "prompt_number": 117
    },
    {
     "cell_type": "code",
     "collapsed": false,
     "input": [
      "blob.to_csv('blob.csv')"
     ],
     "language": "python",
     "metadata": {},
     "outputs": [],
     "prompt_number": 119
    },
    {
     "cell_type": "code",
     "collapsed": false,
     "input": [],
     "language": "python",
     "metadata": {},
     "outputs": []
    }
   ],
   "metadata": {}
  }
 ]
}